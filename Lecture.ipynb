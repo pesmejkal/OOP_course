{
 "cells": [
  {
   "cell_type": "markdown",
   "id": "063d951c-096c-482e-b3c3-7597c0240029",
   "metadata": {},
   "source": [
    "# Co je objektově orientované programování\n",
    "Objektově orientové programování anglicky **Object oriented programming (OOP)** je specifické programovácí paradigma založené na konceptu objektů, které mohou obsahovat data a kód. Cílem je vytvořit odpovídající objekty, které spolu komunikují tak, aby vyřešili dané zadání. \n",
    "\n",
    "Další informace:\n",
    "- [Object-oriented programming](https://en.wikipedia.org/wiki/Object-oriented_programming)\n",
    "- [Objektově orientované -programování](https://cs.wikipedia.org/wiki/Objektov%C4%9B_orientovan%C3%A9_programov%C3%A1n%C3%AD)\n",
    "\n",
    "## Programovací paradigma\n",
    "Programovácí paradigma je způsob klasifikování programovacích jazyků na základě jejich vlastností, které jsou dány tím jak nad programováním přemýšlíme.\n",
    "\n",
    "Běžná programovací paradigmata jsou:\n",
    "- Imperativní\n",
    "    - Procedurální\n",
    "    - Objektově orientované programování\n",
    "- Deklarativní\n",
    "    - funkcionální\n",
    "    - Logické\n",
    "    - reaktivní\n",
    "\n",
    "Programovací jazyky často naplňují více paradigmat například OOP a procedurální.\n",
    "\n",
    "Další informace:\n",
    "- [Programming paradigm](https://en.wikipedia.org/wiki/Programming_paradigm)\n",
    "- [Programovací paradigma](https://cs.wikipedia.org/wiki/Programovac%C3%AD_paradigma)\n",
    "    \n",
    "# Objekt\n",
    "Objektem často bývá zjednodušená reprezentace věcí reálného světa (auto, monitor, strom, klávesnice, účetní, zaměstnanec).\n",
    "\n",
    "Objekt obsahuje:\n",
    "* data (atributy, vlastnosti, hodnoty)\n",
    "* metody/funkce, které můžou s daty pracovat (číst, měnit) \n",
    "\n",
    "Hodně jazyků jako je například Python, Java, C# mají OOP postavené na [třídách](https://en.wikipedia.org/wiki/Class-based_programming).\n",
    "**Třída (class)** je vzor/šablona pro vytvoření objekt. Často se v těchto jazycích objektu říká **instance** třídy.\n",
    "\n",
    "<img src=\"ClassVsObject.png\" width=\"600\">\n",
    "\n",
    "Ale například javaScript používají [prototypování](https://en.wikipedia.org/wiki/Prototype-based_programming) pro vytváření objektů.\n",
    "\n",
    "\n",
    "## Tvoříme první objekt"
   ]
  },
  {
   "cell_type": "code",
   "execution_count": 1,
   "id": "61fd1e39-036c-4f65-bc97-9ffbec31ab2c",
   "metadata": {},
   "outputs": [
    {
     "name": "stdout",
     "output_type": "stream",
     "text": [
      "<__main__.Auto object at 0x000001C9F4E978B0>\n"
     ]
    }
   ],
   "source": [
    "class Auto:\n",
    "    \n",
    "    def print(self) -> None:\n",
    "        print(\"Auto značky Volvo\")\n",
    "    \n",
    "volvo = Auto()\n",
    "print(volvo)"
   ]
  },
  {
   "cell_type": "markdown",
   "id": "40f5c129-810b-4386-a6c1-8a1de5bf208a",
   "metadata": {},
   "source": [
    "V předchozím kódu jsme vytvořili jeden objekt z třídy Auto a uložili do proměné **volvo**.\n",
    "Pokud, ale vytiskneme proměnou **volvo** zjistíme, že nenese **hodnotu**, ale jedná se o **referenci** na **objekt třídy Auto** na adrese **0x................**. Na následujícím obrázku můžete vidět jak to vypadá v paměti.\n",
    "\n",
    "<img src=\"SimpleCarExecution.png\" width=\"600\">\n",
    "\n",
    "[Visualizovaná exekuce předchozího kódu](https://pythontutor.com/visualize.html#code=class%20Auto%3A%0A%20%20%20%20%0A%20%20%20%20def%20print%28self%29%20-%3E%20None%3A%0A%20%20%20%20%20%20%20%20print%28f%22Auto%20zna%C4%8Dky%20Volvo%22%29%0A%20%20%20%20%0Avolvo%20%3D%20Auto%28%29%0Aprint%28volvo%29&cumulative=false&curInstr=3&heapPrimitives=nevernest&mode=display&origin=opt-frontend.js&py=3&rawInputLstJSON=%5B%5D&textReferences=false)"
   ]
  },
  {
   "cell_type": "markdown",
   "id": "6d227fcd-47e1-4c5b-b546-75c8351bbc2a",
   "metadata": {},
   "source": [
    "### Přístup k datům a funkcím objektu\n",
    "Vzhledem k tomu, že pracujeme s proměnou, která nás odkazuje na objekt, ale my chceme pracovat s daty nebo funkcemi daného objektu je třeba použít příslušný operátor v Python, Java se jedná o tečku '.', ale můžete se setkat v jiných jazycích s '->', '=>'. "
   ]
  },
  {
   "cell_type": "code",
   "execution_count": 2,
   "id": "d7d23f2d-59a7-4d0d-bed0-38ec8dc53eef",
   "metadata": {},
   "outputs": [
    {
     "name": "stdout",
     "output_type": "stream",
     "text": [
      "Auto značky Volvo\n"
     ]
    }
   ],
   "source": [
    "volvo.print()"
   ]
  },
  {
   "cell_type": "markdown",
   "id": "0333b786-dd9b-4126-8c73-ba03f4e6acc0",
   "metadata": {},
   "source": [
    "### Vlastnosti třídy\n",
    "Mít objekty třídy, které dělají vždy to samé není užitečné a proto tam přidáme variabilitu. \n",
    "V našem případě uděláme značku vozidla variabilní.\n",
    "\n",
    "Můžeme vybrat ze dvou možností:\n",
    "- **třídní atribut**, který je sdílený všemi objekty\n",
    "- **instanční atribut**, který patří pouze danému objektu"
   ]
  },
  {
   "cell_type": "code",
   "execution_count": 3,
   "id": "17809492-93c7-4e09-a888-0fb20d1c8de4",
   "metadata": {},
   "outputs": [
    {
     "name": "stdout",
     "output_type": "stream",
     "text": [
      "Zavolání auto.print() vyhodí AttributeError, protože attribute znacka neexistuje\n",
      "\n",
      "Vytvoříme třídní atribut s hodnotou \"Volvo\"\n",
      "auto: Volvo\n",
      "auto2: Volvo\n",
      "Oba objekty jsou značky \"Volvo\"\n",
      "\n",
      "Změníme třídní atribut na hodnotu \"Audi\"\n",
      "auto: Audi\n",
      "auto2: Audi\n",
      "Oba objekty jsou značky \"Audi\"\n",
      "\n",
      "Vytvoříme instanční atribut \"znacka\" s hodnotou \"Nissan\" v objektu \"auto\"\n",
      "auto: Nissan\n",
      "auto2: Audi\n",
      "Došlo pouze ke změně objektu \"auto\" na značku \"Audi\"\n",
      "\n",
      "Změníme třídní atribut na hodnotu \"Volvo\"\n",
      "auto: Nissan\n",
      "auto2: Volvo\n",
      "Došlo pouze ke změně objektu \"auto2\" bez instančního atributu na značku \"Volvo\"\n"
     ]
    }
   ],
   "source": [
    "class Auto:\n",
    "    \n",
    "    def print(self, jmeno: str) -> None:\n",
    "        print(f\"{jmeno}: {self.znacka}\")\n",
    "    \n",
    "\n",
    "auto = Auto()\n",
    "auto2 = Auto()\n",
    "print(\"Zavolání auto.print() vyhodí AttributeError, protože attribute znacka neexistuje\")\n",
    "#auto.print()\n",
    "#auto2.print()\n",
    "      \n",
    "print(\"\\nVytvoříme třídní atribut s hodnotou \\\"Volvo\\\"\")\n",
    "Auto.znacka = \"Volvo\" # S třídním parametrem pracujeme přes třídu [A]uto.znacka\n",
    "auto.print(\"auto\")\n",
    "auto2.print(\"auto2\")\n",
    "print(\"Oba objekty jsou značky \\\"Volvo\\\"\")\n",
    "\n",
    "print(\"\\nZměníme třídní atribut na hodnotu \\\"Audi\\\"\")      \n",
    "Auto.znacka = \"Audi\"\n",
    "auto.print(\"auto\")\n",
    "auto2.print(\"auto2\")\n",
    "print(\"Oba objekty jsou značky \\\"Audi\\\"\")\n",
    "\n",
    "print(\"\\nVytvoříme instanční atribut \\\"znacka\\\" s hodnotou \\\"Nissan\\\" v objektu \\\"auto\\\"\")           \n",
    "auto.znacka = \"Nissan\" # S instančním parametrem pracujeme přes objekt [a]uto.znacka\n",
    "auto.print(\"auto\")\n",
    "auto2.print(\"auto2\")\n",
    "print(\"Došlo pouze ke změně objektu \\\"auto\\\" na značku \\\"Audi\\\"\")\n",
    "\n",
    "\n",
    "print(\"\\nZměníme třídní atribut na hodnotu \\\"Volvo\\\"\")           \n",
    "Auto.znacka = \"Volvo\"\n",
    "auto.print(\"auto\")\n",
    "auto2.print(\"auto2\")\n",
    "print(\"Došlo pouze ke změně objektu \\\"auto2\\\" bez instančního atributu na značku \\\"Volvo\\\"\")"
   ]
  },
  {
   "cell_type": "markdown",
   "id": "022492a2-3210-4b6d-9423-5f521a426a9d",
   "metadata": {
    "tags": []
   },
   "source": [
    "\n",
    "[Visualizovaná exekuce předchozího kódu](https://pythontutor.com/visualize.html#code=class%20Auto%3A%0A%20%20%20%20%0A%20%20%20%20def%20print%28self,%20jmeno%3A%20str%29%20-%3E%20None%3A%0A%20%20%20%20%20%20%20%20print%28f%22%7Bjmeno%7D%3A%20%7Bself.znacka%7D%22%29%0A%20%20%20%20%0A%0Aauto%20%3D%20Auto%28%29%0Aauto2%20%3D%20Auto%28%29%0Aprint%28%22Zavol%C3%A1n%C3%AD%20auto.print%28%29%20vyhod%C3%AD%20AttributeError,%20proto%C5%BEe%20attribute%20znacka%20neexistuje%22%29%0A%23auto.print%28%29%0A%23auto2.print%28%29%0A%20%20%20%20%20%20%0Aprint%28%22%5CnVytvo%C5%99%C3%ADme%20t%C5%99%C3%ADdn%C3%AD%20atribut%20s%20hodnotou%20%5C%22Volvo%5C%22%22%29%0AAuto.znacka%20%3D%20%22Volvo%22%0Aauto.print%28%22auto%22%29%0Aauto2.print%28%22auto2%22%29%0Aprint%28%22Oba%20objekty%20jsou%20zna%C4%8Dky%20%5C%22Volvo%5C%22%22%29%0A%0Aprint%28%22%5CnZm%C4%9Bn%C3%ADme%20t%C5%99%C3%ADdn%C3%AD%20atribut%20na%20hodnotu%20%5C%22Audi%5C%22%22%29%20%20%20%20%20%20%0AAuto.znacka%20%3D%20%22Audi%22%0Aauto.print%28%22auto%22%29%0Aauto2.print%28%22auto2%22%29%0Aprint%28%22Oba%20objekty%20jsou%20zna%C4%8Dky%20%5C%22Audi%5C%22%22%29%0A%0Aprint%28%22%5CnVytvo%C5%99%C3%ADme%20instan%C4%8Dn%C3%AD%20atribut%20%5C%22znacka%5C%22%20s%20hodnotou%20%5C%22Nissan%5C%22%20v%20objektu%20%5C%22auto%5C%22%22%29%20%20%20%20%20%20%20%20%20%20%20%0Aauto.znacka%20%3D%20%22Nissan%22%0Aauto.print%28%22auto%22%29%0Aauto2.print%28%22auto2%22%29%0Aprint%28%22Do%C5%A1lo%20pouze%20ke%20zm%C4%9Bn%C4%9B%20objektu%20%5C%22auto%5C%22%20na%20zna%C4%8Dku%20%5C%22Audi%5C%22%22%29%0A%0A%0Aprint%28%22%5CnZm%C4%9Bn%C3%ADme%20t%C5%99%C3%ADdn%C3%AD%20atribut%20na%20hodnotu%20%5C%22Volvo%5C%22%22%29%20%20%20%20%20%20%20%20%20%20%20%0AAuto.znacka%20%3D%20%22Volvo%22%0Aauto.print%28%22auto%22%29%0Aauto2.print%28%22auto2%22%29%0Aprint%28%22Do%C5%A1lo%20pouze%20ke%20zm%C4%9Bn%C4%9B%20objektu%20%5C%22auto2%5C%22%20bez%20instan%C4%8Dn%C3%ADho%20atributu%20na%20zna%C4%8Dku%20%5C%22Volvo%5C%22%22%29&cumulative=false&curInstr=48&heapPrimitives=nevernest&mode=display&origin=opt-frontend.js&py=3&rawInputLstJSON=%5B%5D&textReferences=false)\n",
    "\n"
   ]
  },
  {
   "cell_type": "markdown",
   "id": "505e20d4-aab6-4e93-9c20-51884785baea",
   "metadata": {
    "tags": []
   },
   "source": [
    "V předchozích kódu si můžete všimnout použití klíčového slova **self**, který slouží pro přístup k datům volaného objektu a je nutného ho pužít vždy, když pracujete s daty daného objektu. **Daným operátorem vlastně říkate, jdi na místo kam odkazuje daná hodnota.**  V jiných jazycích se můžete setkat s klíčovým slovem **this**."
   ]
  },
  {
   "cell_type": "markdown",
   "id": "fb425c92-a5c1-4986-8b78-79474f64c0f4",
   "metadata": {},
   "source": [
    "#### Jak to vypadá v paměti\n",
    "<img src=\"CarDifferenceOfAttributes.png\" width=\"600\">\n",
    "\n",
    "- Objekt **auto má uložen** v paměti instanční atribut\n",
    "- Objekt **auto2 nemá uložen** v paměti instanční atribut a proto **je použit** třídní atribut\n",
    "\n",
    "#### Kdy mám co použít?\n",
    "Nejčastěji je vhodné využít **třídní atribut** pro:\n",
    "- Konstantu stejnou pro všechny objekty\n",
    "    - Název serveru, na který budu posílat požadavek\n",
    "    - Matematické konstanty, například číslo Pí\n",
    "    - Minimální věk uživatele\n",
    "    - ...\n",
    "- Výchozí hodnoty\n",
    "    - Počet kol auta\n",
    "    - Počet dveří auta\n",
    "    - Počet pokusů při selhání připojení na server\n",
    "    - Doba čekání před další pokusem o připojení\n",
    "    - ...\n",
    "\n",
    "Jinak bych volil přednostně volil **instanční atribut**.\n",
    "\n",
    "V našem případě značka auta není konstatou a ani ji nechci použít jako výchozí hodnotu."
   ]
  },
  {
   "cell_type": "code",
   "execution_count": 4,
   "id": "04d0d9a1-034d-4b9c-a05e-9e1fa4400844",
   "metadata": {},
   "outputs": [
    {
     "name": "stdout",
     "output_type": "stream",
     "text": [
      "Auto značky Volvo\n"
     ]
    }
   ],
   "source": [
    "class Auto:\n",
    "    \n",
    "    def print(self) -> None:\n",
    "        print(f\"Auto značky {self.znacka}\")\n",
    "    \n",
    "\n",
    "auto = Auto()\n",
    "auto.znacka = \"Volvo\"\n",
    "auto.print()"
   ]
  },
  {
   "cell_type": "markdown",
   "id": "8f66a33d-f9cd-433c-bb6c-514f7a6a2427",
   "metadata": {},
   "source": [
    "### Inicializace vlastností objektu\n",
    "V předchozí sekci jsme atributy nastavovali přes Třídu nebo objekt. To není šikovné a ani správné, proto využijeme inicializace vlastností přímo v třídě.\n",
    "\n",
    "#### Inicializace třídního atributu\n",
    "Třídí atributy uvádíme v třídě jako první."
   ]
  },
  {
   "cell_type": "code",
   "execution_count": 5,
   "id": "433d75ca-3eef-49c5-9dcd-3376347a83fa",
   "metadata": {},
   "outputs": [
    {
     "name": "stdout",
     "output_type": "stream",
     "text": [
      "Auto značky Volvo\n"
     ]
    }
   ],
   "source": [
    "class Auto:\n",
    "    znacka: str = \"Volvo\"\n",
    "    \n",
    "    def print(self) -> None:\n",
    "        print(f\"Auto značky {self.znacka}\")\n",
    "\n",
    "Auto().print()"
   ]
  },
  {
   "cell_type": "markdown",
   "id": "0d732f7d-6e08-41ae-b05e-802dbb6b72bd",
   "metadata": {},
   "source": [
    "#### Inicializace instančního atributu\n",
    "- Instanční atribut inicializujeme v metodě **\\_\\_init\\_\\_**.\n",
    "- Metodu **\\_\\_init\\_\\_** můžeme vynechat pokud nechceme použít instanční atributy\n",
    "- Jedná se o equvivalent konstruktorů v jiných jazycích"
   ]
  },
  {
   "cell_type": "code",
   "execution_count": 6,
   "id": "f8d330aa-182b-4156-9e62-222963b5efe2",
   "metadata": {},
   "outputs": [
    {
     "name": "stdout",
     "output_type": "stream",
     "text": [
      "Auto značky Volvo\n"
     ]
    }
   ],
   "source": [
    "class Auto:\n",
    "    \n",
    "    def __init__(self):\n",
    "        self.znacka = \"Volvo\"\n",
    "    \n",
    "    def print(self) -> None:\n",
    "        print(f\"Auto značky {self.znacka}\")\n",
    "\n",
    "Auto().print()"
   ]
  },
  {
   "cell_type": "markdown",
   "id": "161dfbf7-8de8-407c-91a3-ae29cd7d43b7",
   "metadata": {},
   "source": [
    "Pokud bychom chtěli vytvořit objekt jiné značky auta, museli bychom po vytvoření objektu atribut změnit. Lepší řešením je tuto hodnotu nastavit při inicializaci."
   ]
  },
  {
   "cell_type": "code",
   "execution_count": 7,
   "id": "66f8f35a-8ecb-4013-8245-f1975024e67d",
   "metadata": {},
   "outputs": [
    {
     "name": "stdout",
     "output_type": "stream",
     "text": [
      "Auto značky Volvo\n",
      "Auto značky Audi\n",
      "Auto značky Nissan\n"
     ]
    }
   ],
   "source": [
    "class Auto:\n",
    "    \n",
    "    def __init__(self, znacka: str):\n",
    "        self.znacka = znacka\n",
    "    \n",
    "    def print(self) -> None:\n",
    "        print(f\"Auto značky {self.znacka}\")\n",
    "\n",
    "volvo = Auto(\"Volvo\")\n",
    "volvo.print()\n",
    "\n",
    "audi = Auto(\"Audi\")\n",
    "audi.print()\n",
    "\n",
    "nissan = Auto(\"Nissan\")\n",
    "nissan.print()"
   ]
  },
  {
   "cell_type": "markdown",
   "id": "f91b63ad-3f89-4683-90cd-2e5d32d6a31b",
   "metadata": {},
   "source": [
    "[Visualizovaná exekuce předchozího kódu](https://pythontutor.com/visualize.html#code=class%20Auto%3A%0A%20%20%20%20%0A%20%20%20%20def%20__init__%28self,%20znacka%3A%20str%29%3A%0A%20%20%20%20%20%20%20%20self.znacka%20%3D%20znacka%0A%20%20%20%20%0A%20%20%20%20def%20print%28self%29%20-%3E%20None%3A%0A%20%20%20%20%20%20%20%20print%28f%22Auto%20zna%C4%8Dky%20%7Bself.znacka%7D%22%29%0A%0Avolvo%20%3D%20Auto%28%22Volvo%22%29%0Avolvo.print%28%29%0A%0Aaudi%20%3D%20Auto%28%22Audi%22%29%0Aaudi.print%28%29%0A%0Anissan%20%3D%20Auto%28%22Nissan%22%29%0Anissan.print%28%29&cumulative=false&curInstr=25&heapPrimitives=nevernest&mode=display&origin=opt-frontend.js&py=3&rawInputLstJSON=%5B%5D&textReferences=false)\n",
    "\n",
    "#### Ochrana přístupu k vlastnostem objektu\n",
    "Jsou případy, kdy chceme některé vlastnosti objektu ochránit před změnou nebo špatnou manipulací. Příkladem může být objem nádrže automobilu, který nemůže být menší než nula nebo při tankování doplnit více než je maximum, ale nám nic nebrání v tom to nastavit.\n"
   ]
  },
  {
   "cell_type": "markdown",
   "id": "11859574-456c-483e-a8fa-3b10eb3be468",
   "metadata": {},
   "source": [
    "##### Pomocí konvence\n",
    "Některé jazyky (Java, TypeScript, C#, ...) mají modifikátory přístupu ([Access modifiers](https://en.wikipedia.org/wiki/Access_modifiers)), které nám umožňují schovat atribut objektu před vnějším použitím, Python to bohužel neumí.\n",
    "\n",
    "Proto **existuje konvence použití podtržítka \\\"_\\\" před názvem atributu**.\n",
    "Tato konvence říká, že atribut je **interní, ale nic nebrání jejímu použití**. "
   ]
  },
  {
   "cell_type": "code",
   "execution_count": 1,
   "id": "8ef2f579-30d6-41e9-b6b7-79a0432d1aab",
   "metadata": {},
   "outputs": [
    {
     "name": "stdout",
     "output_type": "stream",
     "text": [
      "Auto značky Volvo s objemem nádrže 70 litrů\n",
      "Auto značky Volvo s objemem nádrže -10 litrů\n"
     ]
    }
   ],
   "source": [
    "class Auto:\n",
    "    \n",
    "    def __init__(self, znacka: str, objem_nadrze: int):\n",
    "        self.znacka = znacka\n",
    "        \n",
    "        assert objem_nadrze > 0, \"Objem nádrže nesmí být menší než 0\"\n",
    "        self._objem_nadrze = objem_nadrze\n",
    "    \n",
    "    def print(self) -> None:\n",
    "        print(f\"Auto značky {self.znacka} s objemem nádrže {self._objem_nadrze} litrů\")\n",
    "\n",
    "#auto = Auto(\"Volvo\", -5); # Vyhodí chybu AssertionError: Objem nádrže nesmí být menší než 0\n",
    "auto = Auto(\"Volvo\", 70);\n",
    "auto.print()\n",
    "\n",
    "auto._objem_nadrze = -10\n",
    "auto.print()"
   ]
  },
  {
   "cell_type": "markdown",
   "id": "a229dfa5-8b0c-4103-9c73-bc3bebf56dda",
   "metadata": {},
   "source": [
    "- Také **existuje konvence použití dvou podtržítek \\\"__\\\" před názvem atributu**.\n",
    "- Tato konvence říká, že atribut je **chráněný, ale i tak se dá použít**.\n",
    "- Interpret nám nezpřístupní daný atribut, ale dojde k jeho přejmenování na **\\\"_Auto__objemNadrze\\\"**.\n",
    "- Je možné si dohledat atributy instance zobrazením slovníku auto.**\\_\\_dict\\_\\_**"
   ]
  },
  {
   "cell_type": "code",
   "execution_count": 2,
   "id": "f6261077-def5-45b0-ad89-366073a83dcc",
   "metadata": {},
   "outputs": [
    {
     "name": "stdout",
     "output_type": "stream",
     "text": [
      "{'znacka': 'Volvo', '_Auto__objem_nadrze': 70}\n",
      "Auto značky Volvo s objemem nádrže 70 litrů\n",
      "Auto značky Volvo s objemem nádrže 70 litrů\n",
      "Auto značky Volvo s objemem nádrže -10 litrů\n"
     ]
    }
   ],
   "source": [
    "class Auto:\n",
    "    \n",
    "    def __init__(self, znacka: str, objem_nadrze: int):\n",
    "        self.znacka = znacka\n",
    "        \n",
    "        assert objem_nadrze > 0, \"Objem nádrže nesmí být menší než 0\"\n",
    "        self.__objem_nadrze = objem_nadrze\n",
    "    \n",
    "    def print(self) -> None:\n",
    "        print(f\"Auto značky {self.znacka} s objemem nádrže {self.__objem_nadrze} litrů\")\n",
    "\n",
    "auto = Auto(\"Volvo\", 70);\n",
    "print(auto.__dict__)\n",
    "auto.print()\n",
    "\n",
    "auto.__objem_nadrze = -10\n",
    "auto.print()\n",
    "\n",
    "auto._Auto__objem_nadrze = -10\n",
    "auto.print()"
   ]
  },
  {
   "cell_type": "markdown",
   "id": "3cd7b9b7-4826-4df8-9682-54c6a9769fa2",
   "metadata": {},
   "source": [
    "##### Pomocí metod\n",
    "V Jazycích, kde fungují modifikátory přístupu se často používájí get a set metody.\n",
    "A veškerá manipulace atributů probíhá skrze tyto metody. "
   ]
  },
  {
   "cell_type": "code",
   "execution_count": 11,
   "id": "88613b14-3847-49a9-8db6-cc1b4f7c1996",
   "metadata": {},
   "outputs": [
    {
     "name": "stdout",
     "output_type": "stream",
     "text": [
      "Auto značky Volvo s objemem nádrže 70 litrů\n",
      "Objem nádrže je 55 litrů\n",
      "Auto značky Volvo s objemem nádrže -10 litrů\n"
     ]
    }
   ],
   "source": [
    "class Auto:\n",
    "    \n",
    "    def __init__(self, znacka: str, objemNadrze: int):\n",
    "        self.znacka = znacka\n",
    "        self.set_objem_nadrze(objemNadrze)\n",
    "        \n",
    "    def set_objem_nadrze(self, objem_nadrze: int):\n",
    "        assert objem_nadrze > 0, \"Objem nádrže nesmí být menší než 0\"\n",
    "        self._objem_nadrze = objem_nadrze\n",
    "        \n",
    "    def get_objem_nadrze(self) -> int:\n",
    "        return self._objem_nadrze\n",
    "    \n",
    "    def print(self) -> None:\n",
    "        print(f\"Auto značky {self.znacka} s objemem nádrže {self._objem_nadrze} litrů\")\n",
    "\n",
    "auto = Auto(\"Volvo\", 70);\n",
    "auto.print()\n",
    "\n",
    "auto.set_objem_nadrze(55)\n",
    "print(f\"Objem nádrže je {auto.get_objem_nadrze()} litrů\")\n",
    "\n",
    "auto._objem_nadrze = -10\n",
    "auto.print()"
   ]
  },
  {
   "cell_type": "markdown",
   "id": "b4c86920-b180-42db-a960-7357ac91817d",
   "metadata": {},
   "source": [
    "Pokud bychom get/set metody přidávali do existujícího kódu. Bylo by dobré přepsat všechna použití a to by mohlo být náročné. Abychom to nemuseli dělat, můžeme použít funkci [**property**](). Tato funkce zajistí, že při jakémkoliv přístupu k atributu, dojde k zavolání get nebo set metody.\n",
    "\n",
    "**⚠️property musí mít jiný název než atribut jinak dojde k zacyklení!⚠️**"
   ]
  },
  {
   "cell_type": "code",
   "execution_count": 12,
   "id": "06e98fb8-2ea4-4b6f-846a-28de6119e230",
   "metadata": {},
   "outputs": [
    {
     "name": "stdout",
     "output_type": "stream",
     "text": [
      "Auto značky Volvo s objemem nádrže 70 litrů\n",
      "Objem nádrže je 55 litrů\n"
     ]
    }
   ],
   "source": [
    "class Auto:\n",
    "    \n",
    "    def __init__(self, znacka: str, objem_nadrze: int):\n",
    "        self.znacka = znacka\n",
    "        self.objem_nadrze = objem_nadrze\n",
    "        \n",
    "    def set_objem_nadrze(self, objem_nadrze: int):\n",
    "        assert objem_nadrze > 0, \"Objem nádrže nesmí být menší než 0\"\n",
    "        self._objem_nadrze = objem_nadrze\n",
    "        \n",
    "    def get_objem_nadrze(self) -> int:\n",
    "        return self._objem_nadrze\n",
    "    \n",
    "    def print(self) -> None:\n",
    "        print(f\"Auto značky {self.znacka} s objemem nádrže {self._objem_nadrze} litrů\")\n",
    "    \n",
    "    objem_nadrze = property(get_objem_nadrze, set_objem_nadrze)\n",
    "\n",
    "auto = Auto(\"Volvo\", 70);\n",
    "auto.print()\n",
    "\n",
    "auto.objem_nadrze = 55\n",
    "print(f\"Objem nádrže je {auto.objem_nadrze} litrů\")\n",
    "\n",
    "#auto.objem_nadrze = -10 # toto vyhodí chybu\n",
    "#auto.print()"
   ]
  },
  {
   "cell_type": "markdown",
   "id": "d3a6bc31-ae31-475c-9c52-1496157537cf",
   "metadata": {},
   "source": [
    "##### Pomocí metod s dekorátorem\n",
    "[Dekorátor](https://docs.python.org/3/glossary.html#term-decorator) je funkce vracející funkci a umožnuje nám přidat logiku k existující metodě.\n",
    "\n",
    "\n",
    "**⚠️getter decorátor musí mít dekalrován před setter decorátorem!⚠️**\\\n",
    "Jinak dostanete chybu **NameError: name 'objem_nadrze' is not defined**"
   ]
  },
  {
   "cell_type": "code",
   "execution_count": 13,
   "id": "17d7b927-83b4-41dd-a341-624444e98482",
   "metadata": {},
   "outputs": [
    {
     "name": "stdout",
     "output_type": "stream",
     "text": [
      "Auto značky Volvo s objemem nádrže 70 litrů\n",
      "Objem nádrže je 55 litrů\n"
     ]
    }
   ],
   "source": [
    "class Auto:\n",
    "    \n",
    "    def __init__(self, znacka: str, objem_nadrze: int):\n",
    "        self.znacka = znacka\n",
    "        self.objem_nadrze = objem_nadrze\n",
    "    \n",
    "    @property\n",
    "    def objem_nadrze(self) -> int:\n",
    "        return self._objem_nadrze\n",
    "    \n",
    "    @objem_nadrze.setter\n",
    "    def objem_nadrze(self, objem_nadrze: int):\n",
    "        assert objem_nadrze > 0, \"Objem nádrže nesmí být menší než 0\"\n",
    "        self._objem_nadrze = objem_nadrze\n",
    "    \n",
    "    def print(self) -> None:\n",
    "        print(f\"Auto značky {self.znacka} s objemem nádrže {self._objem_nadrze} litrů\")\n",
    "\n",
    "auto = Auto(\"Volvo\", 70);\n",
    "auto.print()\n",
    "\n",
    "auto.objem_nadrze = 55\n",
    "print(f\"Objem nádrže je {auto.objem_nadrze} litrů\")"
   ]
  },
  {
   "cell_type": "markdown",
   "id": "4db888a4-c148-4bcd-b789-55b1d5fb006b",
   "metadata": {},
   "source": [
    "todo fix naming conventions"
   ]
  }
 ],
 "metadata": {
  "kernelspec": {
   "display_name": "Python 3 (ipykernel)",
   "language": "python",
   "name": "python3"
  },
  "language_info": {
   "codemirror_mode": {
    "name": "ipython",
    "version": 3
   },
   "file_extension": ".py",
   "mimetype": "text/x-python",
   "name": "python",
   "nbconvert_exporter": "python",
   "pygments_lexer": "ipython3",
   "version": "3.10.5"
  }
 },
 "nbformat": 4,
 "nbformat_minor": 5
}

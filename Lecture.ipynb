{
 "cells": [
  {
   "cell_type": "markdown",
   "id": "063d951c-096c-482e-b3c3-7597c0240029",
   "metadata": {},
   "source": [
    "# Co je objektově orientované programování\n",
    "Objektově orientové programování anglicky **Object oriented programming (OOP)** je specifické programovácí paradigma založené na konceptu objektů, které mohou obsahovat data a kód. Cílem je vytvořit odpovídající objekty, které spolu komunikují tak, aby vyřešili dané zadání. \n",
    "\n",
    "Další informace:\n",
    "- [Object-oriented programming](https://en.wikipedia.org/wiki/Object-oriented_programming)\n",
    "- [Objektově orientované -programování](https://cs.wikipedia.org/wiki/Objektov%C4%9B_orientovan%C3%A9_programov%C3%A1n%C3%AD)\n",
    "\n",
    "## Programovací paradigma\n",
    "Programovácí paradigma je způsob klasifikování programovacích jazyků na základě jejich vlastností, které jsou dány tím jak nad programováním přemýšlíme.\n",
    "\n",
    "Běžná programovací paradigmata jsou:\n",
    "- Imperativní\n",
    "    - Procedurální\n",
    "    - Objektově orientované programování\n",
    "- Deklarativní\n",
    "    - funkcionální\n",
    "    - Logické\n",
    "    - reaktivní\n",
    "\n",
    "Programovací jazyky často naplňují více paradigmat například OOP a procedurální.\n",
    "\n",
    "Další informace:\n",
    "- [Programming paradigm](https://en.wikipedia.org/wiki/Programming_paradigm)\n",
    "- [Programovací paradigma](https://cs.wikipedia.org/wiki/Programovac%C3%AD_paradigma)\n",
    "    \n",
    "# Objekt\n",
    "Objektem často bývá zjednodušená reprezentace věcí reálného světa (auto, monitor, strom, klávesnice, účetní, zaměstnanec).\n",
    "\n",
    "Objekt obsahuje:\n",
    "* data (atributy, vlastnosti, hodnoty)\n",
    "* metody/funkce, které můžou s daty pracovat (číst, měnit) \n",
    "\n",
    "Hodně jazyků jako je například Python, Java, C# mají OOP postavené na [třídách](https://en.wikipedia.org/wiki/Class-based_programming).\n",
    "**Třída (class)** je vzor/šablona pro vytvoření objekt. Často se v těchto jazycích objektu říká **instance** třídy.\n",
    "\n",
    "<img src=\"ClassVsObject.png\" width=\"600\">\n",
    "\n",
    "Ale například javaScript používají [prototypování](https://en.wikipedia.org/wiki/Prototype-based_programming) pro vytváření objektů.\n",
    "\n",
    "\n",
    "## Tvoříme první objekt"
   ]
  },
  {
   "cell_type": "code",
   "execution_count": 1,
   "id": "61fd1e39-036c-4f65-bc97-9ffbec31ab2c",
   "metadata": {},
   "outputs": [
    {
     "name": "stdout",
     "output_type": "stream",
     "text": [
      "<__main__.Auto object at 0x0000018FF33D5CF0>\n"
     ]
    }
   ],
   "source": [
    "class Auto:\n",
    "    \n",
    "    def print(self) -> None:\n",
    "        print(\"Auto značky Volvo\")\n",
    "    \n",
    "volvo = Auto()\n",
    "print(volvo)"
   ]
  },
  {
   "cell_type": "markdown",
   "id": "40f5c129-810b-4386-a6c1-8a1de5bf208a",
   "metadata": {},
   "source": [
    "V předchozím kódu jsme vytvořili jeden objekt z třídy Auto a uložili do proměné **volvo**.\n",
    "Pokud, ale vytiskneme proměnou **volvo** zjistíme, že nenese **hodnotu**, ale jedná se o **referenci** na **objekt třídy Auto** na adrese **0x................**. Na následujícím obrázku můžete vidět jak to vypadá v paměti.\n",
    "\n",
    "<img src=\"SimpleCarExecution.png\" width=\"600\">\n",
    "\n",
    "[Visualizovaná exekuce předchozího kódu](https://pythontutor.com/visualize.html#code=class%20Auto%3A%0A%20%20%20%20%0A%20%20%20%20def%20print%28self%29%20-%3E%20None%3A%0A%20%20%20%20%20%20%20%20print%28f%22Auto%20zna%C4%8Dky%20Volvo%22%29%0A%20%20%20%20%0Avolvo%20%3D%20Auto%28%29%0Aprint%28volvo%29&cumulative=false&curInstr=3&heapPrimitives=nevernest&mode=display&origin=opt-frontend.js&py=3&rawInputLstJSON=%5B%5D&textReferences=false)"
   ]
  },
  {
   "cell_type": "markdown",
   "id": "6d227fcd-47e1-4c5b-b546-75c8351bbc2a",
   "metadata": {},
   "source": [
    "### Přístup k datům a funkcím objektu\n",
    "Vzhledem k tomu, že pracujeme s proměnou, která nás odkazuje na objekt, ale my chceme pracovat s daty nebo funkcemi daného objektu je třeba použít příslušný operátor v Python, Java se jedná o tečku '.', ale můžete se setkat v jiných jazycích s '->', '=>'. "
   ]
  },
  {
   "cell_type": "code",
   "execution_count": 2,
   "id": "d7d23f2d-59a7-4d0d-bed0-38ec8dc53eef",
   "metadata": {},
   "outputs": [
    {
     "name": "stdout",
     "output_type": "stream",
     "text": [
      "Auto značky Volvo\n"
     ]
    }
   ],
   "source": [
    "volvo.print()"
   ]
  },
  {
   "cell_type": "markdown",
   "id": "0333b786-dd9b-4126-8c73-ba03f4e6acc0",
   "metadata": {},
   "source": [
    "### Vlastnosti třídy\n",
    "Mít objekty třídy, které dělají vždy to samé není užitečné a proto tam přidáme variabilitu. \n",
    "V našem případě uděláme značku vozidla variabilní.\n",
    "\n",
    "Můžeme vybrat ze dvou možností:\n",
    "- **třídní atribut**, který je sdílený všemi objekty\n",
    "- **instanční atribut**, který patří pouze danému objektu"
   ]
  },
  {
   "cell_type": "code",
   "execution_count": 3,
   "id": "17809492-93c7-4e09-a888-0fb20d1c8de4",
   "metadata": {},
   "outputs": [
    {
     "name": "stdout",
     "output_type": "stream",
     "text": [
      "Zavolání auto.print() vyhodí AttributeError, protože attribute znacka neexistuje\n",
      "\n",
      "Vytvoříme třídní atribut s hodnotou \"Volvo\"\n",
      "auto: Volvo\n",
      "auto2: Volvo\n",
      "Oba objekty jsou značky \"Volvo\"\n",
      "\n",
      "Změníme třídní atribut na hodnotu \"Audi\"\n",
      "auto: Audi\n",
      "auto2: Audi\n",
      "Oba objekty jsou značky \"Audi\"\n",
      "\n",
      "Vytvoříme instanční atribut \"znacka\" s hodnotou \"Nissan\" v objektu \"auto\"\n",
      "auto: Nissan\n",
      "auto2: Audi\n",
      "Došlo pouze ke změně objektu \"auto\" na značku \"Audi\"\n",
      "\n",
      "Změníme třídní atribut na hodnotu \"Volvo\"\n",
      "auto: Nissan\n",
      "auto2: Volvo\n",
      "Došlo pouze ke změně objektu \"auto2\" bez instančního atributu na značku \"Volvo\"\n"
     ]
    }
   ],
   "source": [
    "class Auto:\n",
    "    \n",
    "    def print(self, jmeno: str) -> None:\n",
    "        print(f\"{jmeno}: {self.znacka}\")\n",
    "    \n",
    "\n",
    "auto = Auto()\n",
    "auto2 = Auto()\n",
    "print(\"Zavolání auto.print() vyhodí AttributeError, protože attribute znacka neexistuje\")\n",
    "#auto.print()\n",
    "#auto2.print()\n",
    "      \n",
    "print(\"\\nVytvoříme třídní atribut s hodnotou \\\"Volvo\\\"\")\n",
    "Auto.znacka = \"Volvo\" # S třídním parametrem pracujeme přes třídu [A]uto.znacka\n",
    "auto.print(\"auto\")\n",
    "auto2.print(\"auto2\")\n",
    "print(\"Oba objekty jsou značky \\\"Volvo\\\"\")\n",
    "\n",
    "print(\"\\nZměníme třídní atribut na hodnotu \\\"Audi\\\"\")      \n",
    "Auto.znacka = \"Audi\"\n",
    "auto.print(\"auto\")\n",
    "auto2.print(\"auto2\")\n",
    "print(\"Oba objekty jsou značky \\\"Audi\\\"\")\n",
    "\n",
    "print(\"\\nVytvoříme instanční atribut \\\"znacka\\\" s hodnotou \\\"Nissan\\\" v objektu \\\"auto\\\"\")           \n",
    "auto.znacka = \"Nissan\" # S instančním parametrem pracujeme přes objekt [a]uto.znacka\n",
    "auto.print(\"auto\")\n",
    "auto2.print(\"auto2\")\n",
    "print(\"Došlo pouze ke změně objektu \\\"auto\\\" na značku \\\"Audi\\\"\")\n",
    "\n",
    "\n",
    "print(\"\\nZměníme třídní atribut na hodnotu \\\"Volvo\\\"\")           \n",
    "Auto.znacka = \"Volvo\"\n",
    "auto.print(\"auto\")\n",
    "auto2.print(\"auto2\")\n",
    "print(\"Došlo pouze ke změně objektu \\\"auto2\\\" bez instančního atributu na značku \\\"Volvo\\\"\")"
   ]
  },
  {
   "cell_type": "markdown",
   "id": "022492a2-3210-4b6d-9423-5f521a426a9d",
   "metadata": {
    "tags": []
   },
   "source": [
    "\n",
    "[Visualizovaná exekuce předchozího kódu](https://pythontutor.com/visualize.html#code=class%20Auto%3A%0A%20%20%20%20%0A%20%20%20%20def%20print%28self,%20jmeno%3A%20str%29%20-%3E%20None%3A%0A%20%20%20%20%20%20%20%20print%28f%22%7Bjmeno%7D%3A%20%7Bself.znacka%7D%22%29%0A%20%20%20%20%0A%0Aauto%20%3D%20Auto%28%29%0Aauto2%20%3D%20Auto%28%29%0Aprint%28%22Zavol%C3%A1n%C3%AD%20auto.print%28%29%20vyhod%C3%AD%20AttributeError,%20proto%C5%BEe%20attribute%20znacka%20neexistuje%22%29%0A%23auto.print%28%29%0A%23auto2.print%28%29%0A%20%20%20%20%20%20%0Aprint%28%22%5CnVytvo%C5%99%C3%ADme%20t%C5%99%C3%ADdn%C3%AD%20atribut%20s%20hodnotou%20%5C%22Volvo%5C%22%22%29%0AAuto.znacka%20%3D%20%22Volvo%22%0Aauto.print%28%22auto%22%29%0Aauto2.print%28%22auto2%22%29%0Aprint%28%22Oba%20objekty%20jsou%20zna%C4%8Dky%20%5C%22Volvo%5C%22%22%29%0A%0Aprint%28%22%5CnZm%C4%9Bn%C3%ADme%20t%C5%99%C3%ADdn%C3%AD%20atribut%20na%20hodnotu%20%5C%22Audi%5C%22%22%29%20%20%20%20%20%20%0AAuto.znacka%20%3D%20%22Audi%22%0Aauto.print%28%22auto%22%29%0Aauto2.print%28%22auto2%22%29%0Aprint%28%22Oba%20objekty%20jsou%20zna%C4%8Dky%20%5C%22Audi%5C%22%22%29%0A%0Aprint%28%22%5CnVytvo%C5%99%C3%ADme%20instan%C4%8Dn%C3%AD%20atribut%20%5C%22znacka%5C%22%20s%20hodnotou%20%5C%22Nissan%5C%22%20v%20objektu%20%5C%22auto%5C%22%22%29%20%20%20%20%20%20%20%20%20%20%20%0Aauto.znacka%20%3D%20%22Nissan%22%0Aauto.print%28%22auto%22%29%0Aauto2.print%28%22auto2%22%29%0Aprint%28%22Do%C5%A1lo%20pouze%20ke%20zm%C4%9Bn%C4%9B%20objektu%20%5C%22auto%5C%22%20na%20zna%C4%8Dku%20%5C%22Audi%5C%22%22%29%0A%0A%0Aprint%28%22%5CnZm%C4%9Bn%C3%ADme%20t%C5%99%C3%ADdn%C3%AD%20atribut%20na%20hodnotu%20%5C%22Volvo%5C%22%22%29%20%20%20%20%20%20%20%20%20%20%20%0AAuto.znacka%20%3D%20%22Volvo%22%0Aauto.print%28%22auto%22%29%0Aauto2.print%28%22auto2%22%29%0Aprint%28%22Do%C5%A1lo%20pouze%20ke%20zm%C4%9Bn%C4%9B%20objektu%20%5C%22auto2%5C%22%20bez%20instan%C4%8Dn%C3%ADho%20atributu%20na%20zna%C4%8Dku%20%5C%22Volvo%5C%22%22%29&cumulative=false&curInstr=48&heapPrimitives=nevernest&mode=display&origin=opt-frontend.js&py=3&rawInputLstJSON=%5B%5D&textReferences=false)\n",
    "\n"
   ]
  },
  {
   "cell_type": "markdown",
   "id": "505e20d4-aab6-4e93-9c20-51884785baea",
   "metadata": {
    "tags": []
   },
   "source": [
    "V předchozích kódu si můžete všimnout použití klíčového slova **self**, který slouží pro přístup k datům volaného objektu a je nutného ho pužít vždy, když pracujete s daty daného objektu. **Daným operátorem vlastně říkate, jdi na místo kam odkazuje daná hodnota.**  V jiných jazycích se můžete setkat s klíčovým slovem **this**."
   ]
  },
  {
   "cell_type": "markdown",
   "id": "fb425c92-a5c1-4986-8b78-79474f64c0f4",
   "metadata": {},
   "source": [
    "#### Jak to vypadá v paměti\n",
    "<img src=\"CarDifferenceOfAttributes.png\" width=\"600\">\n",
    "\n",
    "- Objekt **auto má uložen** v paměti instanční atribut\n",
    "- Objekt **auto2 nemá uložen** v paměti instanční atribut a proto **je použit** třídní atribut\n",
    "\n",
    "#### Kdy mám co použít?\n",
    "Nejčastěji je vhodné využít **třídní atribut** pro:\n",
    "- Konstantu stejnou pro všechny objekty\n",
    "    - Název serveru, na který budu posílat požadavek\n",
    "    - Matematické konstanty, například číslo Pí\n",
    "    - Minimální věk uživatele\n",
    "    - ...\n",
    "- Výchozí hodnoty\n",
    "    - Počet kol auta\n",
    "    - Počet dveří auta\n",
    "    - Počet pokusů při selhání připojení na server\n",
    "    - Doba čekání před další pokusem o připojení\n",
    "    - ...\n",
    "\n",
    "Jinak bych volil přednostně volil **instanční atribut**.\n",
    "\n",
    "V našem případě značka auta není konstatou a ani ji nechci použít jako výchozí hodnotu."
   ]
  },
  {
   "cell_type": "code",
   "execution_count": 4,
   "id": "04d0d9a1-034d-4b9c-a05e-9e1fa4400844",
   "metadata": {},
   "outputs": [
    {
     "name": "stdout",
     "output_type": "stream",
     "text": [
      "Auto značky Volvo\n"
     ]
    }
   ],
   "source": [
    "class Auto:\n",
    "    \n",
    "    def print(self) -> None:\n",
    "        print(f\"Auto značky {self.znacka}\")\n",
    "    \n",
    "\n",
    "auto = Auto()\n",
    "auto.znacka = \"Volvo\"\n",
    "auto.print()"
   ]
  },
  {
   "cell_type": "markdown",
   "id": "8f66a33d-f9cd-433c-bb6c-514f7a6a2427",
   "metadata": {},
   "source": [
    "### Inicializace objektu\n",
    "Pokud bychom chtěli vytvořit další instance třídy Auto s jinou značkou například Audi a Nissan, museli bychom s danou definicí třídy využít následující postup:"
   ]
  },
  {
   "cell_type": "code",
   "execution_count": 5,
   "id": "433d75ca-3eef-49c5-9dcd-3376347a83fa",
   "metadata": {},
   "outputs": [
    {
     "ename": "AttributeError",
     "evalue": "'Auto' object has no attribute 'znacka'",
     "output_type": "error",
     "traceback": [
      "\u001b[1;31m---------------------------------------------------------------------------\u001b[0m",
      "\u001b[1;31mAttributeError\u001b[0m                            Traceback (most recent call last)",
      "Cell \u001b[1;32mIn[5], line 2\u001b[0m\n\u001b[0;32m      1\u001b[0m audi \u001b[38;5;241m=\u001b[39m Auto()\n\u001b[1;32m----> 2\u001b[0m \u001b[43maudi\u001b[49m\u001b[38;5;241;43m.\u001b[39;49m\u001b[43mprint\u001b[49m\u001b[43m(\u001b[49m\u001b[43m)\u001b[49m\n\u001b[0;32m      3\u001b[0m audi\u001b[38;5;241m.\u001b[39mznacka \u001b[38;5;241m=\u001b[39m \u001b[38;5;124m\"\u001b[39m\u001b[38;5;124mAudi\u001b[39m\u001b[38;5;124m\"\u001b[39m\n\u001b[0;32m      4\u001b[0m audi\u001b[38;5;241m.\u001b[39mprint()\n",
      "Cell \u001b[1;32mIn[4], line 4\u001b[0m, in \u001b[0;36mAuto.print\u001b[1;34m(self)\u001b[0m\n\u001b[0;32m      3\u001b[0m \u001b[38;5;28;01mdef\u001b[39;00m \u001b[38;5;21mprint\u001b[39m(\u001b[38;5;28mself\u001b[39m) \u001b[38;5;241m-\u001b[39m\u001b[38;5;241m>\u001b[39m \u001b[38;5;28;01mNone\u001b[39;00m:\n\u001b[1;32m----> 4\u001b[0m     \u001b[38;5;28mprint\u001b[39m(\u001b[38;5;124mf\u001b[39m\u001b[38;5;124m\"\u001b[39m\u001b[38;5;124mAuto značky \u001b[39m\u001b[38;5;132;01m{\u001b[39;00m\u001b[38;5;28;43mself\u001b[39;49m\u001b[38;5;241;43m.\u001b[39;49m\u001b[43mznacka\u001b[49m\u001b[38;5;132;01m}\u001b[39;00m\u001b[38;5;124m\"\u001b[39m)\n",
      "\u001b[1;31mAttributeError\u001b[0m: 'Auto' object has no attribute 'znacka'"
     ]
    }
   ],
   "source": [
    "audi = Auto()\n",
    "audi.print()\n",
    "audi.znacka = \"Audi\"\n",
    "audi.print()"
   ]
  },
  {
   "cell_type": "markdown",
   "id": "f40cad05-c1a3-41e3-9660-6326ac41879b",
   "metadata": {},
   "source": [
    "[Visualizovaná exekuce předchozího kódu](https://pythontutor.com/visualize.html#code=class%20Auto%3A%0A%20%20%20%20znacka%3A%20str%20%3D%20%22Volvo%22%0A%20%20%20%20%20%20%20%20%0A%20%20%20%20def%20print%28self%29%20-%3E%20None%3A%0A%20%20%20%20%20%20%20%20print%28f%22Auto%20zna%C4%8Dky%20%7Bself.znacka%7D%22%29%0A%0Aaudi%20%3D%20Auto%28%29%0Aaudi.print%28%29%0Aaudi.znacka%20%3D%20%22Audi%22%0Aaudi.print%28%29&cumulative=false&curInstr=11&heapPrimitives=nevernest&mode=display&origin=opt-frontend.js&py=3&rawInputLstJSON=%5B%5D&textReferences=false)\n",
    "\n",
    "To není šikovné a ani správné, a proto využijeme konstruktoru pro inicializaci objektu.\n",
    "V Python je nutné přidat metodu **\\_\\_init\\_\\_**."
   ]
  },
  {
   "cell_type": "code",
   "execution_count": null,
   "id": "a23b6e65-147b-42ff-8869-e2fbc1afba44",
   "metadata": {},
   "outputs": [],
   "source": [
    "class Auto:\n",
    "    znacka: str = \"Volvo\"\n",
    "    \n",
    "    def __init__(self, znacka: str):\n",
    "        self.znacka = znacka \n",
    "        \n",
    "    def print(self) -> None:\n",
    "        print(f\"Auto značky {self.znacka}\")\n",
    "\n",
    "volvo = Auto(\"Volvo\")\n",
    "audi = Auto(\"Audi\")\n",
    "nissan = Auto(\"Nissan\")\n",
    "volvo.print()\n",
    "audi.print()\n",
    "nissan.print()"
   ]
  },
  {
   "cell_type": "markdown",
   "id": "bd9dcba3-3471-4a24-8017-a311175421d0",
   "metadata": {},
   "source": [
    "<img src=\"CarWithInicialization.png\" width=\"600\">\n",
    "\n",
    "[Visualizovaná exekuce předchozího kódu](https://pythontutor.com/visualize.html#code=class%20Auto%3A%0A%20%20%20%20znacka%3A%20str%20%3D%20%22Volvo%22%0A%20%20%20%20%0A%20%20%20%20def%20__init__%28self,%20znacka%3A%20str%29%3A%0A%20%20%20%20%20%20%20%20self.znacka%20%3D%20znacka%20%0A%20%20%20%20%20%20%20%20%0A%20%20%20%20def%20print%28self%29%20-%3E%20None%3A%0A%20%20%20%20%20%20%20%20print%28f%22Auto%20zna%C4%8Dky%20%7Bself.znacka%7D%22%29%0A%0Avolvo%20%3D%20Auto%28%22Volvo%22%29%0Aaudi%20%3D%20Auto%28%22Audi%22%29%0Anissan%20%3D%20Auto%28%22Nissan%22%29%0Avolvo.print%28%29%0Aaudi.print%28%29%0Anissan.print%28%29&cumulative=false&curInstr=25&heapPrimitives=nevernest&mode=display&origin=opt-frontend.js&py=3&rawInputLstJSON=%5B%5D&textReferences=false)"
   ]
  },
  {
   "cell_type": "markdown",
   "id": "e072add8-7a62-4094-8268-974b65565623",
   "metadata": {},
   "source": [
    "Třída **Auto** dosud obsahovala třídní atribut **znacka**, který je automaticky sdílený s instačními třídami.\n",
    "Zavedením konstrukturu jsme přidali instační atribut **znacka**, a tudíž můžeme odebrat třídní atribut."
   ]
  },
  {
   "cell_type": "code",
   "execution_count": null,
   "id": "953afabd-efb7-4416-a26e-a4069951bd2e",
   "metadata": {},
   "outputs": [],
   "source": [
    "class Auto:\n",
    "    \n",
    "    def __init__(self, znacka: str):\n",
    "        self.znacka = znacka \n",
    "        \n",
    "    def print(self) -> None:\n",
    "        print(f\"Auto značky {self.znacka}\")\n",
    "\n",
    "volvo = Auto(\"Volvo\")\n",
    "audi = Auto(\"Audi\")\n",
    "nissan = Auto(\"Nissan\")\n",
    "volvo.print()\n",
    "audi.print()\n",
    "nissan.print()"
   ]
  },
  {
   "cell_type": "markdown",
   "id": "aaa3ed08-daf0-47ea-966c-b0196404db38",
   "metadata": {},
   "source": [
    "<img src=\"CarWithInicializationWithoutClassAttribute.png\" width=\"600\">\n",
    "\n",
    "[Visualizovaná exekuce předchozího kódu](https://pythontutor.com/visualize.html#code=class%20Auto%3A%0A%20%20%20%20%0A%20%20%20%20def%20__init__%28self,%20znacka%3A%20str%29%3A%0A%20%20%20%20%20%20%20%20self.znacka%20%3D%20znacka%20%0A%20%20%20%20%20%20%20%20%0A%20%20%20%20def%20print%28self%29%20-%3E%20None%3A%0A%20%20%20%20%20%20%20%20print%28f%22Auto%20zna%C4%8Dky%20%7Bself.znacka%7D%22%29%0A%0Avolvo%20%3D%20Auto%28%22Volvo%22%29%0Aaudi%20%3D%20Auto%28%22Audi%22%29%0Anissan%20%3D%20Auto%28%22Nissan%22%29%0Avolvo.print%28%29%0Aaudi.print%28%29%0Anissan.print%28%29&cumulative=false&curInstr=25&heapPrimitives=nevernest&mode=display&origin=opt-frontend.js&py=3&rawInputLstJSON=%5B%5D&textReferences=false)"
   ]
  },
  {
   "cell_type": "code",
   "execution_count": null,
   "id": "2c6a757b-187d-4bba-84e7-ded49e2b0b05",
   "metadata": {},
   "outputs": [],
   "source": []
  }
 ],
 "metadata": {
  "kernelspec": {
   "display_name": "Python 3 (ipykernel)",
   "language": "python",
   "name": "python3"
  },
  "language_info": {
   "codemirror_mode": {
    "name": "ipython",
    "version": 3
   },
   "file_extension": ".py",
   "mimetype": "text/x-python",
   "name": "python",
   "nbconvert_exporter": "python",
   "pygments_lexer": "ipython3",
   "version": "3.10.5"
  }
 },
 "nbformat": 4,
 "nbformat_minor": 5
}

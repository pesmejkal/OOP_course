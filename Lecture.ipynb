{
 "cells": [
  {
   "cell_type": "markdown",
   "id": "063d951c-096c-482e-b3c3-7597c0240029",
   "metadata": {},
   "source": [
    "# Co je objektově orientované programování\n",
    "Objektově orientové programování anglicky **Object oriented programming (OOP)** je specifické programovácí paradigma založené na konceptu objektů, které mohou obsahovat data a kód. Cílem je vytvořit odpovídající objekty, které spolu komunikují tak, aby vyřešili dané zadání. \n",
    "\n",
    "Další informace:\n",
    "- [Object-oriented programming](https://en.wikipedia.org/wiki/Object-oriented_programming)\n",
    "- [Objektově orientované -programování](https://cs.wikipedia.org/wiki/Objektov%C4%9B_orientovan%C3%A9_programov%C3%A1n%C3%AD)\n",
    "\n",
    "## Programovací paradigma\n",
    "Programovácí paradigma je způsob klasifikování programovacích jazyků na základě jejich vlastností, které jsou dány tím jak nad programováním přemýšlíme.\n",
    "\n",
    "Běžná programovací paradigmata jsou:\n",
    "- Imperativní\n",
    "    - Procedurální\n",
    "    - Objektově orientované programování\n",
    "- Deklarativní\n",
    "    - funkcionální\n",
    "    - Logické\n",
    "    - reaktivní\n",
    "\n",
    "Programovací jazyky často naplňují více paradigmat například OOP a procedurální.\n",
    "\n",
    "Další informace:\n",
    "- [Programming paradigm](https://en.wikipedia.org/wiki/Programming_paradigm)\n",
    "- [Programovací paradigma](https://cs.wikipedia.org/wiki/Programovac%C3%AD_paradigma)\n",
    "    \n",
    "# Objekt\n",
    "Objektem často bývá zjednodušená reprezentace věcí reálného světa (auto, monitor, strom, klávesnice, účetní, zaměstnanec).\n",
    "\n",
    "Objekt obsahuje:\n",
    "* data (atributy, vlastnosti, hodnoty)\n",
    "* metody/funkce, které můžou s daty pracovat (číst, měnit) \n",
    "\n",
    "Hodně jazyků jako je například Python, Java, C# mají OOP postavené na [třídách](https://en.wikipedia.org/wiki/Class-based_programming).\n",
    "**Třída (class)** je vzor/šablona pro vytvoření objekt. Často se v těchto jazycích objektu říká **instance** třídy.\n",
    "\n",
    "<img src=\"ClassVsObject.png\" width=\"600\">\n",
    "\n",
    "Ale například javaScript používají [prototypování](https://en.wikipedia.org/wiki/Prototype-based_programming) pro vytváření objektů.\n",
    "\n",
    "\n",
    "## Tvoříme první objekt"
   ]
  },
  {
   "cell_type": "code",
   "execution_count": 1,
   "id": "61fd1e39-036c-4f65-bc97-9ffbec31ab2c",
   "metadata": {},
   "outputs": [
    {
     "name": "stdout",
     "output_type": "stream",
     "text": [
      "<__main__.Auto object at 0x000001493CF94BB0>\n"
     ]
    }
   ],
   "source": [
    "class Auto:\n",
    "    \n",
    "    def print(self) -> None:\n",
    "        print(\"Auto značky Volvo\")\n",
    "    \n",
    "volvo = Auto()\n",
    "print(volvo)"
   ]
  },
  {
   "cell_type": "markdown",
   "id": "40f5c129-810b-4386-a6c1-8a1de5bf208a",
   "metadata": {},
   "source": [
    "V předchozím kódu jsme vytvořili jeden objekt z třídy Auto a uložili do proměné **volvo**.\n",
    "Pokud, ale vytiskneme proměnou **volvo** zjistíme, že nenese **hodnotu**, ale jedná se o **referenci** na **objekt třídy Auto** na adrese **0x................**. Na následujícím obrázku můžete vidět jak to vypadá v paměti.\n",
    "\n",
    "<img src=\"SimpleCarExecution.png\" width=\"600\">\n",
    "\n",
    "[Visualizovaná exekuce předchozího kódu](https://pythontutor.com/visualize.html#code=class%20Auto%3A%0A%20%20%20%20%0A%20%20%20%20def%20print%28self%29%20-%3E%20None%3A%0A%20%20%20%20%20%20%20%20print%28f%22Auto%20zna%C4%8Dky%20Volvo%22%29%0A%20%20%20%20%0Avolvo%20%3D%20Auto%28%29%0Aprint%28volvo%29&cumulative=false&curInstr=3&heapPrimitives=nevernest&mode=display&origin=opt-frontend.js&py=3&rawInputLstJSON=%5B%5D&textReferences=false)"
   ]
  },
  {
   "cell_type": "markdown",
   "id": "6d227fcd-47e1-4c5b-b546-75c8351bbc2a",
   "metadata": {},
   "source": [
    "### Přístup k datům a funkcím objektu\n",
    "Vzhledem k tomu, že pracujeme s proměnou, která nás odkazuje na objekt, ale my chceme pracovat s daty nebo funkcemi daného objektu je třeba použít příslušný operátor v Python, Java se jedná o tečku '.', ale můžete se setkat v jiných jazycích s '->', '=>'. "
   ]
  },
  {
   "cell_type": "code",
   "execution_count": 2,
   "id": "d7d23f2d-59a7-4d0d-bed0-38ec8dc53eef",
   "metadata": {},
   "outputs": [
    {
     "name": "stdout",
     "output_type": "stream",
     "text": [
      "Auto značky Volvo\n"
     ]
    }
   ],
   "source": [
    "volvo.print()"
   ]
  },
  {
   "cell_type": "markdown",
   "id": "0333b786-dd9b-4126-8c73-ba03f4e6acc0",
   "metadata": {},
   "source": [
    "### Vlastnosti třídy\n",
    "Mít objekty třídy, které dělají vždy to samé není užitečné a proto tam přidáme variabilitu. \n",
    "V našem případě uděláme značku vozidla variabilní.\n",
    "\n",
    "Můžeme vybrat ze dvou možností:\n",
    "- **třídní atribut**, který je sdílený všemi objekty\n",
    "- **instanční atribut**, který patří pouze danému objektu"
   ]
  },
  {
   "cell_type": "code",
   "execution_count": 3,
   "id": "17809492-93c7-4e09-a888-0fb20d1c8de4",
   "metadata": {},
   "outputs": [
    {
     "name": "stdout",
     "output_type": "stream",
     "text": [
      "Zavolání auto.print() vyhodí AttributeError, protože attribute znacka neexistuje\n",
      "\n",
      "Vytvoříme třídní atribut s hodnotou \"Volvo\"\n",
      "auto: Volvo\n",
      "auto2: Volvo\n",
      "Oba objekty jsou značky \"Volvo\"\n",
      "\n",
      "Změníme třídní atribut na hodnotu \"Audi\"\n",
      "auto: Audi\n",
      "auto2: Audi\n",
      "Oba objekty jsou značky \"Audi\"\n",
      "\n",
      "Vytvoříme instanční atribut \"znacka\" s hodnotou \"Nissan\" v objektu \"auto\"\n",
      "auto: Nissan\n",
      "auto2: Audi\n",
      "Došlo pouze ke změně objektu \"auto\" na značku \"Audi\"\n",
      "\n",
      "Změníme třídní atribut na hodnotu \"Volvo\"\n",
      "auto: Nissan\n",
      "auto2: Volvo\n",
      "Došlo pouze ke změně objektu \"auto2\" bez instančního atributu na značku \"Volvo\"\n"
     ]
    }
   ],
   "source": [
    "class Auto:\n",
    "    \n",
    "    def print(self, jmeno: str) -> None:\n",
    "        print(f\"{jmeno}: {self.znacka}\")\n",
    "    \n",
    "\n",
    "auto = Auto()\n",
    "auto2 = Auto()\n",
    "print(\"Zavolání auto.print() vyhodí AttributeError, protože attribute znacka neexistuje\")\n",
    "#auto.print()\n",
    "#auto2.print()\n",
    "      \n",
    "print(\"\\nVytvoříme třídní atribut s hodnotou \\\"Volvo\\\"\")\n",
    "Auto.znacka = \"Volvo\" # S třídním parametrem pracujeme přes třídu [A]uto.znacka\n",
    "auto.print(\"auto\")\n",
    "auto2.print(\"auto2\")\n",
    "print(\"Oba objekty jsou značky \\\"Volvo\\\"\")\n",
    "\n",
    "print(\"\\nZměníme třídní atribut na hodnotu \\\"Audi\\\"\")      \n",
    "Auto.znacka = \"Audi\"\n",
    "auto.print(\"auto\")\n",
    "auto2.print(\"auto2\")\n",
    "print(\"Oba objekty jsou značky \\\"Audi\\\"\")\n",
    "\n",
    "print(\"\\nVytvoříme instanční atribut \\\"znacka\\\" s hodnotou \\\"Nissan\\\" v objektu \\\"auto\\\"\")           \n",
    "auto.znacka = \"Nissan\" # S instančním parametrem pracujeme přes objekt [a]uto.znacka\n",
    "auto.print(\"auto\")\n",
    "auto2.print(\"auto2\")\n",
    "print(\"Došlo pouze ke změně objektu \\\"auto\\\" na značku \\\"Audi\\\"\")\n",
    "\n",
    "\n",
    "print(\"\\nZměníme třídní atribut na hodnotu \\\"Volvo\\\"\")           \n",
    "Auto.znacka = \"Volvo\"\n",
    "auto.print(\"auto\")\n",
    "auto2.print(\"auto2\")\n",
    "print(\"Došlo pouze ke změně objektu \\\"auto2\\\" bez instančního atributu na značku \\\"Volvo\\\"\")"
   ]
  },
  {
   "cell_type": "markdown",
   "id": "022492a2-3210-4b6d-9423-5f521a426a9d",
   "metadata": {
    "tags": []
   },
   "source": [
    "\n",
    "[Visualizovaná exekuce předchozího kódu](https://pythontutor.com/visualize.html#code=class%20Auto%3A%0A%20%20%20%20%0A%20%20%20%20def%20print%28self,%20jmeno%3A%20str%29%20-%3E%20None%3A%0A%20%20%20%20%20%20%20%20print%28f%22%7Bjmeno%7D%3A%20%7Bself.znacka%7D%22%29%0A%20%20%20%20%0A%0Aauto%20%3D%20Auto%28%29%0Aauto2%20%3D%20Auto%28%29%0Aprint%28%22Zavol%C3%A1n%C3%AD%20auto.print%28%29%20vyhod%C3%AD%20AttributeError,%20proto%C5%BEe%20attribute%20znacka%20neexistuje%22%29%0A%23auto.print%28%29%0A%23auto2.print%28%29%0A%20%20%20%20%20%20%0Aprint%28%22%5CnVytvo%C5%99%C3%ADme%20t%C5%99%C3%ADdn%C3%AD%20atribut%20s%20hodnotou%20%5C%22Volvo%5C%22%22%29%0AAuto.znacka%20%3D%20%22Volvo%22%0Aauto.print%28%22auto%22%29%0Aauto2.print%28%22auto2%22%29%0Aprint%28%22Oba%20objekty%20jsou%20zna%C4%8Dky%20%5C%22Volvo%5C%22%22%29%0A%0Aprint%28%22%5CnZm%C4%9Bn%C3%ADme%20t%C5%99%C3%ADdn%C3%AD%20atribut%20na%20hodnotu%20%5C%22Audi%5C%22%22%29%20%20%20%20%20%20%0AAuto.znacka%20%3D%20%22Audi%22%0Aauto.print%28%22auto%22%29%0Aauto2.print%28%22auto2%22%29%0Aprint%28%22Oba%20objekty%20jsou%20zna%C4%8Dky%20%5C%22Audi%5C%22%22%29%0A%0Aprint%28%22%5CnVytvo%C5%99%C3%ADme%20instan%C4%8Dn%C3%AD%20atribut%20%5C%22znacka%5C%22%20s%20hodnotou%20%5C%22Nissan%5C%22%20v%20objektu%20%5C%22auto%5C%22%22%29%20%20%20%20%20%20%20%20%20%20%20%0Aauto.znacka%20%3D%20%22Nissan%22%0Aauto.print%28%22auto%22%29%0Aauto2.print%28%22auto2%22%29%0Aprint%28%22Do%C5%A1lo%20pouze%20ke%20zm%C4%9Bn%C4%9B%20objektu%20%5C%22auto%5C%22%20na%20zna%C4%8Dku%20%5C%22Audi%5C%22%22%29%0A%0A%0Aprint%28%22%5CnZm%C4%9Bn%C3%ADme%20t%C5%99%C3%ADdn%C3%AD%20atribut%20na%20hodnotu%20%5C%22Volvo%5C%22%22%29%20%20%20%20%20%20%20%20%20%20%20%0AAuto.znacka%20%3D%20%22Volvo%22%0Aauto.print%28%22auto%22%29%0Aauto2.print%28%22auto2%22%29%0Aprint%28%22Do%C5%A1lo%20pouze%20ke%20zm%C4%9Bn%C4%9B%20objektu%20%5C%22auto2%5C%22%20bez%20instan%C4%8Dn%C3%ADho%20atributu%20na%20zna%C4%8Dku%20%5C%22Volvo%5C%22%22%29&cumulative=false&curInstr=48&heapPrimitives=nevernest&mode=display&origin=opt-frontend.js&py=3&rawInputLstJSON=%5B%5D&textReferences=false)\n",
    "\n"
   ]
  },
  {
   "cell_type": "markdown",
   "id": "505e20d4-aab6-4e93-9c20-51884785baea",
   "metadata": {
    "tags": []
   },
   "source": [
    "V předchozích kódu si můžete všimnout použití klíčového slova **self**, který slouží pro přístup k datům volaného objektu a je nutného ho pužít vždy, když pracujete s daty daného objektu. **Daným operátorem vlastně říkate, jdi na místo kam odkazuje daná hodnota.**  V jiných jazycích se můžete setkat s klíčovým slovem **this**."
   ]
  },
  {
   "cell_type": "markdown",
   "id": "fb425c92-a5c1-4986-8b78-79474f64c0f4",
   "metadata": {},
   "source": [
    "#### Jak to vypadá v paměti\n",
    "<img src=\"CarDifferenceOfAttributes.png\" width=\"600\">\n",
    "\n",
    "- Objekt **auto má uložen** v paměti instanční atribut\n",
    "- Objekt **auto2 nemá uložen** v paměti instanční atribut a proto **je použit** třídní atribut\n",
    "\n",
    "#### Kdy mám co použít?\n",
    "Nejčastěji je vhodné využít **třídní atribut** pro:\n",
    "- Konstantu stejnou pro všechny objekty\n",
    "    - Název serveru, na který budu posílat požadavek\n",
    "    - Matematické konstanty, například číslo Pí\n",
    "    - Minimální věk uživatele\n",
    "    - ...\n",
    "- Výchozí hodnoty\n",
    "    - Počet kol auta\n",
    "    - Počet dveří auta\n",
    "    - Počet pokusů při selhání připojení na server\n",
    "    - Doba čekání před další pokusem o připojení\n",
    "    - ...\n",
    "\n",
    "Jinak bych volil přednostně volil **instanční atribut**.\n",
    "\n",
    "V našem případě značka auta není konstatou a ani ji nechci použít jako výchozí hodnotu."
   ]
  },
  {
   "cell_type": "code",
   "execution_count": 4,
   "id": "04d0d9a1-034d-4b9c-a05e-9e1fa4400844",
   "metadata": {},
   "outputs": [
    {
     "name": "stdout",
     "output_type": "stream",
     "text": [
      "Auto značky Volvo\n"
     ]
    }
   ],
   "source": [
    "class Auto:\n",
    "    \n",
    "    def print(self) -> None:\n",
    "        print(f\"Auto značky {self.znacka}\")\n",
    "    \n",
    "\n",
    "auto = Auto()\n",
    "auto.znacka = \"Volvo\"\n",
    "auto.print()"
   ]
  },
  {
   "cell_type": "markdown",
   "id": "8f66a33d-f9cd-433c-bb6c-514f7a6a2427",
   "metadata": {},
   "source": [
    "### Inicializace vlastností objektu\n",
    "V předchozí sekci jsme atributy nastavovali přes Třídu nebo objekt. To není šikovné a ani správné, proto využijeme inicializace vlastností přímo v třídě.\n",
    "\n",
    "#### Inicializace třídního atributu\n",
    "Třídí atributy uvádíme v třídě jako první."
   ]
  },
  {
   "cell_type": "code",
   "execution_count": 5,
   "id": "433d75ca-3eef-49c5-9dcd-3376347a83fa",
   "metadata": {},
   "outputs": [
    {
     "name": "stdout",
     "output_type": "stream",
     "text": [
      "Auto značky Volvo\n"
     ]
    }
   ],
   "source": [
    "class Auto:\n",
    "    znacka: str = \"Volvo\"\n",
    "    \n",
    "    def print(self) -> None:\n",
    "        print(f\"Auto značky {self.znacka}\")\n",
    "\n",
    "Auto().print()"
   ]
  },
  {
   "cell_type": "markdown",
   "id": "0d732f7d-6e08-41ae-b05e-802dbb6b72bd",
   "metadata": {},
   "source": [
    "#### Inicializace instančního atributu\n",
    "- Instanční atribut inicializujeme v metodě **\\_\\_init\\_\\_**.\n",
    "- Metodu **\\_\\_init\\_\\_** můžeme vynechat pokud nechceme použít instanční atributy\n",
    "- Jedná se o equvivalent konstruktorů v jiných jazycích"
   ]
  },
  {
   "cell_type": "code",
   "execution_count": 6,
   "id": "f8d330aa-182b-4156-9e62-222963b5efe2",
   "metadata": {},
   "outputs": [
    {
     "name": "stdout",
     "output_type": "stream",
     "text": [
      "Auto značky Volvo\n"
     ]
    }
   ],
   "source": [
    "class Auto:\n",
    "    \n",
    "    def __init__(self):\n",
    "        self.znacka = \"Volvo\"\n",
    "    \n",
    "    def print(self) -> None:\n",
    "        print(f\"Auto značky {self.znacka}\")\n",
    "\n",
    "Auto().print()"
   ]
  },
  {
   "cell_type": "markdown",
   "id": "161dfbf7-8de8-407c-91a3-ae29cd7d43b7",
   "metadata": {},
   "source": [
    "Pokud bychom chtěli vytvořit objekt jiné značky auta, museli bychom po vytvoření objektu atribut změnit. Lepší řešením je tuto hodnotu nastavit při inicializaci."
   ]
  },
  {
   "cell_type": "code",
   "execution_count": 7,
   "id": "66f8f35a-8ecb-4013-8245-f1975024e67d",
   "metadata": {},
   "outputs": [
    {
     "name": "stdout",
     "output_type": "stream",
     "text": [
      "Auto značky Volvo\n",
      "Auto značky Audi\n",
      "Auto značky Nissan\n"
     ]
    }
   ],
   "source": [
    "class Auto:\n",
    "    \n",
    "    def __init__(self, znacka: str):\n",
    "        self.znacka = znacka\n",
    "    \n",
    "    def print(self) -> None:\n",
    "        print(f\"Auto značky {self.znacka}\")\n",
    "\n",
    "volvo = Auto(\"Volvo\")\n",
    "volvo.print()\n",
    "\n",
    "audi = Auto(\"Audi\")\n",
    "audi.print()\n",
    "\n",
    "nissan = Auto(\"Nissan\")\n",
    "nissan.print()"
   ]
  },
  {
   "cell_type": "markdown",
   "id": "f91b63ad-3f89-4683-90cd-2e5d32d6a31b",
   "metadata": {},
   "source": [
    "[Visualizovaná exekuce předchozího kódu](https://pythontutor.com/visualize.html#code=class%20Auto%3A%0A%20%20%20%20%0A%20%20%20%20def%20__init__%28self,%20znacka%3A%20str%29%3A%0A%20%20%20%20%20%20%20%20self.znacka%20%3D%20znacka%0A%20%20%20%20%0A%20%20%20%20def%20print%28self%29%20-%3E%20None%3A%0A%20%20%20%20%20%20%20%20print%28f%22Auto%20zna%C4%8Dky%20%7Bself.znacka%7D%22%29%0A%0Avolvo%20%3D%20Auto%28%22Volvo%22%29%0Avolvo.print%28%29%0A%0Aaudi%20%3D%20Auto%28%22Audi%22%29%0Aaudi.print%28%29%0A%0Anissan%20%3D%20Auto%28%22Nissan%22%29%0Anissan.print%28%29&cumulative=false&curInstr=25&heapPrimitives=nevernest&mode=display&origin=opt-frontend.js&py=3&rawInputLstJSON=%5B%5D&textReferences=false)\n",
    "\n",
    "#### Ochrana přístupu k vlastnostem objektu\n",
    "Jsou případy, kdy chceme některé vlastnosti objektu ochránit před změnou nebo špatnou manipulací. Příkladem může být objem nádrže automobilu, který nemůže být menší než nula nebo při tankování doplnit více než je maximum, ale nám nic nebrání v tom to nastavit.\n"
   ]
  },
  {
   "cell_type": "markdown",
   "id": "11859574-456c-483e-a8fa-3b10eb3be468",
   "metadata": {},
   "source": [
    "##### Pomocí konvence\n",
    "Některé jazyky (Java, TypeScript, C#, ...) mají modifikátory přístupu ([Access modifiers](https://en.wikipedia.org/wiki/Access_modifiers)), které nám umožňují schovat atribut objektu před vnějším použitím, Python to bohužel neumí.\n",
    "\n",
    "Proto **existuje konvence použití podtržítka \\\"_\\\" před názvem atributu**.\n",
    "Tato konvence říká, že atribut je **interní, ale nic nebrání jejímu použití**. "
   ]
  },
  {
   "cell_type": "code",
   "execution_count": 8,
   "id": "8ef2f579-30d6-41e9-b6b7-79a0432d1aab",
   "metadata": {},
   "outputs": [
    {
     "name": "stdout",
     "output_type": "stream",
     "text": [
      "Auto značky Volvo s objemem nádrže 70 litrů\n",
      "Auto značky Volvo s objemem nádrže -10 litrů\n"
     ]
    }
   ],
   "source": [
    "class Auto:\n",
    "    \n",
    "    def __init__(self, znacka: str, objem_nadrze: int):\n",
    "        self.znacka = znacka\n",
    "        \n",
    "        assert objem_nadrze > 0, \"Objem nádrže nesmí být menší než 0\"\n",
    "        self._objem_nadrze = objem_nadrze\n",
    "    \n",
    "    def print(self) -> None:\n",
    "        print(f\"Auto značky {self.znacka} s objemem nádrže {self._objem_nadrze} litrů\")\n",
    "\n",
    "#auto = Auto(\"Volvo\", -5); # Vyhodí chybu AssertionError: Objem nádrže nesmí být menší než 0\n",
    "auto = Auto(\"Volvo\", 70);\n",
    "auto.print()\n",
    "\n",
    "auto._objem_nadrze = -10\n",
    "auto.print()"
   ]
  },
  {
   "cell_type": "markdown",
   "id": "a229dfa5-8b0c-4103-9c73-bc3bebf56dda",
   "metadata": {},
   "source": [
    "- Také **existuje konvence použití dvou podtržítek \\\"__\\\" před názvem atributu**.\n",
    "- Tato konvence říká, že atribut je **chráněný, ale i tak se dá použít**.\n",
    "- Interpret nám nezpřístupní daný atribut, ale dojde k jeho přejmenování na **\\\"_Auto__objemNadrze\\\"**.\n",
    "- Je možné si dohledat atributy instance zobrazením slovníku auto.**\\_\\_dict\\_\\_**"
   ]
  },
  {
   "cell_type": "code",
   "execution_count": 9,
   "id": "f6261077-def5-45b0-ad89-366073a83dcc",
   "metadata": {},
   "outputs": [
    {
     "name": "stdout",
     "output_type": "stream",
     "text": [
      "{'znacka': 'Volvo', '_Auto__objem_nadrze': 70}\n",
      "Auto značky Volvo s objemem nádrže 70 litrů\n",
      "Auto značky Volvo s objemem nádrže 70 litrů\n",
      "Auto značky Volvo s objemem nádrže -10 litrů\n"
     ]
    }
   ],
   "source": [
    "class Auto:\n",
    "    \n",
    "    def __init__(self, znacka: str, objem_nadrze: int):\n",
    "        self.znacka = znacka\n",
    "        \n",
    "        assert objem_nadrze > 0, \"Objem nádrže nesmí být menší než 0\"\n",
    "        self.__objem_nadrze = objem_nadrze\n",
    "    \n",
    "    def print(self) -> None:\n",
    "        print(f\"Auto značky {self.znacka} s objemem nádrže {self.__objem_nadrze} litrů\")\n",
    "\n",
    "auto = Auto(\"Volvo\", 70);\n",
    "print(auto.__dict__)\n",
    "auto.print()\n",
    "\n",
    "auto.__objem_nadrze = -10\n",
    "auto.print()\n",
    "\n",
    "auto._Auto__objem_nadrze = -10\n",
    "auto.print()"
   ]
  },
  {
   "cell_type": "markdown",
   "id": "3cd7b9b7-4826-4df8-9682-54c6a9769fa2",
   "metadata": {},
   "source": [
    "##### Pomocí metod\n",
    "V Jazycích, kde fungují modifikátory přístupu se často používájí get a set metody.\n",
    "A veškerá manipulace atributů probíhá skrze tyto metody. "
   ]
  },
  {
   "cell_type": "code",
   "execution_count": 10,
   "id": "88613b14-3847-49a9-8db6-cc1b4f7c1996",
   "metadata": {},
   "outputs": [
    {
     "name": "stdout",
     "output_type": "stream",
     "text": [
      "Auto značky Volvo s objemem nádrže 70 litrů\n",
      "Objem nádrže je 55 litrů\n",
      "Auto značky Volvo s objemem nádrže -10 litrů\n"
     ]
    }
   ],
   "source": [
    "class Auto:\n",
    "    \n",
    "    def __init__(self, znacka: str, objemNadrze: int):\n",
    "        self.znacka = znacka\n",
    "        self.set_objem_nadrze(objemNadrze)\n",
    "        \n",
    "    def set_objem_nadrze(self, objem_nadrze: int):\n",
    "        assert objem_nadrze > 0, \"Objem nádrže nesmí být menší než 0\"\n",
    "        self._objem_nadrze = objem_nadrze\n",
    "        \n",
    "    def get_objem_nadrze(self) -> int:\n",
    "        return self._objem_nadrze\n",
    "    \n",
    "    def print(self) -> None:\n",
    "        print(f\"Auto značky {self.znacka} s objemem nádrže {self._objem_nadrze} litrů\")\n",
    "\n",
    "auto = Auto(\"Volvo\", 70);\n",
    "auto.print()\n",
    "\n",
    "auto.set_objem_nadrze(55)\n",
    "print(f\"Objem nádrže je {auto.get_objem_nadrze()} litrů\")\n",
    "\n",
    "auto._objem_nadrze = -10\n",
    "auto.print()"
   ]
  },
  {
   "cell_type": "markdown",
   "id": "b4c86920-b180-42db-a960-7357ac91817d",
   "metadata": {},
   "source": [
    "Pokud bychom get/set metody přidávali do existujícího kódu. Bylo by dobré přepsat všechna použití a to by mohlo být náročné. Abychom to nemuseli dělat, můžeme použít funkci [**property**](). Tato funkce zajistí, že při jakémkoliv přístupu k atributu, dojde k zavolání get nebo set metody.\n",
    "\n",
    "**⚠️property musí mít jiný název než atribut jinak dojde k zacyklení!⚠️**"
   ]
  },
  {
   "cell_type": "code",
   "execution_count": 11,
   "id": "06e98fb8-2ea4-4b6f-846a-28de6119e230",
   "metadata": {},
   "outputs": [
    {
     "name": "stdout",
     "output_type": "stream",
     "text": [
      "Auto značky Volvo s objemem nádrže 70 litrů\n",
      "Objem nádrže je 55 litrů\n"
     ]
    }
   ],
   "source": [
    "class Auto:\n",
    "    \n",
    "    def __init__(self, znacka: str, objem_nadrze: int):\n",
    "        self.znacka = znacka\n",
    "        self.objem_nadrze = objem_nadrze\n",
    "        \n",
    "    def set_objem_nadrze(self, objem_nadrze: int):\n",
    "        assert objem_nadrze > 0, \"Objem nádrže nesmí být menší než 0\"\n",
    "        self._objem_nadrze = objem_nadrze\n",
    "        \n",
    "    def get_objem_nadrze(self) -> int:\n",
    "        return self._objem_nadrze\n",
    "    \n",
    "    def print(self) -> None:\n",
    "        print(f\"Auto značky {self.znacka} s objemem nádrže {self._objem_nadrze} litrů\")\n",
    "    \n",
    "    objem_nadrze = property(get_objem_nadrze, set_objem_nadrze)\n",
    "\n",
    "auto = Auto(\"Volvo\", 70);\n",
    "auto.print()\n",
    "\n",
    "auto.objem_nadrze = 55\n",
    "print(f\"Objem nádrže je {auto.objem_nadrze} litrů\")\n",
    "\n",
    "#auto.objem_nadrze = -10 # toto vyhodí chybu\n",
    "#auto.print()"
   ]
  },
  {
   "cell_type": "markdown",
   "id": "d3a6bc31-ae31-475c-9c52-1496157537cf",
   "metadata": {},
   "source": [
    "##### Pomocí metod s dekorátorem\n",
    "[Dekorátor](https://docs.python.org/3/glossary.html#term-decorator) je funkce vracející funkci a umožnuje nám přidat logiku k existující metodě.\n",
    "\n",
    "\n",
    "**⚠️getter decorátor musí mít dekalrován před setter decorátorem!⚠️**\\\n",
    "Jinak dostanete chybu **NameError: name 'objem_nadrze' is not defined**"
   ]
  },
  {
   "cell_type": "code",
   "execution_count": 12,
   "id": "17d7b927-83b4-41dd-a341-624444e98482",
   "metadata": {},
   "outputs": [
    {
     "name": "stdout",
     "output_type": "stream",
     "text": [
      "Auto značky Volvo s objemem nádrže 70 litrů\n",
      "Objem nádrže je 55 litrů\n"
     ]
    }
   ],
   "source": [
    "class Auto:\n",
    "    \n",
    "    def __init__(self, znacka: str, objem_nadrze: int):\n",
    "        self.znacka = znacka\n",
    "        self.objem_nadrze = objem_nadrze\n",
    "    \n",
    "    @property\n",
    "    def objem_nadrze(self) -> int:\n",
    "        return self._objem_nadrze\n",
    "    \n",
    "    @objem_nadrze.setter\n",
    "    def objem_nadrze(self, objem_nadrze: int):\n",
    "        assert objem_nadrze > 0, \"Objem nádrže nesmí být menší než 0\"\n",
    "        self._objem_nadrze = objem_nadrze\n",
    "    \n",
    "    def print(self) -> None:\n",
    "        print(f\"Auto značky {self.znacka} s objemem nádrže {self._objem_nadrze} litrů\")\n",
    "\n",
    "auto = Auto(\"Volvo\", 70);\n",
    "auto.print()\n",
    "\n",
    "auto.objem_nadrze = 55\n",
    "print(f\"Objem nádrže je {auto.objem_nadrze} litrů\")"
   ]
  },
  {
   "cell_type": "markdown",
   "id": "eaece750-feaf-43f4-a7fe-aeada211c920",
   "metadata": {},
   "source": [
    "##### Co používat\n",
    "- Pokud máte atributy, které chcete chránit vždy používejte konvence\n",
    "- U chráněných atributů používejte kotrolu pomocí metod.\n",
    "    - Použití dekorátorů je rozšířenější, jednoduché a přehledné"
   ]
  },
  {
   "cell_type": "markdown",
   "id": "a64a7a84-24c8-4f99-a3d5-5c1b1e8fea8d",
   "metadata": {},
   "source": [
    "#### Typy metod v Python OOP\n",
    "Dejme tomu, že máme zákazníka pronajímajícího auta, který si vede evidenci v excelu.\\\n",
    "Vzhledem k tomu, že se mu daří auta, zakázky přibývají tak to začíná být neúnosné.\\\n",
    "Proto se rozhodl to převést do systému/programu.\n",
    "\n",
    "Mohli bychom to napsat n+ejak takto:"
   ]
  },
  {
   "cell_type": "code",
   "execution_count": 13,
   "id": "fcef65a7-3620-4c5b-a8e0-b6ae472e83fe",
   "metadata": {},
   "outputs": [
    {
     "name": "stdout",
     "output_type": "stream",
     "text": [
      "Auto značky Volvo s objemem nádrže 70 litrů\n",
      "Auto značky Nissan s objemem nádrže 45 litrů\n",
      "Auto značky Audi s objemem nádrže 65 litrů\n"
     ]
    }
   ],
   "source": [
    "auta_csv = \"\"\"Volvo,70\n",
    "            Nissan,45\n",
    "            Audi,65\"\"\"\n",
    "\n",
    "radky = auta_csv.split()\n",
    "auta = []\n",
    "for radek in radky:\n",
    "    znacka, objem_nadrze = radek.split(\",\")\n",
    "    auto = Auto(znacka, int(objem_nadrze))\n",
    "    auta.append(auto)\n",
    "    \n",
    "for auto in auta:\n",
    "    auto.print()"
   ]
  },
  {
   "cell_type": "markdown",
   "id": "d536d0ae-741a-4e19-b5d3-b23bfe13709d",
   "metadata": {},
   "source": [
    "Uvedený kód je krásná ukázka procedurálního programování.\n",
    "\n",
    "Pokud bychom chtěli přepsat kód na objektovější, můžeme udělat dvě věci:\n",
    "- Přesunout vytváření objektu auto do třídy Auto. Metodě, která vytváří instanci třídy se říka [Factory method](https://en.wikipedia.org/wiki/Factory_method_pattern)\n",
    "- Vytvořit novou třídu CsvMapovac a přesunout do ní ostatní logiku načítání "
   ]
  },
  {
   "cell_type": "code",
   "execution_count": 14,
   "id": "b9b91705-1ecc-45fa-90f3-975e21c012bc",
   "metadata": {},
   "outputs": [
    {
     "name": "stdout",
     "output_type": "stream",
     "text": [
      "Auto značky Volvo s objemem nádrže 70 litrů\n",
      "Auto značky Nissan s objemem nádrže 45 litrů\n",
      "Auto značky Audi s objemem nádrže 65 litrů\n"
     ]
    }
   ],
   "source": [
    "class Auto:\n",
    "    \n",
    "    def __init__(self, znacka: str, objem_nadrze: int):\n",
    "        self.znacka = znacka\n",
    "        self.objem_nadrze = objem_nadrze\n",
    "    \n",
    "    @property\n",
    "    def objem_nadrze(self) -> int:\n",
    "        return self._objem_nadrze\n",
    "    \n",
    "    @objem_nadrze.setter\n",
    "    def objem_nadrze(self, objem_nadrze: int):\n",
    "        assert objem_nadrze > 0, \"Objem nádrže nesmí být menší než 0\"\n",
    "        self._objem_nadrze = objem_nadrze\n",
    "    \n",
    "    @classmethod\n",
    "    def nacti_z_csv(cls, radek: str): # metoda třídy # Factory method\n",
    "        znacka, objem_nadrze = radek.split(\",\")\n",
    "        return cls(znacka, int(objem_nadrze))\n",
    "    \n",
    "    def print(self) -> None: # metoda instance\n",
    "        print(f\"Auto značky {self.znacka} s objemem nádrže {self._objem_nadrze} litrů\")\n",
    "\n",
    "class CsvMapovac:\n",
    "    \n",
    "    @staticmethod\n",
    "    def mapuj(auta_csv: str, cls): # statická metoda\n",
    "        auta = []\n",
    "        for radek in radky:\n",
    "            auto = cls.nacti_z_csv(radek)\n",
    "            auta.append(auto)\n",
    "        return auta\n",
    "    \n",
    "auta_csv = \"\"\"Volvo,70\n",
    "Nissan,45\n",
    "Audi,65\"\"\"\n",
    "\n",
    "auta = CsvMapovac.mapuj(auta_csv, Auto)\n",
    "for auto in auta:\n",
    "    auto.print()"
   ]
  },
  {
   "cell_type": "markdown",
   "id": "1dee6cd4-8e14-4222-b99c-84af8d0129d7",
   "metadata": {},
   "source": [
    "V předchozím kódu si můžete všimnout použití ```@classmethod``` a ```@staticmethod```.\\\n",
    "V Pyhon OOP rozeznáváme tři typy metod:\n",
    "- Instanční\n",
    "    - Má parametr ```self``` odkazující na konkrétní **object**\n",
    "    - Neznačí se dekorátorem\n",
    "    - Má přístup k instanci i třídě\n",
    "- Třídní \n",
    "    - Má parametr ```cls``` odkazující na **třídu**\n",
    "    - Značí se dekorátorem ```@classmethod```\n",
    "    - Má přístup pouze k třídě\n",
    "- Statická\n",
    "    - Nemá ```self``` ani ```cls``` parametr\n",
    "    - Značí se dekorátorem ```@staticmethod```\n",
    "    - Nemá přísutp k třídě ani instanci\n",
    "    \n",
    "###### Co používat\n",
    "Osobně bych volil jednoduché pravidlo:\n",
    "- Zvolim instanční metodu\n",
    "- Nepoužívám parametr ```self``` udělám z ní třídní metodu\n",
    "- Nepoužívám parametr ```cls``` udělám z ní statickou metodu\n"
   ]
  },
  {
   "cell_type": "markdown",
   "id": "86a7dcce-6eee-4d11-9621-099cd826afad",
   "metadata": {},
   "source": [
    "#### Základní pilíře objektově-orientovaného programování\n",
    "Jedná se o čtyří principy na, kterých je OOP postaveno:\n",
    "1. **Polymorfismus** (polymorphism)\n",
    "2. **Dědičnost** (inheritance)\n",
    "3. **Zapouzdření** (encapsulation)\n",
    "4. **Abstrakce** (abstraction)\n",
    "\n",
    "##### Polymorfismus\n",
    "V doslovném překladu znamená mnohotvárnost nebo monoho forem.\\\n",
    "Pro nás ve světě OOP to znamená, že můžeme pracovat stejně s různými formamy objektu.\n",
    "V následujícím příkladu, můžete vidět výpis informací o vozidle je stejný pro instance různých tříd."
   ]
  },
  {
   "cell_type": "code",
   "execution_count": 15,
   "id": "cb8d30bc-56d4-4309-880c-6fa66d897417",
   "metadata": {},
   "outputs": [
    {
     "name": "stdout",
     "output_type": "stream",
     "text": [
      "Jsem auto\n",
      "Jsem nákladní vůz\n"
     ]
    }
   ],
   "source": [
    "class Auto:\n",
    "    @staticmethod\n",
    "    def print():\n",
    "        print(\"Jsem auto\")\n",
    "\n",
    "class NakladniVuz:\n",
    "    @staticmethod\n",
    "    def print():\n",
    "        print(\"Jsem nákladní vůz\")\n",
    "\n",
    "vozidla = [Auto(), NakladniVuz()]\n",
    "\n",
    "for vuz in vozidla:\n",
    "    vuz.print() #stejná práce s různými typy"
   ]
  },
  {
   "cell_type": "markdown",
   "id": "4db888a4-c148-4bcd-b789-55b1d5fb006b",
   "metadata": {},
   "source": [
    "##### Dědičnost\n",
    "Jedná se o sdílení svých atributů a method se svými potomky.\\\n",
    "Dědičnost nám umožnuje redukovat duplikovaný kód.\n",
    "\n",
    "Dejme tomu, že bychom chtěli mít možnost měnit jednotlivé atributy třídy auto v dávce.\\\n",
    "Všechna auta máme v paměti.\\\n",
    "Tyto změny bychom chtěli seskupit a později zavolat v dávce. Proto je nutné je umít reprezentované objekty."
   ]
  },
  {
   "cell_type": "code",
   "execution_count": 16,
   "id": "4e2ca828-cc65-44b2-886d-98c89c885932",
   "metadata": {},
   "outputs": [],
   "source": [
    "class Auto:\n",
    "    def __init__(self, spz: str, znacka: str, objem_nadrze: int):\n",
    "        self._spz = spz\n",
    "        self._znacka = znacka\n",
    "        self._objem_nadrze = objem_nadrze\n",
    "    \n",
    "    @property\n",
    "    def spz(self):\n",
    "        return self._spz\n",
    "    \n",
    "    def print(self):\n",
    "        print(f\"Auto s SPZ: {self._spz} značky {self._znacka} a objemem nádrže {self._objem_nadrze} litrů\")"
   ]
  },
  {
   "cell_type": "code",
   "execution_count": 17,
   "id": "72dd0238-6ee7-4249-b247-a7baab835a55",
   "metadata": {},
   "outputs": [
    {
     "name": "stdout",
     "output_type": "stream",
     "text": [
      "Auto s SPZ: 1H34576 značky Volvo a objemem nádrže 70 litrů\n",
      "Auto s SPZ: 7P38863 značky Audi a objemem nádrže 60 litrů\n",
      "\n",
      "Auto s SPZ: 1H34576 značky Nissan a objemem nádrže 70 litrů\n",
      "Auto s SPZ: 7P38863 značky Audi a objemem nádrže 100 litrů\n"
     ]
    }
   ],
   "source": [
    "class ZmenZnackuAuta:\n",
    "    \n",
    "    def __init__(self, auta: [], spz: str, znacka: str):\n",
    "        self._auta = auta # Duplicita\n",
    "        self._spz = spz # Duplicita\n",
    "        self._znacka = znacka\n",
    "        \n",
    "    def zmen(self):\n",
    "        for auto in self._auta: # Duplicita\n",
    "            if auto.spz == self._spz: # Duplicita\n",
    "                auto._znacka = self._znacka\n",
    "        \n",
    "        \n",
    "class ZmenObjemNadrzeAuta:\n",
    "    \n",
    "    def __init__(self, auta: [],spz: str, objem_nadrze: int):\n",
    "        self._spz = spz # Duplicita\n",
    "        self._auta = auta # Duplicita\n",
    "        self._objem_nadrze = objem_nadrze\n",
    "        \n",
    "    def zmen(self):\n",
    "        for auto in self._auta: # Duplicita\n",
    "            if auto.spz == self._spz: # Duplicita\n",
    "                auto._objem_nadrze = self._objem_nadrze\n",
    "        \n",
    "auta = [Auto(\"1H34576\", \"Volvo\", 70), Auto(\"7P38863\", \"Audi\", 60)]\n",
    "\n",
    "def print_auta():\n",
    "    for auto in auta:\n",
    "        auto.print()\n",
    "\n",
    "print_auta()\n",
    "ZmenZnackuAuta(auta, \"1H34576\", \"Nissan\").zmen()\n",
    "ZmenObjemNadrzeAuta(auta, \"7P38863\", 100).zmen()       \n",
    "\n",
    "print()\n",
    "print_auta()"
   ]
  },
  {
   "cell_type": "markdown",
   "id": "b92eb2c2-f92f-454b-8616-ed74dc21f9d2",
   "metadata": {},
   "source": [
    "Lze za pomocí dědičnosti přepsat na"
   ]
  },
  {
   "cell_type": "code",
   "execution_count": 18,
   "id": "70f0960b-c1a6-45ca-b20c-49282a67bf04",
   "metadata": {},
   "outputs": [
    {
     "name": "stdout",
     "output_type": "stream",
     "text": [
      "Auto s SPZ: 1H34576 značky Volvo a objemem nádrže 70 litrů\n",
      "Auto s SPZ: 7P38863 značky Audi a objemem nádrže 60 litrů\n",
      "\n",
      "Auto s SPZ: 1H34576 značky Nissan a objemem nádrže 70 litrů\n",
      "Auto s SPZ: 7P38863 značky Audi a objemem nádrže 100 litrů\n"
     ]
    }
   ],
   "source": [
    "class ZmenAuto: # Rodičovská třída\n",
    "    def __init__(self, auta: [], spz: str):\n",
    "        self._auta = auta\n",
    "        self._spz = spz\n",
    "    \n",
    "    def zmen(self):\n",
    "        for auto in self._auta:\n",
    "            if auto.spz == self._spz:\n",
    "                self.zmen_atribut(auto) # Volání metody potomka\n",
    "        \n",
    "class ZmenZnackuAuta(ZmenAuto):\n",
    "    \n",
    "    def __init__(self, auta: [], spz: str, znacka: str):\n",
    "        super().__init__(auta, spz)\n",
    "        self._znacka = znacka\n",
    "        \n",
    "    def zmen_atribut(self, auto):\n",
    "        auto._znacka = self._znacka\n",
    "        \n",
    "        \n",
    "class ZmenObjemNadrzeAuta(ZmenAuto):\n",
    "    \n",
    "    def __init__(self, auta: [],spz: str, objem_nadrze: int):\n",
    "        super().__init__(auta, spz)\n",
    "        self._objem_nadrze = objem_nadrze\n",
    "        \n",
    "    def zmen_atribut(self, auto):\n",
    "        auto._objem_nadrze = self._objem_nadrze\n",
    "        \n",
    "auta = [Auto(\"1H34576\", \"Volvo\", 70), Auto(\"7P38863\", \"Audi\", 60)]\n",
    "\n",
    "def print_auta():\n",
    "    for auto in auta:\n",
    "        auto.print()\n",
    "\n",
    "print_auta()\n",
    "ZmenZnackuAuta(auta, \"1H34576\", \"Nissan\").zmen() # Volání metody rodiče\n",
    "ZmenObjemNadrzeAuta(auta, \"7P38863\", 100).zmen() # Volání metody rodiče  \n",
    "\n",
    "print()\n",
    "print_auta()"
   ]
  },
  {
   "cell_type": "markdown",
   "id": "7c50ad2c-3612-4a68-96b4-7d8991d23178",
   "metadata": {},
   "source": [
    "Chceteli se dozvědět více doporučuji si dohledat jiné zdroje.\\\n",
    "Více ji nebudeme rozebírat, protože:\n",
    "- Za moji kariéru jsem ji téměř nepoužil\n",
    "- Vyděl jsem pouze pár reálných použití v aplikacích a všech se špatně hledala příčina chyby\n",
    "- Zvyšuje výrazně počet závislostí v kódu s rostoucím počtem úrovní dědičnosti, které vedou k tomu, že se s kódem hůře pracuje\n",
    "- Je doporučené preferovat kompozici před dědičností více se můžete dočíst v knize [Design Patters](https://isbndb.com/book/9780201633610)\n",
    "- Využití dědičnosti u vzoru [metoda šablony (template method)](https://en.wikipedia.org/wiki/Template_method_pattern) je jediné použití dědičnosti, na které jsem narazil a líbí se mi."
   ]
  },
  {
   "cell_type": "markdown",
   "id": "78f2048b-e3eb-4d6c-b2c2-fb2f1781cc98",
   "metadata": {},
   "source": [
    "##### Zapouzdření\n",
    "Jedná se o zabalaní skupiny atributů a metod do jednoho objektu a omezení přístupu k interním atributům a metodám.\n",
    "Často se mluví o skrávání dat (data hiding). Zapouzdření znamená, že každý objekt by měl kontrolovat svůj vlastní stav.\n",
    "\n",
    "Příklad jsme uváděli v sekci **Ochrana přístupu k vlastnostem objektu**.\n",
    "\n",
    "V ukázce sekce o dědičnosti si můžeme všimnout zapouzdření ve třídách ```ZmenZnackuAuta``` a ```ZmenObjemNadrzeAuta```. Tyto třídy třídy zapouzdřují data a perace, které jsou potřeba k provedení změny. Já pouze zvolím co se má stát a následně zavolám metodu ```zmen()```.\n",
    "\n",
    "Ale v dané ukázce můžeme pouźít možnosti dalšího zapouzdření:"
   ]
  },
  {
   "cell_type": "code",
   "execution_count": 19,
   "id": "fa59e19d-151f-4460-bf8a-500e1eb9945a",
   "metadata": {},
   "outputs": [
    {
     "name": "stdout",
     "output_type": "stream",
     "text": [
      "Auto s SPZ: 1H34576 značky Volvo a objemem nádrže 70 litrů\n",
      "Auto s SPZ: 7P38863 značky Audi a objemem nádrže 60 litrů\n"
     ]
    }
   ],
   "source": [
    "class ZmenAuto:\n",
    "    def __init__(self, auta: [], spz: str):\n",
    "        self._auta = auta\n",
    "        self._spz = spz\n",
    "    \n",
    "    def zmen(self):\n",
    "        for auto in self._auta:       # Hledáme auto podle SPZ\n",
    "            if auto.spz == self._spz: # Hledáme auto podle SPZ\n",
    "                self.zmen_atribut(auto)\n",
    "                \n",
    "auta = [Auto(\"1H34576\", \"Volvo\", 70), Auto(\"7P38863\", \"Audi\", 60)] # Ukládáme auta\n",
    "\n",
    "def print_auta(): # Tiskneme auta\n",
    "    for auto in auta:\n",
    "        auto.print()\n",
    "\n",
    "print_auta()"
   ]
  },
  {
   "cell_type": "markdown",
   "id": "dc491cdd-5455-47eb-8b5d-580ac2052558",
   "metadata": {},
   "source": [
    "Pokud bychom chtěli ukládat auto do slovníku podle SPZ místo polu z důvodu vyšší performance při hledání aut,\n",
    "museli bychom zasahovat na více místech:"
   ]
  },
  {
   "cell_type": "code",
   "execution_count": 22,
   "id": "808b5ef4-1d6d-408a-82ee-69b46fbdb42c",
   "metadata": {},
   "outputs": [
    {
     "name": "stdout",
     "output_type": "stream",
     "text": [
      "Auto s SPZ: 1H34576 značky Nissan a objemem nádrže 70 litrů\n",
      "Auto s SPZ: 7P38863 značky Audi a objemem nádrže 100 litrů\n"
     ]
    }
   ],
   "source": [
    "class ZmenAuto:\n",
    "    def __init__(self, auta: {}, spz: str):\n",
    "        self._auta = auta\n",
    "        self._spz = spz\n",
    "    \n",
    "    def zmen(self):\n",
    "        auto = auta.get(self._spz) # cyklus a podmínka -> <slovník>.get(<hodnota>)\n",
    "        self.zmen_atribut(auto)\n",
    "\n",
    "class ZmenZnackuAuta(ZmenAuto):\n",
    "    \n",
    "    def __init__(self, auta: [], spz: str, znacka: str):\n",
    "        super().__init__(auta, spz)\n",
    "        self._znacka = znacka\n",
    "        \n",
    "    def zmen_atribut(self, auto):\n",
    "        auto._znacka = self._znacka\n",
    "        \n",
    "        \n",
    "class ZmenObjemNadrzeAuta(ZmenAuto):\n",
    "    \n",
    "    def __init__(self, auta: [],spz: str, objem_nadrze: int):\n",
    "        super().__init__(auta, spz)\n",
    "        self._objem_nadrze = objem_nadrze\n",
    "        \n",
    "    def zmen_atribut(self, auto):\n",
    "        auto._objem_nadrze = self._objem_nadrze\n",
    "                \n",
    "auta = { # pole -> slovník\n",
    "    \"1H34576\": Auto(\"1H34576\", \"Volvo\", 70),\n",
    "    \"7P38863\": Auto(\"7P38863\", \"Audi\", 60)\n",
    "}\n",
    "\n",
    "def print_auta(): # Tiskneme auta\n",
    "    for auto in auta.values(): # auta -> auta.values()\n",
    "        auto.print()\n",
    "\n",
    "ZmenZnackuAuta(auta, \"1H34576\", \"Nissan\").zmen()\n",
    "ZmenObjemNadrzeAuta(auta, \"7P38863\", 100).zmen()\n",
    "print_auta()"
   ]
  },
  {
   "cell_type": "markdown",
   "id": "d0b5d9a9-47a9-48b6-a60e-32e4fd2f1877",
   "metadata": {},
   "source": [
    "Změny jsme provedly dohromady an třech různých místech. Kdybychom měli reálnou aplikaci, s vysokovou pravděpodobností by těch změn bylo daleko více a na více různých místech.\n",
    "\n",
    "O co bychom se měli při programování snažit je lokalizovat věci co spolu souvisí. V našem případě máme data aut, které chceme tisknout a vyhledávat v nich podle SPZ. Proto vytvoříme odpovídající třídu Auta."
   ]
  },
  {
   "cell_type": "code",
   "execution_count": 30,
   "id": "e4863c7f-8b07-41d7-8f82-c9c9f9359c26",
   "metadata": {},
   "outputs": [
    {
     "name": "stdout",
     "output_type": "stream",
     "text": [
      "Auto s SPZ: 1H34576 značky Volvo a objemem nádrže 70 litrů\n",
      "Auto s SPZ: 7P38863 značky Audi a objemem nádrže 60 litrů\n",
      "\n",
      "Výsledek hledání pro spz 1H34576.\n",
      "Auto s SPZ: 1H34576 značky Volvo a objemem nádrže 70 litrů\n"
     ]
    }
   ],
   "source": [
    "class Auta:\n",
    "    \n",
    "    def __init__(self):\n",
    "        self._auta = {\n",
    "            \"1H34576\": Auto(\"1H34576\", \"Volvo\", 70),\n",
    "            \"7P38863\": Auto(\"7P38863\", \"Audi\", 60)\n",
    "        }\n",
    "        \n",
    "    def print(self):\n",
    "        for auto in self._auta.values():\n",
    "            auto.print()\n",
    "            \n",
    "    def najdi_podle_spz(self, spz: str):\n",
    "        return self._auta.get(spz)\n",
    "        \n",
    "auta = Auta()\n",
    "auta.print()\n",
    "\n",
    "print(\"\\nVýsledek hledání pro spz 1H34576.\")\n",
    "auta.najdi_podle_spz(\"1H34576\").print()"
   ]
  },
  {
   "cell_type": "markdown",
   "id": "957105f5-9fe1-46cf-bd11-423731bdc287",
   "metadata": {},
   "source": [
    "Zakompunujeme li to do příkladu, bude to vypadat takto:"
   ]
  },
  {
   "cell_type": "code",
   "execution_count": 31,
   "id": "ab16381f-bf8a-49c0-b85d-edbd1e776874",
   "metadata": {},
   "outputs": [
    {
     "name": "stdout",
     "output_type": "stream",
     "text": [
      "Auto s SPZ: 1H34576 značky Nissan a objemem nádrže 70 litrů\n",
      "Auto s SPZ: 7P38863 značky Audi a objemem nádrže 100 litrů\n"
     ]
    }
   ],
   "source": [
    "class ZmenAuto:\n",
    "    def __init__(self, auta: Auta, spz: str):\n",
    "        self._auta = auta\n",
    "        self._spz = spz\n",
    "    \n",
    "    def zmen(self):\n",
    "        auto = auta.najdi_podle_spz(self._spz)\n",
    "        self.zmen_atribut(auto)\n",
    "\n",
    "class ZmenZnackuAuta(ZmenAuto):\n",
    "    \n",
    "    def __init__(self, auta: Auta, spz: str, znacka: str):\n",
    "        super().__init__(auta, spz)\n",
    "        self._znacka = znacka\n",
    "        \n",
    "    def zmen_atribut(self, auto):\n",
    "        auto._znacka = self._znacka\n",
    "        \n",
    "        \n",
    "class ZmenObjemNadrzeAuta(ZmenAuto):\n",
    "    \n",
    "    def __init__(self, auta: [],spz: str, objem_nadrze: int):\n",
    "        super().__init__(auta, spz)\n",
    "        self._objem_nadrze = objem_nadrze\n",
    "        \n",
    "    def zmen_atribut(self, auto):\n",
    "        auto._objem_nadrze = self._objem_nadrze\n",
    "                \n",
    "auta = Auta()\n",
    "\n",
    "ZmenZnackuAuta(auta, \"1H34576\", \"Nissan\").zmen()\n",
    "ZmenObjemNadrzeAuta(auta, \"7P38863\", 100).zmen()\n",
    "auta.print()"
   ]
  },
  {
   "cell_type": "markdown",
   "id": "66352e6f-a5ce-465e-8a12-ea0b6eb4e03b",
   "metadata": {},
   "source": [
    "V případě, že budeme chtít změnit typ ze slovníku zpět na pole provedeme změny pouze v třídě Auto a vše ostatní funguje."
   ]
  },
  {
   "cell_type": "code",
   "execution_count": 34,
   "id": "e0858c67-b953-4706-a20b-9e60b535456b",
   "metadata": {},
   "outputs": [
    {
     "name": "stdout",
     "output_type": "stream",
     "text": [
      "Auto s SPZ: 1H34576 značky Nissan a objemem nádrže 70 litrů\n",
      "Auto s SPZ: 7P38863 značky Audi a objemem nádrže 100 litrů\n"
     ]
    }
   ],
   "source": [
    "class Auta:\n",
    "    \n",
    "    def __init__(self):\n",
    "        self._auta = [Auto(\"1H34576\", \"Volvo\", 70),\n",
    "            Auto(\"7P38863\", \"Audi\", 60)]\n",
    "        \n",
    "    def print(self):\n",
    "        for auto in self._auta:\n",
    "            auto.print()\n",
    "            \n",
    "    def najdi_podle_spz(self, spz: str):\n",
    "        for auto in self._auta:\n",
    "            if auto._spz == spz:\n",
    "                return auto\n",
    "    \n",
    "auta = Auta()\n",
    "\n",
    "ZmenZnackuAuta(auta, \"1H34576\", \"Nissan\").zmen()\n",
    "ZmenObjemNadrzeAuta(auta, \"7P38863\", 100).zmen()\n",
    "auta.print()"
   ]
  },
  {
   "cell_type": "markdown",
   "id": "6d5255be-ffae-4f5d-8553-478c334cfc73",
   "metadata": {},
   "source": [
    "##### Abstrakce\n",
    "Abstrakce je o schovávání implementačních detailů, komplexity daného problému za jednoduché rozhraní.\\\n",
    "Příkladem může být řízení auta. Strčíte klíč a nastartujete, otáčíte volantem, řadící páku dávate do nékolika poloh, brzda, plyn a občas doplnim palivo. O míchání paliva se vzduchem, řízení vstřikování nebo do konce o ovládání komponent změnou elektrického napětí se nemusíme vůbec starat."
   ]
  },
  {
   "cell_type": "code",
   "execution_count": null,
   "id": "ed43cbb4-438a-4975-8bc6-a9f1a9813d5f",
   "metadata": {},
   "outputs": [],
   "source": [
    "class Auto:\n",
    "    \n",
    "    def otoc_volantem(uhel):\n",
    "        pass\n",
    "    \n",
    "    def zarad(stupen):\n",
    "        pass\n",
    "    \n",
    "    def seslapni_plyn(intenzita):\n",
    "        pass\n",
    "    \n",
    "    def seslapni_brzdu(intenzita):\n",
    "        pass"
   ]
  },
  {
   "cell_type": "markdown",
   "id": "9114dfd4-91f5-4aad-9ebe-514ddeb4c454",
   "metadata": {},
   "source": [
    "Abstrakce je také o redukci implementačních detailů na nezbytné množství pro požadovanou funkčnost.\\\n",
    "Pokud chceme evidovat ujeté kilometry a tankování není nutné, aby náš objekt auta implementoval funkcionalitu řízení.\n",
    "\n",
    "Pokud dělám jednoduchou hru s auty, stačí mi určit zrychlení úměrně k množství plynu a rychlosti a nepotřebuji implementovat spalování v motoru, jeho výsledné otáčku a jejich přenos do rychlosti.\n",
    "\n",
    "V již zmíněném příkladě:"
   ]
  },
  {
   "cell_type": "code",
   "execution_count": null,
   "id": "eba3e92a-95ca-46c1-b478-2b6fa53743b9",
   "metadata": {},
   "outputs": [],
   "source": [
    "class Auta:\n",
    "    \n",
    "    def __init__(self):\n",
    "        self._auta = {\n",
    "            \"1H34576\": Auto(\"1H34576\", \"Volvo\", 70),\n",
    "            \"7P38863\": Auto(\"7P38863\", \"Audi\", 60)\n",
    "        }\n",
    "        \n",
    "    def print(self):\n",
    "        for auto in self._auta.values():\n",
    "            auto.print()\n",
    "            \n",
    "    def najdi_podle_spz(self, spz: str):\n",
    "        return self._auta.get(spz)"
   ]
  },
  {
   "cell_type": "markdown",
   "id": "5d4a9290-1014-4898-879e-ce4619dbee93",
   "metadata": {},
   "source": [
    "Jsme implementovali uložiště automobilů pouze v paměti, protoŽe pro naší ukázku to bylo dostatečné. V reálné aplikaci by tato třída ```Auta``` mohla reprezentovat přístup do relační databáze a byla o něco složitější. "
   ]
  },
  {
   "cell_type": "markdown",
   "id": "abca927c-c97b-4302-bbfa-5de7948b6689",
   "metadata": {},
   "source": [
    "#### Vyšsí myšlenka OOP\n",
    "Objektově orientované programování nekončí u objektů a čtyř pilířu, ale začíná. Přijde mi, že myšlenka OOP je dnes dost folmarizovaná a hodně orientovaná na objekty, ale ve skutečnosti toho skrývá mnohem více.\n",
    "\n",
    "S názvem pro Objektově orientované programování přišel [Alan Kay](https://en.wikipedia.org/wiki/Alan_Kay) a řekl o něm několik věcí:\n",
    "\n",
    "> I'm sorry that I long ago coined the term \"objects\" for this topic because it gets many people to focus on the\n",
    "lesser idea. The big idea is messaging. [odkaz](http://lists.squeakfoundation.org/pipermail/squeak-dev/1998-October/017019.html)\n",
    "\n",
    "> OOP to me means only messaging, local retention and protection and hiding of state-process, and extreme late-binding of all things. [odkaz](https://www.purl.org/stefan_ram/pub/doc_kay_oop_en)\n",
    "\n",
    "> The whole point of OOP is not to have to worry about what is inside an object. Objects made on different machines and with different languages should be able to talk to each other. [odkaz](http://worrydream.com/EarlyHistoryOfSmalltalk/)\n",
    "\n",
    "##### Messaging (Zasílání zpráv)\n",
    "Alan Kay říká, že hlavní myšlenkou OOP je zasílání zpráv. Zasílání zpráv může mít spustu významů a podob. Je to jeden ze způsobů komunikace v distribuovaných systémech, ale na druhou stranu i volání method objektů pro získání informací a provedení operací se do toho dá počítat.\n",
    "\n",
    "Na to jak by dané zprávy měli vypadat není lehká odpověď a pravděpodobně se to vždy bude lišit v závislosti na reálných případech, ale pokud se budete snažit sdružovat související data a operace nad nimi, jste na dobré cestě. Inspirovat se můžete principem principem [TellDontAsk](https://martinfowler.com/bliki/TellDontAsk.html).\n",
    "\n",
    "<img src=\"TellDontAsk.png\" width=\"300\">\n",
    "\n",
    "\n",
    "Magic methods\n",
    "add summaries"
   ]
  },
  {
   "cell_type": "code",
   "execution_count": null,
   "id": "a4c3e8b3-5814-488e-887e-1652396d8994",
   "metadata": {},
   "outputs": [],
   "source": []
  }
 ],
 "metadata": {
  "kernelspec": {
   "display_name": "Python 3 (ipykernel)",
   "language": "python",
   "name": "python3"
  },
  "language_info": {
   "codemirror_mode": {
    "name": "ipython",
    "version": 3
   },
   "file_extension": ".py",
   "mimetype": "text/x-python",
   "name": "python",
   "nbconvert_exporter": "python",
   "pygments_lexer": "ipython3",
   "version": "3.10.5"
  }
 },
 "nbformat": 4,
 "nbformat_minor": 5
}

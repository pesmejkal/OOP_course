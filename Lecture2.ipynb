{
 "cells": [
  {
   "cell_type": "markdown",
   "id": "6bb2c81b-7033-4913-81e6-08e69fc659c3",
   "metadata": {},
   "source": [
    "# Ochrana přístupu k vlastnostem objektu\n",
    "Jsou případy, kdy chceme některé vlastnosti objektu ochránit před změnou nebo špatnou manipulací. Příkladem může být objem nádrže automobilu, který nemůže být menší než nula nebo při tankování doplnit více než je maximum, ale nám nic nebrání v tom to nastavit."
   ]
  },
  {
   "cell_type": "markdown",
   "id": "baca080b-e07e-4c4e-89d0-abba1988bea9",
   "metadata": {},
   "source": [
    "## Pomocí konvence\n",
    "Některé jazyky (Java, TypeScript, C#, ...) mají modifikátory přístupu ([Access modifiers](https://en.wikipedia.org/wiki/Access_modifiers)), které nám umožňují schovat atribut objektu před vnějším použitím, Python to bohužel neumí.\n",
    "\n",
    "Proto **existuje konvence použití podtržítka \\\"_\\\" před názvem atributu**.\n",
    "Tato konvence říká, že atribut je **interní, ale nic nebrání jejímu použití**. "
   ]
  },
  {
   "cell_type": "code",
   "execution_count": 1,
   "id": "05102b4c-e900-4ae9-a36a-6286f800a6a3",
   "metadata": {},
   "outputs": [
    {
     "name": "stdout",
     "output_type": "stream",
     "text": [
      "Auto značky Volvo s objemem nádrže 70 litrů\n",
      "Auto značky Volvo s objemem nádrže -10 litrů\n"
     ]
    }
   ],
   "source": [
    "class Auto:\n",
    "    \n",
    "    def __init__(self, znacka: str, objem_nadrze: int):\n",
    "        self.znacka = znacka\n",
    "        \n",
    "        assert objem_nadrze > 0, \"Objem nádrže nesmí být menší než 0\"\n",
    "        self._objem_nadrze = objem_nadrze\n",
    "    \n",
    "    def print(self) -> None:\n",
    "        print(f\"Auto značky {self.znacka} s objemem nádrže {self._objem_nadrze} litrů\")\n",
    "\n",
    "#auto = Auto(\"Volvo\", -5); # Vyhodí chybu AssertionError: Objem nádrže nesmí být menší než 0\n",
    "auto = Auto(\"Volvo\", 70);\n",
    "auto.print()\n",
    "\n",
    "auto._objem_nadrze = -10\n",
    "auto.print()"
   ]
  },
  {
   "cell_type": "markdown",
   "id": "0ed0966e-e04a-4ed6-8d78-5bc51a2aea7e",
   "metadata": {},
   "source": [
    "- Také **existuje konvence použití dvou podtržítek \\\"__\\\" před názvem atributu**.\n",
    "- Tato konvence říká, že atribut je **chráněný, ale i tak se dá použít**.\n",
    "- Interpret nám nezpřístupní daný atribut, ale dojde k jeho přejmenování na **\\\"_Auto__objemNadrze\\\"**.\n",
    "- Je možné si dohledat atributy instance zobrazením slovníku auto.**\\_\\_dict\\_\\_**"
   ]
  },
  {
   "cell_type": "code",
   "execution_count": 2,
   "id": "aac11b0b-a93d-4cb8-a5bc-78da5b1b405c",
   "metadata": {},
   "outputs": [
    {
     "name": "stdout",
     "output_type": "stream",
     "text": [
      "{'znacka': 'Volvo', '_Auto__objem_nadrze': 70}\n",
      "Auto značky Volvo s objemem nádrže 70 litrů\n",
      "Auto značky Volvo s objemem nádrže 70 litrů\n",
      "Auto značky Volvo s objemem nádrže -10 litrů\n"
     ]
    }
   ],
   "source": [
    "class Auto:\n",
    "    \n",
    "    def __init__(self, znacka: str, objem_nadrze: int):\n",
    "        self.znacka = znacka\n",
    "        \n",
    "        assert objem_nadrze > 0, \"Objem nádrže nesmí být menší než 0\"\n",
    "        self.__objem_nadrze = objem_nadrze\n",
    "    \n",
    "    def print(self) -> None:\n",
    "        print(f\"Auto značky {self.znacka} s objemem nádrže {self.__objem_nadrze} litrů\")\n",
    "\n",
    "auto = Auto(\"Volvo\", 70);\n",
    "print(auto.__dict__)\n",
    "auto.print()\n",
    "\n",
    "auto.__objem_nadrze = -10\n",
    "auto.print()\n",
    "\n",
    "auto._Auto__objem_nadrze = -10\n",
    "auto.print()"
   ]
  },
  {
   "cell_type": "markdown",
   "id": "cdd0d3c6-8c0f-4592-a95d-650b7fda7592",
   "metadata": {},
   "source": [
    "## Pomocí metod\n",
    "V Jazycích, kde fungují modifikátory přístupu se často používájí get a set metody.\n",
    "A veškerá manipulace atributů probíhá skrze tyto metody. "
   ]
  },
  {
   "cell_type": "code",
   "execution_count": 4,
   "id": "69a5c3db-34d5-45dd-84ce-3d8e652a9a68",
   "metadata": {},
   "outputs": [
    {
     "name": "stdout",
     "output_type": "stream",
     "text": [
      "Auto značky Volvo s objemem nádrže 70 litrů\n",
      "Objem nádrže je 55 litrů\n",
      "Auto značky Volvo s objemem nádrže -10 litrů\n"
     ]
    }
   ],
   "source": [
    "class Auto:\n",
    "    \n",
    "    def __init__(self, znacka: str, objemNadrze: int):\n",
    "        self.znacka = znacka\n",
    "        self.set_objem_nadrze(objemNadrze)\n",
    "        \n",
    "    def set_objem_nadrze(self, objem_nadrze: int):\n",
    "        assert objem_nadrze > 0, \"Objem nádrže nesmí být menší než 0\"\n",
    "        self._objem_nadrze = objem_nadrze\n",
    "        \n",
    "    def get_objem_nadrze(self) -> int:\n",
    "        return self._objem_nadrze\n",
    "    \n",
    "    def print(self) -> None:\n",
    "        print(f\"Auto značky {self.znacka} s objemem nádrže {self._objem_nadrze} litrů\")\n",
    "\n",
    "auto = Auto(\"Volvo\", 70);\n",
    "auto.print()\n",
    "\n",
    "auto.set_objem_nadrze(55)\n",
    "print(f\"Objem nádrže je {auto.get_objem_nadrze()} litrů\")\n",
    "\n",
    "auto._objem_nadrze = -10\n",
    "auto.print()"
   ]
  },
  {
   "cell_type": "markdown",
   "id": "87f0e58b-41fa-46af-9ec8-baf3a47ccc9a",
   "metadata": {},
   "source": [
    "**Otázky**\n",
    "\n",
    "Pokud bychom get/set metody přidávali do existujícího kódu. Bylo by dobré přepsat všechna použití a to by mohlo být náročné. Abychom to nemuseli dělat, můžeme použít funkci [**property**](). Tato funkce zajistí, že při jakémkoliv přístupu k atributu, dojde k zavolání get nebo set metody.\n",
    "\n",
    "**⚠️property musí mít jiný název než atribut jinak dojde k zacyklení!⚠️**"
   ]
  },
  {
   "cell_type": "code",
   "execution_count": 6,
   "id": "39045ed4-797d-4717-af01-05e430bc8bae",
   "metadata": {},
   "outputs": [
    {
     "name": "stdout",
     "output_type": "stream",
     "text": [
      "Auto značky Volvo s objemem nádrže 70 litrů\n",
      "Objem nádrže je 55 litrů\n"
     ]
    }
   ],
   "source": [
    "class Auto:\n",
    "    \n",
    "    def __init__(self, znacka: str, objem_nadrze: int):\n",
    "        self.znacka = znacka\n",
    "        self.objem_nadrze = objem_nadrze\n",
    "        \n",
    "    def set_objem_nadrze(self, objem_nadrze: int):\n",
    "        assert objem_nadrze > 0, \"Objem nádrže nesmí být menší než 0\"\n",
    "        self._objem_nadrze = objem_nadrze\n",
    "        \n",
    "    def get_objem_nadrze(self) -> int:\n",
    "        return self._objem_nadrze\n",
    "    \n",
    "    def print(self) -> None:\n",
    "        print(f\"Auto značky {self.znacka} s objemem nádrže {self._objem_nadrze} litrů\")\n",
    "    \n",
    "    objem_nadrze = property(get_objem_nadrze, set_objem_nadrze)\n",
    "\n",
    "auto = Auto(\"Volvo\", 70);\n",
    "auto.print()\n",
    "\n",
    "auto.objem_nadrze = 55\n",
    "print(f\"Objem nádrže je {auto.objem_nadrze} litrů\")\n",
    "\n",
    "#auto.objem_nadrze = -10 # toto vyhodí chybu\n",
    "#auto.print()"
   ]
  },
  {
   "cell_type": "markdown",
   "id": "7e3d9a4d-88c8-45dd-8dbd-5789f7e20ea5",
   "metadata": {},
   "source": [
    "**Otázky**\n",
    "\n",
    "## Pomocí metod s dekorátorem\n",
    "[Dekorátor](https://docs.python.org/3/glossary.html#term-decorator) je funkce vracející funkci a umožnuje nám přidat logiku k existující metodě.\n",
    "\n",
    "\n",
    "**⚠️getter decorátor musí být deklarován před setter decorátorem!⚠️**\\\n",
    "Jinak dostanete chybu **NameError: name 'objem_nadrze' is not defined**"
   ]
  },
  {
   "cell_type": "code",
   "execution_count": 7,
   "id": "b5a93a07-818c-4584-b005-c3a7a2729860",
   "metadata": {},
   "outputs": [
    {
     "name": "stdout",
     "output_type": "stream",
     "text": [
      "Auto značky Volvo s objemem nádrže 70 litrů\n",
      "Objem nádrže je 55 litrů\n"
     ]
    }
   ],
   "source": [
    "class Auto:\n",
    "    \n",
    "    def __init__(self, znacka: str, objem_nadrze: int):\n",
    "        self.znacka = znacka\n",
    "        self.objem_nadrze = objem_nadrze\n",
    "    \n",
    "    @property\n",
    "    def objem_nadrze(self) -> int:\n",
    "        return self._objem_nadrze\n",
    "    \n",
    "    @objem_nadrze.setter\n",
    "    def objem_nadrze(self, objem_nadrze: int):\n",
    "        assert objem_nadrze > 0, \"Objem nádrže nesmí být menší než 0\"\n",
    "        self._objem_nadrze = objem_nadrze\n",
    "    \n",
    "    def print(self) -> None:\n",
    "        print(f\"Auto značky {self.znacka} s objemem nádrže {self._objem_nadrze} litrů\")\n",
    "\n",
    "auto = Auto(\"Volvo\", 70);\n",
    "auto.print()\n",
    "\n",
    "auto.objem_nadrze = 55\n",
    "print(f\"Objem nádrže je {auto.objem_nadrze} litrů\")"
   ]
  },
  {
   "cell_type": "markdown",
   "id": "7b3cbf79-cffa-440e-900f-8dab1fbee463",
   "metadata": {},
   "source": [
    "**Otázky**\n",
    "\n",
    "### Co používat\n",
    "- Pokud máte atributy, které chcete chránit vždy používejte konvence\n",
    "- U chráněných atributů používejte kotrolu pomocí metod.\n",
    "    - Použití dekorátorů je rozšířenější, jednoduché a přehledné\n",
    "    \n",
    "**Otázky**"
   ]
  },
  {
   "cell_type": "markdown",
   "id": "61fccb7f-28f7-4895-b97c-2bff0611102c",
   "metadata": {},
   "source": [
    "# Typy metod v Python OOP\n",
    "**Otázky**\n",
    "* Co si představíte pod typy method v OOP?\n",
    "* Kolik typů máme?\n",
    "\n",
    "Dejme tomu, že máme zákazníka pronajímajícího auta, který si vede evidenci v excelu.\\\n",
    "Vzhledem k tomu, že se mu daří auta, zakázky přibývají tak to začíná být neúnosné.\\\n",
    "Proto se rozhodl to převést do systému/programu.\n",
    "\n",
    "**Úkol**\\\n",
    "Naprogramujte načítání záznamů excel souboru ve formátu csv `<znacka>,<objem_nadrze>`"
   ]
  },
  {
   "cell_type": "code",
   "execution_count": 8,
   "id": "4dc91a1e-9585-4283-ba72-fc14bbf8c7ae",
   "metadata": {},
   "outputs": [
    {
     "name": "stdout",
     "output_type": "stream",
     "text": [
      "Auto značky Volvo s objemem nádrže 70 litrů\n",
      "Auto značky Nissan s objemem nádrže 45 litrů\n",
      "Auto značky Audi s objemem nádrže 65 litrů\n"
     ]
    }
   ],
   "source": [
    "auta_csv = \"\"\"Volvo,70\n",
    "            Nissan,45\n",
    "            Audi,65\"\"\"\n",
    "\n",
    "radky = auta_csv.split()\n",
    "auta = []\n",
    "for radek in radky:\n",
    "    znacka, objem_nadrze = radek.split(\",\")\n",
    "    auto = Auto(znacka, int(objem_nadrze))\n",
    "    auta.append(auto)\n",
    "    \n",
    "for auto in auta:\n",
    "    auto.print()"
   ]
  },
  {
   "cell_type": "markdown",
   "id": "b08cceb8-22a3-4425-b7c5-48ac6645cabf",
   "metadata": {},
   "source": [
    "Uvedený kód je krásná ukázka procedurálního programování.\n",
    "\n",
    "Pokud bychom chtěli přepsat kód na objektovější, můžeme udělat dvě věci:\n",
    "- Přesunout vytváření objektu auto do třídy Auto. Metodě, která vytváří instanci třídy se říka [Factory method](https://en.wikipedia.org/wiki/Factory_method_pattern)\n",
    "- Vytvořit novou třídu CsvMapovac a přesunout do ní ostatní logiku načítání "
   ]
  },
  {
   "cell_type": "code",
   "execution_count": 9,
   "id": "97a11ef8-9436-4904-b266-6dbd82d970e3",
   "metadata": {},
   "outputs": [
    {
     "name": "stdout",
     "output_type": "stream",
     "text": [
      "Auto značky Volvo s objemem nádrže 70 litrů\n",
      "Auto značky Nissan s objemem nádrže 45 litrů\n",
      "Auto značky Audi s objemem nádrže 65 litrů\n"
     ]
    }
   ],
   "source": [
    "class Auto:\n",
    "    \n",
    "    def __init__(self, znacka: str, objem_nadrze: int):\n",
    "        self.znacka = znacka\n",
    "        self.objem_nadrze = objem_nadrze\n",
    "    \n",
    "    @property\n",
    "    def objem_nadrze(self) -> int:\n",
    "        return self._objem_nadrze\n",
    "    \n",
    "    @objem_nadrze.setter\n",
    "    def objem_nadrze(self, objem_nadrze: int):\n",
    "        assert objem_nadrze > 0, \"Objem nádrže nesmí být menší než 0\"\n",
    "        self._objem_nadrze = objem_nadrze\n",
    "    \n",
    "    @classmethod\n",
    "    def nacti_z_csv(cls, radek: str): # metoda třídy # Factory method\n",
    "        znacka, objem_nadrze = radek.split(\",\")\n",
    "        return cls(znacka, int(objem_nadrze))\n",
    "    \n",
    "    def print(self) -> None: # metoda instance\n",
    "        print(f\"Auto značky {self.znacka} s objemem nádrže {self._objem_nadrze} litrů\")\n",
    "\n",
    "class CsvMapovac:\n",
    "    \n",
    "    @staticmethod\n",
    "    def mapuj(auta_csv: str, cls): # statická metoda\n",
    "        auta = []\n",
    "        for radek in radky:\n",
    "            auto = cls.nacti_z_csv(radek)\n",
    "            auta.append(auto)\n",
    "        return auta\n",
    "    \n",
    "auta_csv = \"\"\"Volvo,70\n",
    "Nissan,45\n",
    "Audi,65\"\"\"\n",
    "\n",
    "auta = CsvMapovac.mapuj(auta_csv, Auto)\n",
    "for auto in auta:\n",
    "    auto.print()"
   ]
  },
  {
   "cell_type": "markdown",
   "id": "8c154f97-1e75-4f10-8739-2862d0d06a50",
   "metadata": {},
   "source": [
    "**Otázky**\n",
    "\n",
    "V předchozím kódu si můžete všimnout použití ```@classmethod``` a ```@staticmethod```.\\\n",
    "V Pyhon OOP rozeznáváme tři typy metod:\n",
    "- Instanční\n",
    "    - Má parametr ```self``` odkazující na konkrétní **object**\n",
    "    - Neznačí se dekorátorem\n",
    "    - Má přístup k instanci i třídě\n",
    "- Třídní \n",
    "    - Má parametr ```cls``` odkazující na **třídu**\n",
    "    - Značí se dekorátorem ```@classmethod```\n",
    "    - Má přístup pouze k třídě\n",
    "- Statická\n",
    "    - Nemá ```self``` ani ```cls``` parametr\n",
    "    - Značí se dekorátorem ```@staticmethod```\n",
    "    - Nemá přísutp k třídě ani instanci\n",
    "    \n",
    "## Co používat\n",
    "Osobně bych volil jednoduché pravidlo:\n",
    "- Zvolim instanční metodu\n",
    "- Nepoužívám parametr ```self``` udělám z ní třídní metodu\n",
    "- Nepoužívám parametr ```cls``` udělám z ní statickou metodu\n",
    "\n",
    "**Otázky**\n",
    "**Úkol**\n",
    "* Rozšířit obě varianty o další atributy a validace\n",
    "* Přidat načítání dodávek s nosnostní a objemem"
   ]
  },
  {
   "cell_type": "markdown",
   "id": "a8ccd9b9-b61e-45f0-916c-8141e635172e",
   "metadata": {},
   "source": [
    "# Shrnutí\n",
    "* Python nemá modifikátory přístupu\n",
    "* Použítím podtržítka před názvem říkáme atribut je interní a něl bys ho použít\n",
    "* Použítí dvou podtržítek říká atribut je chráněný a kompilátor změní jeho název\n",
    "* Přístup k atributům můžeme upravit i pomocí method get a set\n",
    "* V dnešní době je rozšířenější řešení pomocí dekorátorů\n",
    "    * Pracujeme jako s atributem, ale volají se metody\n",
    "* Máme tři typy method v Python OOP\n",
    "    * Instanční - má parametr `self` odkazující na volaný objekt\n",
    "    * Třídní - má parametr `cls` odkazující na třídu, značí se `@classmethod`\n",
    "    * Statická - nemá `self` a `cls` parametr, značí se `@staticmethod`"
   ]
  }
 ],
 "metadata": {
  "kernelspec": {
   "display_name": "Python 3 (ipykernel)",
   "language": "python",
   "name": "python3"
  },
  "language_info": {
   "codemirror_mode": {
    "name": "ipython",
    "version": 3
   },
   "file_extension": ".py",
   "mimetype": "text/x-python",
   "name": "python",
   "nbconvert_exporter": "python",
   "pygments_lexer": "ipython3",
   "version": "3.10.9"
  }
 },
 "nbformat": 4,
 "nbformat_minor": 5
}

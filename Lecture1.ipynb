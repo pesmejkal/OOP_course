{
 "cells": [
  {
   "cell_type": "markdown",
   "id": "846c3c81-ef7d-4a47-8df0-09c3b3dc36ba",
   "metadata": {},
   "source": [
    "# O mě\n",
    "* Petr Šmejkal \n",
    "* Programování se věnuji okolo deseti let\n",
    "* V komerční sféře okolo pěti let\n",
    "* Dva měsíce mi trvalo naučit se psát kód v objektově orientovaném jazyce\n",
    "* Po šesti letech jsem si uvědomil, že vlastně nepíšu OOP kód, ale pouze používám OOP jazyk\n",
    "* Nejraději mám jazyky Java a Typescript\n",
    "\n",
    "# Úvod\n",
    "V následujících hodinách si projdeme:\n",
    "* Co to je Objektově orientované programování (OOP)\n",
    "* Tvořit objekty\n",
    "* Pracovat s objekty\n",
    "* Jaký maji vlastosti a typy method\n",
    "* Něco o historii OOP\n",
    "* Rozdílům mezi procedurálním a OOP kódem\n",
    "* Transformovat procedurální kód na OOP kód\n",
    "\n",
    "# Co je objektově orientované programování\n",
    "Objektově orientové programování anglicky **Object oriented programming (OOP)** je specifické programovácí paradigma založené na konceptu objektů, které mohou obsahovat data a kód. Cílem je vytvořit odpovídající objekty, které spolu komunikují tak, aby vyřešili dané zadání. \n",
    "\n",
    "Další informace:\n",
    "- [Object-oriented programming](https://en.wikipedia.org/wiki/Object-oriented_programming)\n",
    "- [Objektově orientované -programování](https://cs.wikipedia.org/wiki/Objektov%C4%9B_orientovan%C3%A9_programov%C3%A1n%C3%AD)\n",
    "\n",
    "## Programovací paradigma\n",
    "Programovácí paradigma je způsob klasifikování programovacích jazyků na základě jejich vlastností, které jsou dány tím jak nad programováním přemýšlíme.\n",
    "\n",
    "Běžná programovací paradigmata jsou:\n",
    "- Imperativní\n",
    "    - Procedurální\n",
    "    - Objektově orientované programování\n",
    "- Deklarativní\n",
    "    - funkcionální\n",
    "    - Logické\n",
    "    - reaktivní\n",
    "\n",
    "Programovací jazyky často naplňují více paradigmat například OOP a procedurální.\n",
    "\n",
    "Další informace:\n",
    "- [Programming paradigm](https://en.wikipedia.org/wiki/Programming_paradigm)\n",
    "- [Programovací paradigma](https://cs.wikipedia.org/wiki/Programovac%C3%AD_paradigma)\n",
    "    \n",
    "# Objekt\n",
    "Objektem často bývá zjednodušená reprezentace věcí reálného světa (auto, monitor, strom, klávesnice, účetní, zaměstnanec).\n",
    "\n",
    "Objekt obsahuje:\n",
    "* data (atributy, vlastnosti, hodnoty)\n",
    "* metody/funkce, které můžou s daty pracovat (číst, měnit) \n",
    "\n",
    "Hodně jazyků jako je například Python, Java, C# mají OOP postavené na [třídách](https://en.wikipedia.org/wiki/Class-based_programming).\n",
    "**Třída (class)** je vzor/šablona pro vytvoření objekt. Často se v těchto jazycích objektu říká **instance** třídy.\n",
    "\n",
    "<img src=\"ClassVsObject.png\" width=\"600\">\n",
    "\n",
    "Ale například javaScript používají [prototypování](https://en.wikipedia.org/wiki/Prototype-based_programming) pro vytváření objektů.\n",
    "\n",
    "**Otázky**\n",
    "\n",
    "## Tvoříme první objekt\n",
    "Máme půjčovnu aut a chceme zákazníkům poskytnout seznam aut, které půjčujeme.\\\n",
    "\n",
    "**Úkol:** \n",
    "Mám tři auta \\['Audi','Nissan', 'Volvo'\\]. A chci vidět:\\\n",
    "Auto značky Audi\\\n",
    "Auto značky Nissan\\\n",
    "Auto značky Volvo"
   ]
  },
  {
   "cell_type": "code",
   "execution_count": 1,
   "id": "4228df00-5675-483b-b633-7370993fe420",
   "metadata": {},
   "outputs": [
    {
     "name": "stdout",
     "output_type": "stream",
     "text": [
      "Auto značky Audi\n",
      "Auto značky Nissan\n",
      "Auto značky Volvo\n"
     ]
    }
   ],
   "source": [
    "# Strukturovaně\n",
    "auta = ['Audi','Nissan', 'Volvo']\n",
    "\n",
    "def printAuto(znacka):\n",
    "    print(f\"Auto značky {znacka}\")\n",
    "    \n",
    "for znacka in auta:\n",
    "     printAuto(znacka)"
   ]
  },
  {
   "cell_type": "code",
   "execution_count": 2,
   "id": "cdce3990-2f78-4000-bb01-f2a5bfeb6ce7",
   "metadata": {},
   "outputs": [
    {
     "name": "stdout",
     "output_type": "stream",
     "text": [
      "Auto značky Audi\n",
      "Auto značky Nissan\n",
      "Auto značky Volvo\n"
     ]
    }
   ],
   "source": [
    "# Objektově\n",
    "class Auto:\n",
    "    \n",
    "    def __init__(self, znacka):\n",
    "        self._znacka = znacka\n",
    "    \n",
    "    def print(self) -> None:\n",
    "        print(f\"Auto značky {self._znacka}\")\n",
    "    \n",
    "auta = [Auto('Audi'), Auto('Nissan'), Auto('Volvo')]\n",
    "\n",
    "for auto in auta:\n",
    "     auto.print()"
   ]
  },
  {
   "cell_type": "markdown",
   "id": "afdf7126-c018-45d2-8e09-468f747bcaa7",
   "metadata": {},
   "source": [
    "**Otázky**\n",
    "\n",
    "**Úkol:** Mám klienty, které zajímají provozní náklady a chtěli by vidět spotřebu auta.\\\n",
    "Audi: 7 l/100km, Nissan: 5 l/100km, Volvo: 6 l/100km"
   ]
  },
  {
   "cell_type": "code",
   "execution_count": 4,
   "id": "d360bd19-98cb-45e7-89a9-cb6f95141ac1",
   "metadata": {},
   "outputs": [
    {
     "name": "stdout",
     "output_type": "stream",
     "text": [
      "Auto značky Audi a spotřebou 7 l/100km\n",
      "Auto značky Nissan a spotřebou 5 l/100km\n",
      "Auto značky Volvo a spotřebou 6 l/100km\n"
     ]
    }
   ],
   "source": [
    "# Strukturovaně\n",
    "auta = [\n",
    "    {\"znacka\": 'Audi', \"spotreba\": 7},\n",
    "    {\"znacka\": 'Nissan', \"spotreba\": 5},\n",
    "    {\"znacka\": 'Volvo', \"spotreba\": 6}\n",
    "]\n",
    "\n",
    "def printAuto(auto):\n",
    "    print(f\"Auto značky {auto['znacka']} a spotřebou {auto['spotreba']} l/100km\")\n",
    "    \n",
    "for auto in auta:\n",
    "     printAuto(auto)"
   ]
  },
  {
   "cell_type": "code",
   "execution_count": 5,
   "id": "651031cc-4fea-4c5f-bcd3-ce65715cea95",
   "metadata": {},
   "outputs": [
    {
     "name": "stdout",
     "output_type": "stream",
     "text": [
      "Auto značky Audi a spotřebou 7 l/100km\n",
      "Auto značky Nissan a spotřebou 5 l/100km\n",
      "Auto značky Volvo a spotřebou 6 l/100km\n"
     ]
    }
   ],
   "source": [
    "# Objektově\n",
    "class Auto:\n",
    "    \n",
    "    def __init__(self, znacka, spotreba):\n",
    "        self._znacka = znacka\n",
    "        self._spotreba = spotreba\n",
    "    \n",
    "    def print(self) -> None:\n",
    "        print(f\"Auto značky {self._znacka} a spotřebou {self._spotreba} l/100km\")\n",
    "    \n",
    "auta = [\n",
    "    Auto('Audi', 7),\n",
    "    Auto('Nissan', 5),\n",
    "    Auto('Volvo', 6)\n",
    "]\n",
    "\n",
    "for auto in auta:\n",
    "     auto.print()"
   ]
  },
  {
   "cell_type": "markdown",
   "id": "7e03e39d-30fe-4555-9d23-683927676def",
   "metadata": {},
   "source": [
    "**Otázky**\n",
    "\n",
    "**Úkol:** Zakoupil jsem dvě dodávky, a klienty hlavně bude zajímat objem nákladu.\n",
    "* Ford s objemem 14 m3\n",
    "* Mercedes-Benz s objemem 17m3"
   ]
  },
  {
   "cell_type": "code",
   "execution_count": 6,
   "id": "9390538f-cf06-4472-83e8-2ea831272c9f",
   "metadata": {},
   "outputs": [
    {
     "name": "stdout",
     "output_type": "stream",
     "text": [
      "Auto značky Audi a spotřebou 7 l/100km\n",
      "Auto značky Nissan a spotřebou 5 l/100km\n",
      "Auto značky Volvo a spotřebou 6 l/100km\n",
      "Dodávka značky Ford a objemem nákladu 14 m3\n",
      "Dodávka značky Mercedes-Benz a objemem nákladu 17 m3\n"
     ]
    }
   ],
   "source": [
    "# Strukturovaně\n",
    "auta = [\n",
    "    {\"znacka\": 'Audi', \"spotreba\": 7},\n",
    "    {\"znacka\": 'Nissan', \"spotreba\": 5},\n",
    "    {\"znacka\": 'Volvo', \"spotreba\": 6}\n",
    "]\n",
    "\n",
    "dodavky = [\n",
    "    {\"znacka\": 'Ford', \"objem\": 14},\n",
    "    {\"znacka\": 'Mercedes-Benz', \"objem\": 17},\n",
    "]\n",
    "\n",
    "def printAuto(auto):\n",
    "    print(f\"Auto značky {auto['znacka']} a spotřebou {auto['spotreba']} l/100km\")\n",
    "    \n",
    "def printDodavka(dodavka):\n",
    "    print(f\"Dodávka značky {dodavka['znacka']} a objemem nákladu {dodavka['objem']} m3\")\n",
    "    \n",
    "for auto in auta:\n",
    "     printAuto(auto)\n",
    "\n",
    "for dodavka in dodavky:\n",
    "     printDodavka(dodavka)"
   ]
  },
  {
   "cell_type": "code",
   "execution_count": 7,
   "id": "554e5ffe-03e5-4d77-85ac-b1b95c566bc5",
   "metadata": {},
   "outputs": [
    {
     "name": "stdout",
     "output_type": "stream",
     "text": [
      "Auto značky Audi a spotřebou 7 l/100km\n",
      "Auto značky Nissan a spotřebou 5 l/100km\n",
      "Auto značky Volvo a spotřebou 6 l/100km\n",
      "Dodávka značky Ford a objemem nákladu 14 m3\n",
      "Dodávka značky Mercedes-Benz a objemem nákladu 17 m3\n"
     ]
    }
   ],
   "source": [
    "# Objektově\n",
    "class Auto:\n",
    "    \n",
    "    def __init__(self, znacka, spotreba):\n",
    "        self._znacka = znacka\n",
    "        self._spotreba = spotreba\n",
    "    \n",
    "    def print(self) -> None:\n",
    "        print(f\"Auto značky {self._znacka} a spotřebou {self._spotreba} l/100km\")\n",
    "\n",
    "class Dodavka:\n",
    "    \n",
    "    def __init__(self, znacka, objem):\n",
    "        self._znacka = znacka\n",
    "        self._objem = objem\n",
    "    \n",
    "    def print(self) -> None:\n",
    "        print(f\"Dodávka značky {self._znacka} a objemem nákladu {self._objem} m3\")\n",
    "\n",
    "vozidla = [\n",
    "    Auto('Audi', 7),\n",
    "    Auto('Nissan', 5),\n",
    "    Auto('Volvo', 6),\n",
    "    Dodavka('Ford', 14),\n",
    "    Dodavka('Mercedes-Benz', 17),\n",
    "]\n",
    "\n",
    "for vozidlo in vozidla:\n",
    "     vozidlo.print()"
   ]
  },
  {
   "cell_type": "markdown",
   "id": "1c1893d2-a31d-4c0c-84a5-baae469f1dc0",
   "metadata": {},
   "source": [
    "**Otázky**\n",
    "\n",
    "# Jak to vypadá na pozadí?"
   ]
  },
  {
   "cell_type": "code",
   "execution_count": 8,
   "id": "32dc2621-507b-4c00-afed-4f3062509944",
   "metadata": {},
   "outputs": [
    {
     "name": "stdout",
     "output_type": "stream",
     "text": [
      "['Audi', 'Nissan', 'Volvo']\n",
      "\n",
      "Audi\n",
      "7\n",
      "\n",
      "<__main__.Auto object at 0x7fc2cb324dc0>\n",
      "Audi\n",
      "7\n",
      "[<__main__.Auto object at 0x7fc2cb324dc0>]\n"
     ]
    }
   ],
   "source": [
    "class Auto:\n",
    "    \n",
    "    def __init__(self, znacka, spotreba):\n",
    "        self._znacka = znacka\n",
    "        self._spotreba = spotreba\n",
    "    \n",
    "    def print(self) -> None:\n",
    "        print(f\"Auto značky {self._znacka} a spotřebou {self._spotreba} l/100km\")\n",
    "\n",
    "znacky = ['Audi',  'Nissan',  'Volvo']\n",
    "print(znacky)\n",
    "\n",
    "znackaAuta = znacky[0]\n",
    "spotrebaAuta = 7\n",
    "print()\n",
    "print(znackaAuta)   # Audi\n",
    "print(spotrebaAuta) # 7\n",
    "\n",
    "auto = Auto(znackaAuta, spotrebaAuta)\n",
    "print()\n",
    "print(auto)           # <__main__.Auto object at 0x7f7ba0366800>\n",
    "print(auto._znacka)   # Audi\n",
    "print(auto._spotreba) # 7\n",
    "\n",
    "auta = [auto]\n",
    "print(auta)  # [<__main__.Auto object at 0x7f7ba03785e0>]"
   ]
  },
  {
   "cell_type": "markdown",
   "id": "f5d56deb-0202-4f7c-9cc2-a22050f001d9",
   "metadata": {},
   "source": [
    "V předchozím kódu jsme vytvořili jeden objekt z třídy Auto a uložili do proměné **auto**.\n",
    "Pokud, ale vytiskneme proměnou **auto** zjistíme, že nenese **hodnotu**, ale jedná se o **referenci** na **objekt třídy Auto** na adrese **0x................**. Na následujícím obrázku můžete vidět jak to vypadá v paměti.\n",
    "\n",
    "<img src=\"variableVsObject.png\" width=\"600\">\n",
    "\n",
    "[Visualizovaná exekuce předchozího kódu](https://pythontutor.com/visualize.html#code=class%20Auto%3A%0A%20%20%20%20%0A%20%20%20%20def%20__init__%28self,%20znacka,%20spotreba%29%3A%0A%20%20%20%20%20%20%20%20self._znacka%20%3D%20znacka%0A%20%20%20%20%20%20%20%20self._spotreba%20%3D%20spotreba%0A%20%20%20%20%0A%20%20%20%20def%20print%28self%29%20-%3E%20None%3A%0A%20%20%20%20%20%20%20%20print%28f%22Auto%20zna%C4%8Dky%20%7Bself._znacka%7D%20a%20spot%C5%99ebou%20%7Bself._spotreba%7D%20l/100km%22%29%0A%0Aznacky%20%3D%20%5B'Audi',%20%20'Nissan',%20%20'Volvo'%5D%0Aprint%28znacky%29%0A%0AznackaAuta%20%3D%20znacky%5B0%5D%0AspotrebaAuta%20%3D%207%0Aprint%28%29%0Aprint%28znackaAuta%29%20%20%20%23%20Audi%0Aprint%28spotrebaAuta%29%20%23%207%0A%0Aauto%20%3D%20Auto%28znackaAuta,%20spotrebaAuta%29%0Aprint%28%29%0Aprint%28auto%29%20%20%20%20%20%20%20%20%20%20%20%23%20%3C__main__.Auto%20object%20at%200x7f7ba0366800%3E%0Aprint%28auto._znacka%29%20%20%20%23%20Audi%0Aprint%28auto._spotreba%29%20%23%207%0A%0Aauta%20%3D%20%5Bauto%5D%0Aprint%28auta%29%20%20%23%20%5B%3C__main__.Auto%20object%20at%200x7f7ba03785e0%3E%5D&cumulative=false&curInstr=19&heapPrimitives=nevernest&mode=display&origin=opt-frontend.js&py=3&rawInputLstJSON=%5B%5D&textReferences=false)\n",
    "\n",
    "**Otázky**\n",
    "\n",
    "# Přístup k datům a funkcím objektu\n",
    "Vzhledem k tomu, že pracujeme s proměnou, která nás odkazuje na objekt, ale my chceme pracovat s daty nebo funkcemi daného objektu je třeba použít příslušný operátor v Python, Java se jedná o tečku '.', ale můžete se setkat v jiných jazycích s '->', '=>'. "
   ]
  },
  {
   "cell_type": "code",
   "execution_count": 10,
   "id": "6c743976-f569-438e-b299-e44e76fcd333",
   "metadata": {},
   "outputs": [
    {
     "name": "stdout",
     "output_type": "stream",
     "text": [
      "Auto značky Audi a spotřebou 7 l/100km\n"
     ]
    }
   ],
   "source": [
    "auto.print()"
   ]
  },
  {
   "cell_type": "markdown",
   "id": "04a822b6-c12f-409f-a149-17298a6e85c8",
   "metadata": {},
   "source": [
    "**Otázky**\n",
    "\n",
    "# Inicializace vlastností objektu\n",
    "**Otázky** Co si představíe pod inicializací objektu?\n",
    "\n",
    "V předchozí sekci jsme atributy nastavovali přes Třídu nebo objekt. To není šikovné a ani správné, proto využijeme inicializace vlastností přímo v třídě.\n",
    "\n",
    "## Inicializace třídního atributu\n",
    "Třídí atributy uvádíme v třídě jako první."
   ]
  },
  {
   "cell_type": "code",
   "execution_count": 12,
   "id": "1d94ee46-d7c3-42da-8fde-b86d332bcbaa",
   "metadata": {},
   "outputs": [
    {
     "name": "stdout",
     "output_type": "stream",
     "text": [
      "Auto značky Volvo\n"
     ]
    }
   ],
   "source": [
    "class Auto:\n",
    "    znacka: str = \"Volvo\"\n",
    "    \n",
    "    def print(self) -> None:\n",
    "        print(f\"Auto značky {self.znacka}\")\n",
    "\n",
    "Auto().print()"
   ]
  },
  {
   "cell_type": "markdown",
   "id": "4d1e2db5-88ae-4437-bade-4f1cd9b5fc3c",
   "metadata": {},
   "source": [
    "## Inicializace instančního atributu\n",
    "- Instanční atribut inicializujeme v metodě **\\_\\_init\\_\\_**.\n",
    "- Metodu **\\_\\_init\\_\\_** můžeme vynechat pokud nechceme použít instanční atributy\n",
    "- Jedná se o equvivalent konstruktorů v jiných jazycích"
   ]
  },
  {
   "cell_type": "code",
   "execution_count": 15,
   "id": "704ed8b6-305d-49d7-b611-2f439d771931",
   "metadata": {},
   "outputs": [
    {
     "name": "stdout",
     "output_type": "stream",
     "text": [
      "Auto značky Volvo\n",
      "Auto značky Audi\n"
     ]
    }
   ],
   "source": [
    "class Auto:\n",
    "    \n",
    "    def __init__(self):\n",
    "        self.znacka = \"Volvo\"\n",
    "    \n",
    "    def print(self) -> None:\n",
    "        print(f\"Auto značky {self.znacka}\")\n",
    "\n",
    "auto = Auto()\n",
    "auto.print()\n",
    "\n",
    "auto.znacka = \"Audi\" #změna atributu\n",
    "auto.print()"
   ]
  },
  {
   "cell_type": "markdown",
   "id": "308be473-4b82-4b63-b022-68aa7707c99f",
   "metadata": {},
   "source": [
    "Pokud bychom chtěli vytvořit objekt jiné značky auta, museli bychom po vytvoření objektu atribut změnit. Lepší řešením je tuto hodnotu nastavit při inicializaci."
   ]
  },
  {
   "cell_type": "code",
   "execution_count": 16,
   "id": "0e99c258-dae6-4619-bb75-c9c51790ca21",
   "metadata": {},
   "outputs": [
    {
     "name": "stdout",
     "output_type": "stream",
     "text": [
      "Auto značky Volvo\n",
      "Auto značky Audi\n",
      "Auto značky Nissan\n"
     ]
    }
   ],
   "source": [
    "class Auto:\n",
    "    \n",
    "    def __init__(self, znacka: str):\n",
    "        self.znacka = znacka\n",
    "    \n",
    "    def print(self) -> None:\n",
    "        print(f\"Auto značky {self.znacka}\")\n",
    "\n",
    "volvo = Auto(\"Volvo\")\n",
    "volvo.print()\n",
    "\n",
    "audi = Auto(\"Audi\")\n",
    "audi.print()\n",
    "\n",
    "nissan = Auto(\"Nissan\")\n",
    "nissan.print()"
   ]
  },
  {
   "cell_type": "markdown",
   "id": "6fe64d63-14fa-49fc-a1e4-fdc5629b9b9b",
   "metadata": {},
   "source": [
    "[Visualizovaná exekuce předchozího kódu](https://pythontutor.com/visualize.html#code=class%20Auto%3A%0A%20%20%20%20%0A%20%20%20%20def%20__init__%28self,%20znacka%3A%20str%29%3A%0A%20%20%20%20%20%20%20%20self.znacka%20%3D%20znacka%0A%20%20%20%20%0A%20%20%20%20def%20print%28self%29%20-%3E%20None%3A%0A%20%20%20%20%20%20%20%20print%28f%22Auto%20zna%C4%8Dky%20%7Bself.znacka%7D%22%29%0A%0Avolvo%20%3D%20Auto%28%22Volvo%22%29%0Avolvo.print%28%29%0A%0Aaudi%20%3D%20Auto%28%22Audi%22%29%0Aaudi.print%28%29%0A%0Anissan%20%3D%20Auto%28%22Nissan%22%29%0Anissan.print%28%29&cumulative=false&curInstr=25&heapPrimitives=nevernest&mode=display&origin=opt-frontend.js&py=3&rawInputLstJSON=%5B%5D&textReferences=false)\n",
    "\n",
    "**Otázky**"
   ]
  },
  {
   "cell_type": "markdown",
   "id": "849053ac-31fe-46fe-8bc5-9f1958580a6a",
   "metadata": {},
   "source": [
    "# Vlastnosti třídy\n",
    "\n",
    "**Otázky**\n",
    "* Co si představíte pod vlastnostmi třídy?\n",
    "* Proč byste používali vlastnosti třídy?\n",
    "\n",
    "Mít objekty třídy, které dělají vždy to samé není užitečné a proto tam přidáme variabilitu. \n",
    "V našem případě uděláme značku vozidla variabilní.\n",
    "\n",
    "Můžeme vybrat ze dvou možností:\n",
    "- **třídní atribut**, který je sdílený všemi objekty\n",
    "- **instanční atribut**, který patří pouze danému objektu"
   ]
  },
  {
   "cell_type": "code",
   "execution_count": 17,
   "id": "e4fc872e-a53c-44c5-a6e4-5c3f541fc817",
   "metadata": {},
   "outputs": [
    {
     "name": "stdout",
     "output_type": "stream",
     "text": [
      "Zavolání auto.print() vyhodí AttributeError, protože attribute znacka neexistuje\n",
      "\n",
      "Vytvoříme třídní atribut s hodnotou \"Volvo\"\n",
      "auto: Volvo\n",
      "auto2: Volvo\n",
      "Oba objekty jsou značky \"Volvo\"\n",
      "\n",
      "Změníme třídní atribut na hodnotu \"Audi\"\n",
      "auto: Audi\n",
      "auto2: Audi\n",
      "Oba objekty jsou značky \"Audi\"\n",
      "\n",
      "Vytvoříme instanční atribut \"znacka\" s hodnotou \"Nissan\" v objektu \"auto\"\n",
      "auto: Nissan\n",
      "auto2: Audi\n",
      "Došlo pouze ke změně objektu \"auto\" na značku \"Audi\"\n",
      "\n",
      "Změníme třídní atribut na hodnotu \"Volvo\"\n",
      "auto: Nissan\n",
      "auto2: Volvo\n",
      "Došlo pouze ke změně objektu \"auto2\" bez instančního atributu na značku \"Volvo\"\n"
     ]
    }
   ],
   "source": [
    "class Auto:\n",
    "    \n",
    "    def print(self, jmeno: str) -> None:\n",
    "        print(f\"{jmeno}: {self.znacka}\")\n",
    "    \n",
    "\n",
    "auto = Auto()\n",
    "auto2 = Auto()\n",
    "print(\"Zavolání auto.print() vyhodí AttributeError, protože attribute znacka neexistuje\")\n",
    "#auto.print()\n",
    "#auto2.print()\n",
    "      \n",
    "print(\"\\nVytvoříme třídní atribut s hodnotou \\\"Volvo\\\"\")\n",
    "Auto.znacka = \"Volvo\" # S třídním parametrem pracujeme přes třídu [A]uto.znacka\n",
    "auto.print(\"auto\")\n",
    "auto2.print(\"auto2\")\n",
    "print(\"Oba objekty jsou značky \\\"Volvo\\\"\")\n",
    "\n",
    "print(\"\\nZměníme třídní atribut na hodnotu \\\"Audi\\\"\")      \n",
    "Auto.znacka = \"Audi\"\n",
    "auto.print(\"auto\")\n",
    "auto2.print(\"auto2\")\n",
    "print(\"Oba objekty jsou značky \\\"Audi\\\"\")\n",
    "\n",
    "print(\"\\nVytvoříme instanční atribut \\\"znacka\\\" s hodnotou \\\"Nissan\\\" v objektu \\\"auto\\\"\")           \n",
    "auto.znacka = \"Nissan\" # S instančním parametrem pracujeme přes objekt [a]uto.znacka\n",
    "auto.print(\"auto\")\n",
    "auto2.print(\"auto2\")\n",
    "print(\"Došlo pouze ke změně objektu \\\"auto\\\" na značku \\\"Audi\\\"\")\n",
    "\n",
    "\n",
    "print(\"\\nZměníme třídní atribut na hodnotu \\\"Volvo\\\"\")           \n",
    "Auto.znacka = \"Volvo\"\n",
    "auto.print(\"auto\")\n",
    "auto2.print(\"auto2\")\n",
    "print(\"Došlo pouze ke změně objektu \\\"auto2\\\" bez instančního atributu na značku \\\"Volvo\\\"\")"
   ]
  },
  {
   "cell_type": "markdown",
   "id": "a30efd2e-c679-4498-b61e-363f89ee8374",
   "metadata": {},
   "source": [
    "[Visualizovaná exekuce předchozího kódu](https://pythontutor.com/visualize.html#code=class%20Auto%3A%0A%20%20%20%20%0A%20%20%20%20def%20print%28self,%20jmeno%3A%20str%29%20-%3E%20None%3A%0A%20%20%20%20%20%20%20%20print%28f%22%7Bjmeno%7D%3A%20%7Bself.znacka%7D%22%29%0A%20%20%20%20%0A%0Aauto%20%3D%20Auto%28%29%0Aauto2%20%3D%20Auto%28%29%0Aprint%28%22Zavol%C3%A1n%C3%AD%20auto.print%28%29%20vyhod%C3%AD%20AttributeError,%20proto%C5%BEe%20attribute%20znacka%20neexistuje%22%29%0A%23auto.print%28%29%0A%23auto2.print%28%29%0A%20%20%20%20%20%20%0Aprint%28%22%5CnVytvo%C5%99%C3%ADme%20t%C5%99%C3%ADdn%C3%AD%20atribut%20s%20hodnotou%20%5C%22Volvo%5C%22%22%29%0AAuto.znacka%20%3D%20%22Volvo%22%0Aauto.print%28%22auto%22%29%0Aauto2.print%28%22auto2%22%29%0Aprint%28%22Oba%20objekty%20jsou%20zna%C4%8Dky%20%5C%22Volvo%5C%22%22%29%0A%0Aprint%28%22%5CnZm%C4%9Bn%C3%ADme%20t%C5%99%C3%ADdn%C3%AD%20atribut%20na%20hodnotu%20%5C%22Audi%5C%22%22%29%20%20%20%20%20%20%0AAuto.znacka%20%3D%20%22Audi%22%0Aauto.print%28%22auto%22%29%0Aauto2.print%28%22auto2%22%29%0Aprint%28%22Oba%20objekty%20jsou%20zna%C4%8Dky%20%5C%22Audi%5C%22%22%29%0A%0Aprint%28%22%5CnVytvo%C5%99%C3%ADme%20instan%C4%8Dn%C3%AD%20atribut%20%5C%22znacka%5C%22%20s%20hodnotou%20%5C%22Nissan%5C%22%20v%20objektu%20%5C%22auto%5C%22%22%29%20%20%20%20%20%20%20%20%20%20%20%0Aauto.znacka%20%3D%20%22Nissan%22%0Aauto.print%28%22auto%22%29%0Aauto2.print%28%22auto2%22%29%0Aprint%28%22Do%C5%A1lo%20pouze%20ke%20zm%C4%9Bn%C4%9B%20objektu%20%5C%22auto%5C%22%20na%20zna%C4%8Dku%20%5C%22Audi%5C%22%22%29%0A%0A%0Aprint%28%22%5CnZm%C4%9Bn%C3%ADme%20t%C5%99%C3%ADdn%C3%AD%20atribut%20na%20hodnotu%20%5C%22Volvo%5C%22%22%29%20%20%20%20%20%20%20%20%20%20%20%0AAuto.znacka%20%3D%20%22Volvo%22%0Aauto.print%28%22auto%22%29%0Aauto2.print%28%22auto2%22%29%0Aprint%28%22Do%C5%A1lo%20pouze%20ke%20zm%C4%9Bn%C4%9B%20objektu%20%5C%22auto2%5C%22%20bez%20instan%C4%8Dn%C3%ADho%20atributu%20na%20zna%C4%8Dku%20%5C%22Volvo%5C%22%22%29&cumulative=false&curInstr=48&heapPrimitives=nevernest&mode=display&origin=opt-frontend.js&py=3&rawInputLstJSON=%5B%5D&textReferences=false)\n",
    "\n",
    "\n",
    "**Otázky**\n",
    "\n",
    "V předchozích kódu si můžete všimnout použití klíčového slova **self**, který slouží pro přístup k datům volaného objektu a je nutného ho pužít vždy, když pracujete s daty daného objektu. **Daným operátorem vlastně říkate, jdi na místo kam odkazuje daná hodnota.**  V jiných jazycích se můžete setkat s klíčovým slovem **this**."
   ]
  },
  {
   "cell_type": "markdown",
   "id": "86da9a68-9294-4d72-968d-1aa4aa744c2a",
   "metadata": {},
   "source": [
    "## Jak to vypadá v paměti\n",
    "<img src=\"CarDifferenceOfAttributes.PNG\" width=\"600\">\n",
    "\n",
    "- Objekt **auto má uložen** v paměti instanční atribut\n",
    "- Objekt **auto2 nemá uložen** v paměti instanční atribut a proto **je použit** třídní atribut\n",
    "\n",
    "**Otázky**\n",
    "## Kdy mám co použít?\n",
    "\n",
    "Nejčastěji je vhodné využít **třídní atribut** pro:\n",
    "- Konstantu stejnou pro všechny objekty\n",
    "    - Název serveru, na který budu posílat požadavek\n",
    "    - Matematické konstanty, například číslo Pí\n",
    "    - Minimální věk uživatele\n",
    "    - ...\n",
    "- Výchozí hodnoty\n",
    "    - Počet kol auta\n",
    "    - Počet dveří auta\n",
    "    - Počet pokusů při selhání připojení na server\n",
    "    - Doba čekání před další pokusem o připojení\n",
    "    - ...\n",
    "\n",
    "Jinak bych volil přednostně volil **instanční atribut**.\n",
    "\n",
    "V našem případě značka auta není konstatou a ani ji nechci použít jako výchozí hodnotu.\n",
    "\n",
    "**Otázky**"
   ]
  }
 ],
 "metadata": {
  "kernelspec": {
   "display_name": "Python 3 (ipykernel)",
   "language": "python",
   "name": "python3"
  },
  "language_info": {
   "codemirror_mode": {
    "name": "ipython",
    "version": 3
   },
   "file_extension": ".py",
   "mimetype": "text/x-python",
   "name": "python",
   "nbconvert_exporter": "python",
   "pygments_lexer": "ipython3",
   "version": "3.10.9"
  }
 },
 "nbformat": 4,
 "nbformat_minor": 5
}

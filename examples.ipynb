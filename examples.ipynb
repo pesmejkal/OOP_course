{
 "cells": [
  {
   "cell_type": "markdown",
   "id": "ea502574-f641-4c4f-a4c6-84348e2fcc10",
   "metadata": {},
   "source": [
    "# Příklady\n",
    "\n",
    "## Šachy\n",
    "Cílem je naimplementovat:\n",
    "* pohyb figurek po desce\n",
    "* vyřazení figurky ze hry \n",
    "https://www.chess.com/cs/play/computer\n",
    "\n",
    "## Prodej lístků v kině\n",
    "Cílem je připravit účtenku s přehledem:\n",
    "* kolik lístků pro jaké hry jsem koupil\n",
    "* kolik stojí jednotlivé položky\n",
    "* kolik jsem dostal bodů jako odměnu\n",
    "* lístek na představení typu tragédie\n",
    "  * stojí 1000 korun za osobu\n",
    "  * pokud kupuji víc než tři tak každý další stojí 800\n",
    "* lístek na představení typu komedie\n",
    "  * stojí lístek 700 za osobu\n",
    "  * pokud kupuji víc než pět tak každý další stojí 300 a jednorázově přičtu 500\n",
    "* dále uvidím kolik jsem dostal bodů do věrnostního programu\n",
    "  * trágedie - bod za každý lístek nad celkový počet tři\n",
    "  * komedie - boz za každý pátý lístek\n",
    "\n",
    "## Knihovna\n",
    "* obsahuje velké množství polic s knihami\n",
    "* police jsou označené písmeny podle jména autora\n",
    "* knihovna je rozdělená do sekcí\n",
    "* Cíl zjistit:\n",
    "  * kde najít knihu\n",
    "  * kam dát knihu\n",
    "### verze 2/ varianta 2\n",
    "* knihy mají rozměry a váhu\n",
    "* police mají rozměry a nosnost\n",
    "* zjistit zda knihu mohu umístit do police\n",
    "\n",
    "## Enterprise Databáze, UI, komunikace s externí službou\n",
    "Asi cokoliv toho co se dělalo\n",
    "* Cíl přídat\n",
    "  * uložiště dat soubor, databáze\n",
    "  * vykreslit data\n",
    "  * načíst data\n",
    "  * dotazování se externí služby databáze knih\n",
    "\n",
    "## Dynamické načítání vstupu\n",
    "Cíl naprogramovat dynamické načítání vstupu od uživatele z konzole pro různá data.\n",
    "* Například finanční plán\n",
    "    * měsíční, týdenní... události\n",
    "* Typy aut\n",
    "    * Nákladní, osobní..."
   ]
  }
 ],
 "metadata": {
  "kernelspec": {
   "display_name": "Python 3 (ipykernel)",
   "language": "python",
   "name": "python3"
  },
  "language_info": {
   "codemirror_mode": {
    "name": "ipython",
    "version": 3
   },
   "file_extension": ".py",
   "mimetype": "text/x-python",
   "name": "python",
   "nbconvert_exporter": "python",
   "pygments_lexer": "ipython3",
   "version": "3.10.9"
  }
 },
 "nbformat": 4,
 "nbformat_minor": 5
}

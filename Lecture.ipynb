{
 "cells": [
  {
   "cell_type": "markdown",
   "id": "063d951c-096c-482e-b3c3-7597c0240029",
   "metadata": {},
   "source": [
    "# Co je objektově orientované programování\n",
    "Objektově orientové programování anglicky **Object oriented programming (OOP)** je specifické programovácí paradigma založené na konceptu objektů, které mohou obsahovat data a kód. Cílem je vytvořit odpovídající objekty, které spolu komunikují tak, aby vyřešili dané zadání. \n",
    "\n",
    "Další informace:\n",
    "- [Object-oriented programming](https://en.wikipedia.org/wiki/Object-oriented_programming)\n",
    "- [Objektově orientované -programování](https://cs.wikipedia.org/wiki/Objektov%C4%9B_orientovan%C3%A9_programov%C3%A1n%C3%AD)\n",
    "\n",
    "## Programovací paradigma\n",
    "Programovácí paradigma je způsob klasifikování programovacích jazyků na základě jejich vlastností, které jsou dány tím jak nad programováním přemýšlíme.\n",
    "\n",
    "Běžná programovací paradigmata jsou:\n",
    "- Imperativní\n",
    "    - Procedurální\n",
    "    - Objektově orientované programování\n",
    "- Deklarativní\n",
    "    - funkcionální\n",
    "    - Logické\n",
    "    - reaktivní\n",
    "\n",
    "Programovací jazyky často naplňují více paradigmat například OOP a procedurální.\n",
    "\n",
    "Další informace:\n",
    "- [Programming paradigm](https://en.wikipedia.org/wiki/Programming_paradigm)\n",
    "- [Programovací paradigma](https://cs.wikipedia.org/wiki/Programovac%C3%AD_paradigma)\n",
    "    \n",
    "# Objekt\n",
    "Objektem často bývá zjednodušená reprezentace věcí reálného světa (auto, monitor, strom, klávesnice, účetní, zaměstnanec).\n",
    "\n",
    "Objekt obsahuje:\n",
    "* data (atributy, vlastnosti, hodnoty)\n",
    "* metody/funkce, které můžou s daty pracovat (číst, měnit) \n",
    "\n",
    "Hodně jazyků jako je například Python, Java, C# mají OOP postavené na [třídách](https://en.wikipedia.org/wiki/Class-based_programming).\n",
    "**Třída (class)** je vzor/šablona pro vytvoření objekt. \n",
    "\n",
    "<img src=\"ClassVsObject.png\" width=\"600\">\n",
    "\n",
    "Ale například javaScript používají [prototypování](https://en.wikipedia.org/wiki/Prototype-based_programming) pro vytváření objektů.\n",
    "\n",
    "\n",
    "## Tvoříme první objekt"
   ]
  },
  {
   "cell_type": "code",
   "execution_count": 10,
   "id": "61fd1e39-036c-4f65-bc97-9ffbec31ab2c",
   "metadata": {},
   "outputs": [
    {
     "name": "stdout",
     "output_type": "stream",
     "text": [
      "<__main__.Auto object at 0x000002C50A5F51B0>\n"
     ]
    }
   ],
   "source": [
    "class Auto:\n",
    "    znacka: str = \"volvo\"\n",
    "    \n",
    "volvo = Auto()\n",
    "print(volvo)"
   ]
  },
  {
   "cell_type": "markdown",
   "id": "40f5c129-810b-4386-a6c1-8a1de5bf208a",
   "metadata": {},
   "source": [
    "V předchozím kódu jsme vytvořili jeden objekt z třídy Auto a uložili do proměné **volvo**.\n",
    "Pokud, ale vytiskneme proměnou **volvo** zjistíme, že nenese **hodnotu**, ale jedná se o **referenci** na **objekt třídy Auto** na adrese **0x................**. Na následujícím obrázku můžete vidět jak to vypadá v paměti.\n",
    "\n",
    "<img src=\"SimpleCarExecution.png\" width=\"600\">\n",
    "\n",
    "[Visualizovaná exekuce předchozího kódu](https://pythontutor.com/visualize.html#code=class%20Auto%3A%0A%20%20%20%20znacka%3A%20str%20%3D%20%22volvo%22%0A%20%20%20%20%0Aauto%20%3D%20Auto%28%29%0Aprint%28auto%29&cumulative=false&curInstr=3&heapPrimitives=nevernest&mode=display&origin=opt-frontend.js&py=3&rawInputLstJSON=%5B%5D&textReferences=false)"
   ]
  },
  {
   "cell_type": "markdown",
   "id": "6d227fcd-47e1-4c5b-b546-75c8351bbc2a",
   "metadata": {},
   "source": [
    "### Přístup k datům a funkcím objektu\n",
    "Vzhledem k tomu, že pracujeme s proměnou, která nás odkazuje na objekt, ale my chceme pracovat s daty nebo funkcemi daného objektu je třeba použít příslušný operátor v Python, Java se jedná o tečku '.', ale můžete se setkat v jiných jazycích s '->', '=>'. "
   ]
  },
  {
   "cell_type": "code",
   "execution_count": 11,
   "id": "d7d23f2d-59a7-4d0d-bed0-38ec8dc53eef",
   "metadata": {},
   "outputs": [
    {
     "name": "stdout",
     "output_type": "stream",
     "text": [
      "volvo\n"
     ]
    }
   ],
   "source": [
    "print(volvo.znacka)"
   ]
  },
  {
   "cell_type": "code",
   "execution_count": null,
   "id": "9458e08b-b28b-412f-b08c-c287c0f94ed2",
   "metadata": {},
   "outputs": [],
   "source": [
    "### První funkce objektu\n",
    "Obecně není dobré přistupovat přímo k atributům objektu, ale nechat nad nimi pracovat funkce daného objektu.\n",
    "Já bych chtěl vytisknou informace o daném autě a proto přidám funkci print přímo do třídy."
   ]
  },
  {
   "cell_type": "code",
   "execution_count": 36,
   "id": "17809492-93c7-4e09-a888-0fb20d1c8de4",
   "metadata": {},
   "outputs": [
    {
     "name": "stdout",
     "output_type": "stream",
     "text": [
      "Auto značky volvo\n",
      "Auto značky audi\n"
     ]
    }
   ],
   "source": [
    "class Auto:\n",
    "    znacka: str = \"volvo\"\n",
    "    \n",
    "    def print(self) -> None:\n",
    "        print(f\"Auto značky {self.znacka}\")\n",
    "    \n",
    "volvo = Auto()\n",
    "audi = Auto()\n",
    "audi.znacka = \"audi\"\n",
    "volvo.print()\n",
    "audi.print()"
   ]
  },
  {
   "cell_type": "markdown",
   "id": "022492a2-3210-4b6d-9423-5f521a426a9d",
   "metadata": {},
   "source": [
    "V předchozím kódu si můžete všimnout využití klíčového slova **self**, který slouží pro přístup k datům volaného objektu a je nutného ho pužít vždy, když pracujete s daty daného objektu. V jiných jazycích se můžete setkat s klíčovým slovem **this**.\n",
    "\n",
    "### Inicializace objektu\n"
   ]
  }
 ],
 "metadata": {
  "kernelspec": {
   "display_name": "Python 3 (ipykernel)",
   "language": "python",
   "name": "python3"
  },
  "language_info": {
   "codemirror_mode": {
    "name": "ipython",
    "version": 3
   },
   "file_extension": ".py",
   "mimetype": "text/x-python",
   "name": "python",
   "nbconvert_exporter": "python",
   "pygments_lexer": "ipython3",
   "version": "3.10.5"
  }
 },
 "nbformat": 4,
 "nbformat_minor": 5
}

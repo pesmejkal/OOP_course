{
 "cells": [
  {
   "cell_type": "markdown",
   "id": "84218a98-560c-4611-9e48-444b30f8294a",
   "metadata": {},
   "source": [
    "# Základní pilíře objektově-orientovaného programování\n",
    "Jedná se o čtyří principy na, kterých je OOP postaveno:\n",
    "1. **Polymorfismus** (polymorphism)\n",
    "2. **Dědičnost** (inheritance)\n",
    "3. **Zapouzdření** (encapsulation)\n",
    "4. **Abstrakce** (abstraction)\n",
    "\n",
    "## Polymorfismus\n",
    "V doslovném překladu znamená **mnohotvárnost** nebo **monoho forem**.\\\n",
    "Pro nás ve světě OOP to znamená, že můžeme pracovat stejně s různými formamy objektu.\n",
    "V následujícím příkladu, můžete vidět výpis informací o vozidle je stejný pro instance různých tříd."
   ]
  },
  {
   "cell_type": "code",
   "execution_count": 1,
   "id": "7c8d8b3e-848d-4467-a0e0-30f7b10a9229",
   "metadata": {},
   "outputs": [
    {
     "name": "stdout",
     "output_type": "stream",
     "text": [
      "Jsem auto\n",
      "Jsem nákladní vůz\n"
     ]
    }
   ],
   "source": [
    "class Auto:\n",
    "    @staticmethod\n",
    "    def print():\n",
    "        print(\"Jsem auto\")\n",
    "\n",
    "class NakladniVuz:\n",
    "    @staticmethod\n",
    "    def print():\n",
    "        print(\"Jsem nákladní vůz\")\n",
    "\n",
    "vozidla = [Auto(), NakladniVuz()]\n",
    "\n",
    "for vuz in vozidla:\n",
    "    vuz.print() #stejná práce s různými typy"
   ]
  },
  {
   "cell_type": "markdown",
   "id": "7423406a-bd18-4a3a-858d-b41650201f92",
   "metadata": {},
   "source": [
    "**Otázky**\\\n",
    "**Úkol**\n",
    "* Spočitat předběžnou cenu zápujčky\n",
    "* Cena za půjčení vozu se liší podle typu vozu, ujetých kilometrů a doby zapůjčení\n",
    "* Jsou klienti co mají individuální ceny nebo slevu\n",
    "\n",
    "## Dědičnost\n",
    "Jedná se o sdílení svých atributů a method se svými potomky.\n",
    "\n",
    "Dejme tomu, že bychom chtěli mít možnost měnit jednotlivé atributy třídy auto v dávce.\\\n",
    "Všechna auta máme v paměti.\\\n",
    "Tyto změny bychom chtěli seskupit a později zavolat v dávce. Proto je nutné je mít reprezentované objekty."
   ]
  },
  {
   "cell_type": "code",
   "execution_count": 2,
   "id": "c6c28c64-6291-4da0-ac65-eac847e0e0d6",
   "metadata": {},
   "outputs": [],
   "source": [
    "class Auto:\n",
    "    def __init__(self, spz: str, znacka: str, objem_nadrze: int):\n",
    "        self._spz = spz\n",
    "        self._znacka = znacka\n",
    "        self._objem_nadrze = objem_nadrze\n",
    "    \n",
    "    @property\n",
    "    def spz(self):\n",
    "        return self._spz\n",
    "    \n",
    "    def print(self):\n",
    "        print(f\"Auto s SPZ: {self._spz} značky {self._znacka} a objemem nádrže {self._objem_nadrze} litrů\")"
   ]
  },
  {
   "cell_type": "code",
   "execution_count": 3,
   "id": "7047cef3-9014-4727-98fe-8bec54150994",
   "metadata": {},
   "outputs": [
    {
     "name": "stdout",
     "output_type": "stream",
     "text": [
      "Auto s SPZ: 1H34576 značky Volvo a objemem nádrže 70 litrů\n",
      "Auto s SPZ: 7P38863 značky Audi a objemem nádrže 60 litrů\n",
      "\n",
      "Auto s SPZ: 1H34576 značky Nissan a objemem nádrže 70 litrů\n",
      "Auto s SPZ: 7P38863 značky Audi a objemem nádrže 100 litrů\n"
     ]
    }
   ],
   "source": [
    "class ZmenZnackuAuta:\n",
    "    \n",
    "    def __init__(self, auta: [], spz: str, znacka: str):\n",
    "        self._auta = auta # Duplicita\n",
    "        self._spz = spz # Duplicita\n",
    "        self._znacka = znacka\n",
    "        \n",
    "    def zmen(self):\n",
    "        for auto in self._auta: # Duplicita\n",
    "            if auto.spz == self._spz: # Duplicita\n",
    "                auto._znacka = self._znacka\n",
    "        \n",
    "        \n",
    "class ZmenObjemNadrzeAuta:\n",
    "    \n",
    "    def __init__(self, auta: [],spz: str, objem_nadrze: int):\n",
    "        self._spz = spz # Duplicita\n",
    "        self._auta = auta # Duplicita\n",
    "        self._objem_nadrze = objem_nadrze\n",
    "        \n",
    "    def zmen(self):\n",
    "        for auto in self._auta: # Duplicita\n",
    "            if auto.spz == self._spz: # Duplicita\n",
    "                auto._objem_nadrze = self._objem_nadrze\n",
    "        \n",
    "auta = [Auto(\"1H34576\", \"Volvo\", 70), Auto(\"7P38863\", \"Audi\", 60)]\n",
    "\n",
    "def print_auta():\n",
    "    for auto in auta:\n",
    "        auto.print()\n",
    "\n",
    "print_auta()\n",
    "ZmenZnackuAuta(auta, \"1H34576\", \"Nissan\").zmen()\n",
    "ZmenObjemNadrzeAuta(auta, \"7P38863\", 100).zmen()       \n",
    "\n",
    "print()\n",
    "print_auta()"
   ]
  },
  {
   "cell_type": "markdown",
   "id": "8dea338e-3e51-49b2-9539-a5f4f19987c1",
   "metadata": {},
   "source": [
    "Lze za pomocí dědičnosti přepsat na"
   ]
  },
  {
   "cell_type": "code",
   "execution_count": 4,
   "id": "5ae710ca-c459-4108-a22e-bec174f1bc79",
   "metadata": {},
   "outputs": [
    {
     "name": "stdout",
     "output_type": "stream",
     "text": [
      "Auto s SPZ: 1H34576 značky Volvo a objemem nádrže 70 litrů\n",
      "Auto s SPZ: 7P38863 značky Audi a objemem nádrže 60 litrů\n",
      "\n",
      "Auto s SPZ: 1H34576 značky Nissan a objemem nádrže 70 litrů\n",
      "Auto s SPZ: 7P38863 značky Audi a objemem nádrže 100 litrů\n"
     ]
    }
   ],
   "source": [
    "class ZmenAuto: # Rodičovská třída\n",
    "    def __init__(self, auta: [], spz: str):\n",
    "        self._auta = auta\n",
    "        self._spz = spz\n",
    "    \n",
    "    def zmen(self):\n",
    "        for auto in self._auta:\n",
    "            if auto.spz == self._spz:\n",
    "                self.zmen_atribut(auto) # Volání metody potomka\n",
    "        \n",
    "class ZmenZnackuAuta(ZmenAuto):\n",
    "    \n",
    "    def __init__(self, auta: [], spz: str, znacka: str):\n",
    "        super().__init__(auta, spz)\n",
    "        self._znacka = znacka\n",
    "        \n",
    "    def zmen_atribut(self, auto):\n",
    "        auto._znacka = self._znacka\n",
    "        \n",
    "        \n",
    "class ZmenObjemNadrzeAuta(ZmenAuto):\n",
    "    \n",
    "    def __init__(self, auta: [],spz: str, objem_nadrze: int):\n",
    "        super().__init__(auta, spz)\n",
    "        self._objem_nadrze = objem_nadrze\n",
    "        \n",
    "    def zmen_atribut(self, auto):\n",
    "        auto._objem_nadrze = self._objem_nadrze\n",
    "        \n",
    "auta = [Auto(\"1H34576\", \"Volvo\", 70), Auto(\"7P38863\", \"Audi\", 60)]\n",
    "\n",
    "def print_auta():\n",
    "    for auto in auta:\n",
    "        auto.print()\n",
    "\n",
    "print_auta()\n",
    "ZmenZnackuAuta(auta, \"1H34576\", \"Nissan\").zmen() # Volání metody rodiče\n",
    "ZmenObjemNadrzeAuta(auta, \"7P38863\", 100).zmen() # Volání metody rodiče  \n",
    "\n",
    "print()\n",
    "print_auta()"
   ]
  },
  {
   "cell_type": "markdown",
   "id": "22fe7e9d-0e6b-4e0e-8eca-e22a16e5853f",
   "metadata": {},
   "source": [
    "**Otázky**\n",
    "### Vícenásobná dědičnost\n",
    "* Nám umožnǔje dědit z více rodičů.\n",
    "* Moc se v jazycích nevyskytuje (Python ji má)\n",
    "* Musí se řešit problém z jakého rodiče se upřednostní shodné atributy/metody\n",
    "* Python upřednostňuje rodiče deklarovaného v levo."
   ]
  },
  {
   "cell_type": "code",
   "execution_count": 5,
   "id": "d12d0b54-7c1f-42ef-98a2-f4d697bc8086",
   "metadata": {},
   "outputs": [],
   "source": [
    "class AutoNaElektrinu:\n",
    "    pass\n",
    "class AutoNaBenzin:\n",
    "    pass\n",
    "\n",
    "class Hybrid(AutoNaElektrinu, AutoNaBenzin):\n",
    "    pass"
   ]
  },
  {
   "cell_type": "markdown",
   "id": "7c23e15e-6fc0-4755-a62d-970409e049a3",
   "metadata": {},
   "source": [
    "**Otázky**\n",
    "\n",
    "Chceteli se dozvědět více doporučuji si dohledat jiné zdroje.\\\n",
    "Více ji nebudeme rozebírat, protože:\n",
    "- Za moji kariéru jsem ji téměř nepoužil\n",
    "- Vyděl jsem pouze pár reálných použití v aplikacích a všech se špatně hledala příčina chyby\n",
    "- Zvyšuje výrazně počet závislostí v kódu s rostoucím počtem úrovní dědičnosti, které vedou k tomu, že se s kódem hůře pracuje\n",
    "- Je doporučené preferovat kompozici před dědičností více se můžete dočíst v knize [Design Patters](https://isbndb.com/book/9780201633610)\n",
    "- Využití dědičnosti u vzoru [metoda šablony (template method)](https://en.wikipedia.org/wiki/Template_method_pattern) je jediné použití dědičnosti, na které jsem narazil a líbí se mi.\n",
    "\n",
    "**Otázky**"
   ]
  },
  {
   "cell_type": "markdown",
   "id": "20f966bb-3ad5-4bdf-a0a2-69cdb5136efc",
   "metadata": {},
   "source": [
    "## Zapouzdření\n",
    "Jedná se o zabalaní skupiny atributů a metod do jednoho objektu a omezení přístupu k interním atributům a metodám.\\\n",
    "Často se mluví o skrívání dat (data hiding). Zapouzdření znamená, že každý objekt by měl kontrolovat svůj vlastní stav.\n",
    "\n",
    "Příklad jsme uváděli v sekci **Ochrana přístupu k vlastnostem objektu**.\n",
    "\n",
    "V ukázce sekce o dědičnosti si můžeme všimnout zapouzdření ve třídách ```ZmenZnackuAuta``` a ```ZmenObjemNadrzeAuta```. Tyto třídy zapouzdřují data a operace, které jsou potřeba k provedení změny. Já pouze zvolím co se má stát a následně zavolám metodu ```zmen()```.\n",
    "\n",
    "Ale v dané ukázce můžeme pouźít možnosti dalšího zapouzdření:"
   ]
  },
  {
   "cell_type": "code",
   "execution_count": 6,
   "id": "9660354c-5ad9-4167-93be-45ba1d35c769",
   "metadata": {},
   "outputs": [
    {
     "name": "stdout",
     "output_type": "stream",
     "text": [
      "Auto s SPZ: 1H34576 značky Volvo a objemem nádrže 70 litrů\n",
      "Auto s SPZ: 7P38863 značky Audi a objemem nádrže 60 litrů\n"
     ]
    }
   ],
   "source": [
    "class ZmenAuto:\n",
    "    def __init__(self, auta: [], spz: str):\n",
    "        self._auta = auta\n",
    "        self._spz = spz\n",
    "    \n",
    "    def zmen(self):\n",
    "        for auto in self._auta:       # Hledáme auto podle SPZ\n",
    "            if auto.spz == self._spz: # Hledáme auto podle SPZ\n",
    "                self.zmen_atribut(auto)\n",
    "                \n",
    "auta = [Auto(\"1H34576\", \"Volvo\", 70), Auto(\"7P38863\", \"Audi\", 60)] # Ukládáme auta\n",
    "\n",
    "def print_auta(): # Tiskneme auta\n",
    "    for auto in auta:\n",
    "        auto.print()\n",
    "\n",
    "print_auta()"
   ]
  },
  {
   "cell_type": "markdown",
   "id": "97c1bb94-3532-4755-a182-3fa57e5d8794",
   "metadata": {},
   "source": [
    "Pokud bychom chtěli ukládat auto do slovníku podle SPZ místo pole z důvodu vyšší výkonosti při hledání aut,\n",
    "museli bychom zasahovat na více místech:"
   ]
  },
  {
   "cell_type": "code",
   "execution_count": 7,
   "id": "20559e2e-0e0d-47db-9915-9d6574f4fcfc",
   "metadata": {},
   "outputs": [
    {
     "name": "stdout",
     "output_type": "stream",
     "text": [
      "Auto s SPZ: 1H34576 značky Nissan a objemem nádrže 70 litrů\n",
      "Auto s SPZ: 7P38863 značky Audi a objemem nádrže 100 litrů\n"
     ]
    }
   ],
   "source": [
    "class ZmenAuto:\n",
    "    def __init__(self, auta: {}, spz: str):\n",
    "        self._auta = auta\n",
    "        self._spz = spz\n",
    "    \n",
    "    def zmen(self):\n",
    "        auto = auta.get(self._spz) # cyklus a podmínka -> <slovník>.get(<hodnota>)\n",
    "        self.zmen_atribut(auto)\n",
    "\n",
    "class ZmenZnackuAuta(ZmenAuto):\n",
    "    \n",
    "    def __init__(self, auta: [], spz: str, znacka: str):\n",
    "        super().__init__(auta, spz)\n",
    "        self._znacka = znacka\n",
    "        \n",
    "    def zmen_atribut(self, auto):\n",
    "        auto._znacka = self._znacka\n",
    "        \n",
    "        \n",
    "class ZmenObjemNadrzeAuta(ZmenAuto):\n",
    "    \n",
    "    def __init__(self, auta: [],spz: str, objem_nadrze: int):\n",
    "        super().__init__(auta, spz)\n",
    "        self._objem_nadrze = objem_nadrze\n",
    "        \n",
    "    def zmen_atribut(self, auto):\n",
    "        auto._objem_nadrze = self._objem_nadrze\n",
    "                \n",
    "auta = { # pole -> slovník\n",
    "    \"1H34576\": Auto(\"1H34576\", \"Volvo\", 70),\n",
    "    \"7P38863\": Auto(\"7P38863\", \"Audi\", 60)\n",
    "}\n",
    "\n",
    "def print_auta(): # Tiskneme auta\n",
    "    for auto in auta.values(): # auta -> auta.values()\n",
    "        auto.print()\n",
    "\n",
    "ZmenZnackuAuta(auta, \"1H34576\", \"Nissan\").zmen()\n",
    "ZmenObjemNadrzeAuta(auta, \"7P38863\", 100).zmen()\n",
    "print_auta()"
   ]
  },
  {
   "cell_type": "markdown",
   "id": "f11ee102-f71e-48e3-a312-454a4f445e43",
   "metadata": {},
   "source": [
    "Změny jsme provedly dohromady an třech různých místech. Kdybychom měli reálnou aplikaci, s vysokovou pravděpodobností by těch změn bylo daleko více a na více různých místech.\n",
    "\n",
    "O co bychom se měli při programování snažit je lokalizovat věci co spolu souvisí. V našem případě máme data aut, které chceme tisknout a vyhledávat v nich podle SPZ. Proto vytvoříme odpovídající třídu Auta."
   ]
  },
  {
   "cell_type": "code",
   "execution_count": 9,
   "id": "39161481-9403-41c0-a413-25a27795d435",
   "metadata": {},
   "outputs": [
    {
     "name": "stdout",
     "output_type": "stream",
     "text": [
      "Auto s SPZ: 1H34576 značky Volvo a objemem nádrže 70 litrů\n",
      "Auto s SPZ: 7P38863 značky Audi a objemem nádrže 60 litrů\n",
      "\n",
      "Výsledek hledání pro spz 1H34576.\n",
      "Auto s SPZ: 1H34576 značky Volvo a objemem nádrže 70 litrů\n"
     ]
    }
   ],
   "source": [
    "class Auta:\n",
    "    \n",
    "    def __init__(self):\n",
    "        self._auta = {\n",
    "            \"1H34576\": Auto(\"1H34576\", \"Volvo\", 70),\n",
    "            \"7P38863\": Auto(\"7P38863\", \"Audi\", 60)\n",
    "        }\n",
    "        \n",
    "    def print(self):\n",
    "        for auto in self._auta.values():\n",
    "            auto.print()\n",
    "            \n",
    "    def najdi_podle_spz(self, spz: str):\n",
    "        return self._auta.get(spz)\n",
    "        \n",
    "auta = Auta()\n",
    "auta.print()\n",
    "\n",
    "print(\"\\nVýsledek hledání pro spz 1H34576.\")\n",
    "auta.najdi_podle_spz(\"1H34576\").print()"
   ]
  },
  {
   "cell_type": "markdown",
   "id": "53a52fd8-bf15-49c7-9757-6d18b6817959",
   "metadata": {},
   "source": [
    "Zakompunujeme-li to do příkladu, bude to vypadat takto:"
   ]
  },
  {
   "cell_type": "code",
   "execution_count": 10,
   "id": "56325e77-d703-44fc-bb53-c22bd087145d",
   "metadata": {},
   "outputs": [
    {
     "name": "stdout",
     "output_type": "stream",
     "text": [
      "Auto s SPZ: 1H34576 značky Nissan a objemem nádrže 70 litrů\n",
      "Auto s SPZ: 7P38863 značky Audi a objemem nádrže 100 litrů\n"
     ]
    }
   ],
   "source": [
    "class ZmenAuto:\n",
    "    def __init__(self, auta: Auta, spz: str):\n",
    "        self._auta = auta\n",
    "        self._spz = spz\n",
    "    \n",
    "    def zmen(self):\n",
    "        auto = auta.najdi_podle_spz(self._spz)\n",
    "        self.zmen_atribut(auto)\n",
    "\n",
    "class ZmenZnackuAuta(ZmenAuto):\n",
    "    \n",
    "    def __init__(self, auta: Auta, spz: str, znacka: str):\n",
    "        super().__init__(auta, spz)\n",
    "        self._znacka = znacka\n",
    "        \n",
    "    def zmen_atribut(self, auto):\n",
    "        auto._znacka = self._znacka\n",
    "        \n",
    "        \n",
    "class ZmenObjemNadrzeAuta(ZmenAuto):\n",
    "    \n",
    "    def __init__(self, auta: [],spz: str, objem_nadrze: int):\n",
    "        super().__init__(auta, spz)\n",
    "        self._objem_nadrze = objem_nadrze\n",
    "        \n",
    "    def zmen_atribut(self, auto):\n",
    "        auto._objem_nadrze = self._objem_nadrze\n",
    "                \n",
    "auta = Auta()\n",
    "\n",
    "ZmenZnackuAuta(auta, \"1H34576\", \"Nissan\").zmen()\n",
    "ZmenObjemNadrzeAuta(auta, \"7P38863\", 100).zmen()\n",
    "auta.print()"
   ]
  },
  {
   "cell_type": "markdown",
   "id": "e8f492e0-8ba5-49f7-b9ec-c2988ef6b75c",
   "metadata": {},
   "source": [
    "V případě, že budeme chtít změnit typ ze slovníku zpět na pole provedeme změny pouze v třídě Auto a vše ostatní funguje."
   ]
  },
  {
   "cell_type": "code",
   "execution_count": 11,
   "id": "1466bdb0-d6dc-4055-b841-6b76a6207279",
   "metadata": {},
   "outputs": [
    {
     "name": "stdout",
     "output_type": "stream",
     "text": [
      "Auto s SPZ: 1H34576 značky Nissan a objemem nádrže 70 litrů\n",
      "Auto s SPZ: 7P38863 značky Audi a objemem nádrže 100 litrů\n"
     ]
    }
   ],
   "source": [
    "class Auta:\n",
    "    \n",
    "    def __init__(self):\n",
    "        self._auta = [Auto(\"1H34576\", \"Volvo\", 70),\n",
    "            Auto(\"7P38863\", \"Audi\", 60)]\n",
    "        \n",
    "    def print(self):\n",
    "        for auto in self._auta:\n",
    "            auto.print()\n",
    "            \n",
    "    def najdi_podle_spz(self, spz: str):\n",
    "        for auto in self._auta:\n",
    "            if auto._spz == spz:\n",
    "                return auto\n",
    "    \n",
    "auta = Auta()\n",
    "\n",
    "ZmenZnackuAuta(auta, \"1H34576\", \"Nissan\").zmen()\n",
    "ZmenObjemNadrzeAuta(auta, \"7P38863\", 100).zmen()\n",
    "auta.print()"
   ]
  },
  {
   "cell_type": "markdown",
   "id": "5fd42543-5cad-4d95-b37a-973b2019c0c4",
   "metadata": {},
   "source": [
    "**Otázky**\n",
    "### Abstrakce\n",
    "**Otázky**\n",
    "* Co si pod tím představíte\n",
    "* Abstrakce v reálném světě\n",
    "\n",
    "Abstrakce je o schovávání implementačních detailů, komplexity daného problému za jednoduché rozhraní.\\\n",
    "Příkladem může být řízení auta. Strčíte klíč a nastartujete, otáčíte volantem, řadící páku dávate do nékolika poloh, brzda, plyn a občas doplnim palivo. O míchání paliva se vzduchem, řízení vstřikování nebo do konce o ovládání komponent změnou elektrického napětí se nemusíme vůbec starat."
   ]
  },
  {
   "cell_type": "code",
   "execution_count": 12,
   "id": "a5d8eb93-f5fa-48b0-b1df-f51dccf35773",
   "metadata": {},
   "outputs": [],
   "source": [
    "class Auto:\n",
    "    \n",
    "    def otoc_volantem(uhel):\n",
    "        pass\n",
    "    \n",
    "    def zarad(stupen):\n",
    "        pass\n",
    "    \n",
    "    def seslapni_plyn(intenzita):\n",
    "        pass\n",
    "    \n",
    "    def seslapni_brzdu(intenzita):\n",
    "        pass"
   ]
  },
  {
   "cell_type": "markdown",
   "id": "b14d2be5-4a09-4464-9048-641de8cda7df",
   "metadata": {},
   "source": [
    "**Otázky**\n",
    "\n",
    "Abstrakce je také o redukci implementačních detailů na nezbytné množství pro požadovanou funkčnost.\\\n",
    "Pokud chceme evidovat ujeté kilometry a tankování není nutné, aby náš objekt auta implementoval funkcionalitu řízení.\n",
    "\n",
    "Pokud dělám jednoduchou hru s auty, stačí mi určit zrychlení úměrně k množství plynu a rychlosti a nepotřebuji implementovat spalování v motoru, jeho výsledné otáčku a jejich přenos do rychlosti.\n",
    "\n",
    "V již zmíněném příkladě:"
   ]
  },
  {
   "cell_type": "code",
   "execution_count": 13,
   "id": "c6ce2214-9e9e-41a2-9d34-41f42e3776ef",
   "metadata": {},
   "outputs": [],
   "source": [
    "class Auta:\n",
    "    \n",
    "    def __init__(self):\n",
    "        self._auta = {\n",
    "            \"1H34576\": Auto(\"1H34576\", \"Volvo\", 70),\n",
    "            \"7P38863\": Auto(\"7P38863\", \"Audi\", 60)\n",
    "        }\n",
    "        \n",
    "    def print(self):\n",
    "        for auto in self._auta.values():\n",
    "            auto.print()\n",
    "            \n",
    "    def najdi_podle_spz(self, spz: str):\n",
    "        return self._auta.get(spz)"
   ]
  },
  {
   "cell_type": "markdown",
   "id": "e73b4d61-900f-4bfe-9c77-eb402f4e4e1f",
   "metadata": {},
   "source": [
    "Jsme implementovali uložiště automobilů pouze v paměti, protože pro naší ukázku to bylo dostatečné. V reálné aplikaci by tato třída ```Auta``` mohla reprezentovat přístup do relační databáze a byla o něco složitější, ale mi bychom s ní stále pracovali jednoduše.\n",
    "\n",
    "**Otázky**\\\n",
    "**Úkol**\\\n",
    "Naimplementovat v naší aplikaci ukládání aut do souboru."
   ]
  },
  {
   "cell_type": "markdown",
   "id": "a57ebed0-1d56-4af0-8cfe-33b1357c2eef",
   "metadata": {},
   "source": [
    "# Vyšsí myšlenka OOP\n",
    "Objektově orientované programování nekončí u objektů a čtyř pilířu, ale začíná. Přijde mi, že myšlenka OOP je dnes dost formalizovaná a hodně orientovaná na objekty, ale ve skutečnosti toho skrývá mnohem více.\n",
    "\n",
    "S názvem pro Objektově orientované programování přišel [Alan Kay](https://en.wikipedia.org/wiki/Alan_Kay) a řekl o něm několik věcí:\n",
    "\n",
    "> I'm sorry that I long ago coined the term \"objects\" for this topic because it gets many people to focus on the\n",
    "lesser idea. The big idea is messaging. [odkaz](http://lists.squeakfoundation.org/pipermail/squeak-dev/1998-October/017019.html)\n",
    "\n",
    "> OOP to me means only messaging, local retention and protection and hiding of state-process, and extreme late-binding of all things. [odkaz](https://www.purl.org/stefan_ram/pub/doc_kay_oop_en)\n",
    "\n",
    "> The whole point of OOP is not to have to worry about what is inside an object. Objects made on different machines and with different languages should be able to talk to each other. [odkaz](http://worrydream.com/EarlyHistoryOfSmalltalk/)\n",
    "\n",
    "**Otázky**\n",
    "\n",
    "## Messaging (Zasílání zpráv)\n",
    "Alan Kay říká, že hlavní myšlenkou OOP je zasílání zpráv. Zasílání zpráv může mít spustu významů a podob. Je to jeden ze způsobů komunikace v distribuovaných systémech, ale na druhou stranu i volání method objektů pro získání informací a provedení operací se do toho dá počítat.\n",
    "\n",
    "Na to jak by dané zprávy měli vypadat není lehká odpověď a pravděpodobně se to vždy bude lišit v závislosti na reálných případech, ale pokud se budete snažit sdružovat související data a operace nad nimi, jste na dobré cestě. Inspirovat se můžete principem [TellDontAsk](https://martinfowler.com/bliki/TellDontAsk.html).\n",
    "\n",
    "<img src=\"TellDontAsk.PNG\" width=\"300\">\n",
    "\n",
    "**Otázky**\n",
    "\n",
    "V našem automobilovém kontextu bychom si to mohli vyzkoušet na tankování. Auto má nějaký objem nádrže a paliva, vy akorát vezmete hadici, zasunete ji, zmáčknete a čekáte až bude plno."
   ]
  },
  {
   "cell_type": "code",
   "execution_count": 14,
   "id": "e622000e-6361-459a-8aaa-c847f496330e",
   "metadata": {},
   "outputs": [
    {
     "name": "stdout",
     "output_type": "stream",
     "text": [
      "Před tankováním\n",
      "Objem paliva v nádrži: 10\n",
      "Objem paliva na pumpě: 1000\n",
      "\n",
      "Po tankování\n",
      "Objem paliva v nádrži: 110\n",
      "Objem paliva na pumpě: 900\n"
     ]
    }
   ],
   "source": [
    "class Nadrz:\n",
    "    \n",
    "    def __init__(self):\n",
    "        self._objem_nadrze = 110\n",
    "        self._objem_paliva = 10\n",
    "\n",
    "class Hadice:\n",
    "    \n",
    "    def __init__(self):\n",
    "        self._prutok = 1\n",
    "        \n",
    "class NadrzPumpy:\n",
    "    \n",
    "    def __init__(self):\n",
    "        self._objem_paliva = 1000\n",
    "\n",
    "def print_stav_paliva(hlavicka):\n",
    "    print(hlavicka)\n",
    "    print(f\"Objem paliva v nádrži: {nadrz._objem_paliva}\")\n",
    "    print(f\"Objem paliva na pumpě: {nadrz_pumpy._objem_paliva}\")\n",
    "\n",
    "nadrz = Nadrz()\n",
    "hadice = Hadice()\n",
    "nadrz_pumpy = NadrzPumpy()\n",
    "\n",
    "print_stav_paliva(\"Před tankováním\")\n",
    "\n",
    "while (nadrz._objem_nadrze - nadrz._objem_paliva) >= hadice._prutok and nadrz_pumpy._objem_paliva >= hadice._prutok:\n",
    "        nadrz_pumpy._objem_paliva -= hadice._prutok\n",
    "        nadrz._objem_paliva += hadice._prutok\n",
    "\n",
    "print_stav_paliva(\"\\nPo tankování\")"
   ]
  },
  {
   "cell_type": "code",
   "execution_count": 15,
   "id": "3b6428dc-d307-4c2f-8101-c3ce9d7e8cfe",
   "metadata": {},
   "outputs": [
    {
     "name": "stdout",
     "output_type": "stream",
     "text": [
      "Před tankováním\n",
      "Objem paliva v nádrži: 10\n",
      "Objem paliva na pumpě: 1000\n",
      "\n",
      "Po tankování\n",
      "Objem paliva v nádrži: 110\n",
      "Objem paliva na pumpě: 900\n"
     ]
    }
   ],
   "source": [
    "class Nadrz:\n",
    "    \n",
    "    def __init__(self):\n",
    "        self._objem_nadrze = 110\n",
    "        self._objem_paliva = 10\n",
    "    \n",
    "    def prijmes(self, objem): # Sdružení logiky a dat\n",
    "        return self._objem_nadrze - self._objem_paliva > 0\n",
    "    \n",
    "    def prijmi(self, objem): # Sdružení logiky a dat\n",
    "        self._objem_paliva += objem\n",
    "\n",
    "class Hadice:\n",
    "    \n",
    "    def __init__(self):\n",
    "        self._prutok = 1\n",
    "        \n",
    "class NadrzPumpy:\n",
    "    \n",
    "    def __init__(self):\n",
    "        self._objem_paliva = 1000\n",
    "        \n",
    "    def vydas(self, objem): # Sdružení logiky a dat\n",
    "        return nadrz_pumpy._objem_paliva >= objem \n",
    "     \n",
    "    def vydej(self, objem): # Sdružení logiky a dat\n",
    "        self._objem_paliva -= objem\n",
    "        return objem\n",
    "\n",
    "nadrz = Nadrz()\n",
    "hadice = Hadice()\n",
    "nadrz_pumpy = NadrzPumpy()\n",
    "\n",
    "print_stav_paliva(\"Před tankováním\")\n",
    "\n",
    "while nadrz.prijmes(hadice._prutok) and nadrz_pumpy.vydas(hadice._prutok):\n",
    "        nadrz_pumpy.vydej(hadice._prutok)\n",
    "        nadrz.prijmi(hadice._prutok)\n",
    "\n",
    "print_stav_paliva(\"\\nPo tankování\")"
   ]
  },
  {
   "cell_type": "code",
   "execution_count": 16,
   "id": "ff801eb6-e298-4ede-b1e8-b4e734755438",
   "metadata": {},
   "outputs": [
    {
     "name": "stdout",
     "output_type": "stream",
     "text": [
      "Před tankováním\n",
      "Objem paliva v nádrži: 10\n",
      "Objem paliva na pumpě: 1000\n",
      "\n",
      "Po tankování\n",
      "Objem paliva v nádrži: 110\n",
      "Objem paliva na pumpě: 900\n"
     ]
    }
   ],
   "source": [
    "class Hadice:\n",
    "    \n",
    "    def __init__(self, nadrz_pumpy):\n",
    "        self._prutok = 1\n",
    "        self._nadrz_pumpy = nadrz_pumpy\n",
    "    \n",
    "    def tankuj(self, nadrz): # Sdružení logiky a dat\n",
    "        while nadrz.prijmes(hadice._prutok) and self._nadrz_pumpy.vydas(hadice._prutok):\n",
    "            self._nadrz_pumpy.vydej(hadice._prutok) \n",
    "            nadrz.prijmi(hadice._prutok) # Co když nádrž je už plná? Vytratí se nám palivo? nebo ho máme vrátit změt do nádrže? \n",
    "        \n",
    "nadrz = Nadrz()\n",
    "nadrz_pumpy = NadrzPumpy()\n",
    "hadice = Hadice(nadrz_pumpy)\n",
    "\n",
    "\n",
    "print_stav_paliva(\"Před tankováním\")\n",
    "hadice.tankuj(nadrz)\n",
    "print_stav_paliva(\"\\nPo tankování\")"
   ]
  },
  {
   "cell_type": "markdown",
   "id": "27256ce7-c6fc-44f2-8325-87b84ac13655",
   "metadata": {},
   "source": [
    "**Úkol:** \n",
    "* vyřešit nedostatek kódu výše\n",
    "* Množství paliva, které přibylo v nádrži auta se musí rovnat množství paliva, které ubylo v nádrži pumpy.\n",
    "* Ideálně napsat si test.\n",
    "\n",
    "**Moje řešení**"
   ]
  },
  {
   "cell_type": "code",
   "execution_count": 18,
   "id": "d977cd5a-e7b4-489c-908c-fa28cf0b05bc",
   "metadata": {},
   "outputs": [
    {
     "name": "stdout",
     "output_type": "stream",
     "text": [
      "Před tankováním\n",
      "Objem paliva v nádrži: 10\n",
      "Objem paliva na pumpě: 1000\n",
      "\n",
      "Po tankování\n",
      "Objem paliva v nádrži: 110\n",
      "Objem paliva na pumpě: 900\n"
     ]
    }
   ],
   "source": [
    "# 1. Nadrz Auta se pta na palivo\n",
    "# 2. Redukce prijmes/vydas prijmi/vydej na dejmnozstvi a vrati se mi kolik to dalo \n",
    "class Nadrz:\n",
    "    \n",
    "    def __init__(self):\n",
    "        self._objem_nadrze = 110\n",
    "        self._objem_paliva = 10\n",
    "    \n",
    "    def tankuj(self, hadice):\n",
    "        while self._objem_paliva < self._objem_nadrze:\n",
    "            vydane_palivo = hadice.vydej(self._objem_nadrze - self._objem_paliva)\n",
    "            self._objem_paliva += vydane_palivo\n",
    "            if (vydane_palivo == 0):\n",
    "                return\n",
    "\n",
    "class Hadice:\n",
    "    \n",
    "    def __init__(self, nadrz_pumpy):\n",
    "        self._prutok = 1\n",
    "        self._nadrz_pumpy = nadrz_pumpy\n",
    "    \n",
    "    def vydej(self, objem):\n",
    "        return self._nadrz_pumpy.vydej(objem)\n",
    "    \n",
    "        \n",
    "class NadrzPumpy:\n",
    "    \n",
    "    def __init__(self):\n",
    "        self._objem_paliva = 1000\n",
    "     \n",
    "    def vydej(self, objem):\n",
    "        if (self._objem_paliva - objem > 0):\n",
    "            objem_k_vydani =  objem\n",
    "        else:\n",
    "            objem_k_vydani = self._objem_paliva\n",
    "            \n",
    "        self._objem_paliva -= objem_k_vydani\n",
    "        return objem_k_vydani\n",
    "\n",
    "def print_stav_paliva(hlavicka):\n",
    "    print(hlavicka)\n",
    "    print(f\"Objem paliva v nádrži: {nadrz._objem_paliva}\")\n",
    "    print(f\"Objem paliva na pumpě: {nadrz_pumpy._objem_paliva}\")\n",
    "\n",
    "nadrz = Nadrz()\n",
    "nadrz_pumpy = NadrzPumpy()\n",
    "hadice = Hadice(nadrz_pumpy)\n",
    "\n",
    "print_stav_paliva(\"Před tankováním\")\n",
    "\n",
    "nadrz.tankuj(hadice)\n",
    "\n",
    "print_stav_paliva(\"\\nPo tankování\")"
   ]
  },
  {
   "cell_type": "markdown",
   "id": "178e65af-5adb-407f-b2e6-13aaa6f9eb24",
   "metadata": {},
   "source": [
    "**Otázky**\n",
    "\n",
    "Další a lépe pochopitelný přiklad zasílání zpráv, by mohlo být zaslání zprávy o tankování.\n",
    "\n",
    "**Úkol**\n",
    "* Chci vystavit fakturu zákazníkovy po vrácení vozdidla\n",
    "* Kromě standartní ceny za půjčení se ještě účtuje cena za chybějící palivo v nádrži\n",
    "* Po přijmutí vozu pracovník natankuje a zašle zprávu na finanční oddělení\n",
    "* Následně finanční oddělení vystaví fakturu zákazníkovi"
   ]
  },
  {
   "cell_type": "markdown",
   "id": "cc7e3a9b-0c81-4c82-aab7-30a26cbd7ccc",
   "metadata": {},
   "source": [
    "# Shrnutí\n",
    "* Zákaldní pilíře OOP\n",
    "    * **Polymorfismus** \n",
    "        * pracuji s různými objekty steným způsobem\n",
    "    * **Dědičnost**\n",
    "        * rodičovský objekt sdílí atributy a logiku s potomky\n",
    "    * **Zapozdření**\n",
    "        * schováváme/chráníme data a logiku před vnějším světem\n",
    "    * **Abstrakce**\n",
    "        * schováváme implementační detaily, komplexitu za jednoduché rozhraní\n",
    "        * redukujeme komplexní zadání na jednoduší\n",
    "* Vyšší myšlenka OOP\n",
    "    * s OOP příšel Alan Kay\n",
    "    * hlavní myšlenka je zasílání zpráv\n",
    "    * sdružování dat a logiky by mělo vést k udržitelnějšímu a čitelnějšímu kódu"
   ]
  }
 ],
 "metadata": {
  "kernelspec": {
   "display_name": "Python 3 (ipykernel)",
   "language": "python",
   "name": "python3"
  },
  "language_info": {
   "codemirror_mode": {
    "name": "ipython",
    "version": 3
   },
   "file_extension": ".py",
   "mimetype": "text/x-python",
   "name": "python",
   "nbconvert_exporter": "python",
   "pygments_lexer": "ipython3",
   "version": "3.10.9"
  }
 },
 "nbformat": 4,
 "nbformat_minor": 5
}
